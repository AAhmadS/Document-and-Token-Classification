{
  "nbformat": 4,
  "nbformat_minor": 0,
  "metadata": {
    "colab": {
      "provenance": [],
      "toc_visible": true,
      "gpuType": "T4",
      "authorship_tag": "ABX9TyN8nT8ce3yzTVFApsGo5Fji",
      "include_colab_link": true
    },
    "kernelspec": {
      "name": "python3",
      "display_name": "Python 3"
    },
    "language_info": {
      "name": "python"
    },
    "accelerator": "GPU",
    "widgets": {
      "application/vnd.jupyter.widget-state+json": {
        "6a9cfb88842e4bf8bebf11b94e6f1246": {
          "model_module": "@jupyter-widgets/controls",
          "model_name": "HBoxModel",
          "model_module_version": "1.5.0",
          "state": {
            "_dom_classes": [],
            "_model_module": "@jupyter-widgets/controls",
            "_model_module_version": "1.5.0",
            "_model_name": "HBoxModel",
            "_view_count": null,
            "_view_module": "@jupyter-widgets/controls",
            "_view_module_version": "1.5.0",
            "_view_name": "HBoxView",
            "box_style": "",
            "children": [
              "IPY_MODEL_8d78c47330644f4dab0d7cc9796614a8",
              "IPY_MODEL_c433909af0d1472b9ac35d64c69437e3",
              "IPY_MODEL_9068a2f9d14e4d0c998fc4e668208c09"
            ],
            "layout": "IPY_MODEL_ea0ccd4c13a14b06827813d10ae6b2ca"
          }
        },
        "8d78c47330644f4dab0d7cc9796614a8": {
          "model_module": "@jupyter-widgets/controls",
          "model_name": "HTMLModel",
          "model_module_version": "1.5.0",
          "state": {
            "_dom_classes": [],
            "_model_module": "@jupyter-widgets/controls",
            "_model_module_version": "1.5.0",
            "_model_name": "HTMLModel",
            "_view_count": null,
            "_view_module": "@jupyter-widgets/controls",
            "_view_module_version": "1.5.0",
            "_view_name": "HTMLView",
            "description": "",
            "description_tooltip": null,
            "layout": "IPY_MODEL_e59625be84db480ab7d0e26257007a88",
            "placeholder": "​",
            "style": "IPY_MODEL_6c97ad59c12b4f11bfaaa96f0849289c",
            "value": "Downloading (…)solve/main/vocab.txt: 100%"
          }
        },
        "c433909af0d1472b9ac35d64c69437e3": {
          "model_module": "@jupyter-widgets/controls",
          "model_name": "FloatProgressModel",
          "model_module_version": "1.5.0",
          "state": {
            "_dom_classes": [],
            "_model_module": "@jupyter-widgets/controls",
            "_model_module_version": "1.5.0",
            "_model_name": "FloatProgressModel",
            "_view_count": null,
            "_view_module": "@jupyter-widgets/controls",
            "_view_module_version": "1.5.0",
            "_view_name": "ProgressView",
            "bar_style": "success",
            "description": "",
            "description_tooltip": null,
            "layout": "IPY_MODEL_a964551a65b94ab3800e9bd5d8d44033",
            "max": 1198122,
            "min": 0,
            "orientation": "horizontal",
            "style": "IPY_MODEL_743391e669aa42669c5b3a874112ed71",
            "value": 1198122
          }
        },
        "9068a2f9d14e4d0c998fc4e668208c09": {
          "model_module": "@jupyter-widgets/controls",
          "model_name": "HTMLModel",
          "model_module_version": "1.5.0",
          "state": {
            "_dom_classes": [],
            "_model_module": "@jupyter-widgets/controls",
            "_model_module_version": "1.5.0",
            "_model_name": "HTMLModel",
            "_view_count": null,
            "_view_module": "@jupyter-widgets/controls",
            "_view_module_version": "1.5.0",
            "_view_name": "HTMLView",
            "description": "",
            "description_tooltip": null,
            "layout": "IPY_MODEL_a9ecc112f28244c8ba52c0228a9d8d6f",
            "placeholder": "​",
            "style": "IPY_MODEL_27c006aa87204eeb915854f920d8672b",
            "value": " 1.20M/1.20M [00:00&lt;00:00, 11.2MB/s]"
          }
        },
        "ea0ccd4c13a14b06827813d10ae6b2ca": {
          "model_module": "@jupyter-widgets/base",
          "model_name": "LayoutModel",
          "model_module_version": "1.2.0",
          "state": {
            "_model_module": "@jupyter-widgets/base",
            "_model_module_version": "1.2.0",
            "_model_name": "LayoutModel",
            "_view_count": null,
            "_view_module": "@jupyter-widgets/base",
            "_view_module_version": "1.2.0",
            "_view_name": "LayoutView",
            "align_content": null,
            "align_items": null,
            "align_self": null,
            "border": null,
            "bottom": null,
            "display": null,
            "flex": null,
            "flex_flow": null,
            "grid_area": null,
            "grid_auto_columns": null,
            "grid_auto_flow": null,
            "grid_auto_rows": null,
            "grid_column": null,
            "grid_gap": null,
            "grid_row": null,
            "grid_template_areas": null,
            "grid_template_columns": null,
            "grid_template_rows": null,
            "height": null,
            "justify_content": null,
            "justify_items": null,
            "left": null,
            "margin": null,
            "max_height": null,
            "max_width": null,
            "min_height": null,
            "min_width": null,
            "object_fit": null,
            "object_position": null,
            "order": null,
            "overflow": null,
            "overflow_x": null,
            "overflow_y": null,
            "padding": null,
            "right": null,
            "top": null,
            "visibility": null,
            "width": null
          }
        },
        "e59625be84db480ab7d0e26257007a88": {
          "model_module": "@jupyter-widgets/base",
          "model_name": "LayoutModel",
          "model_module_version": "1.2.0",
          "state": {
            "_model_module": "@jupyter-widgets/base",
            "_model_module_version": "1.2.0",
            "_model_name": "LayoutModel",
            "_view_count": null,
            "_view_module": "@jupyter-widgets/base",
            "_view_module_version": "1.2.0",
            "_view_name": "LayoutView",
            "align_content": null,
            "align_items": null,
            "align_self": null,
            "border": null,
            "bottom": null,
            "display": null,
            "flex": null,
            "flex_flow": null,
            "grid_area": null,
            "grid_auto_columns": null,
            "grid_auto_flow": null,
            "grid_auto_rows": null,
            "grid_column": null,
            "grid_gap": null,
            "grid_row": null,
            "grid_template_areas": null,
            "grid_template_columns": null,
            "grid_template_rows": null,
            "height": null,
            "justify_content": null,
            "justify_items": null,
            "left": null,
            "margin": null,
            "max_height": null,
            "max_width": null,
            "min_height": null,
            "min_width": null,
            "object_fit": null,
            "object_position": null,
            "order": null,
            "overflow": null,
            "overflow_x": null,
            "overflow_y": null,
            "padding": null,
            "right": null,
            "top": null,
            "visibility": null,
            "width": null
          }
        },
        "6c97ad59c12b4f11bfaaa96f0849289c": {
          "model_module": "@jupyter-widgets/controls",
          "model_name": "DescriptionStyleModel",
          "model_module_version": "1.5.0",
          "state": {
            "_model_module": "@jupyter-widgets/controls",
            "_model_module_version": "1.5.0",
            "_model_name": "DescriptionStyleModel",
            "_view_count": null,
            "_view_module": "@jupyter-widgets/base",
            "_view_module_version": "1.2.0",
            "_view_name": "StyleView",
            "description_width": ""
          }
        },
        "a964551a65b94ab3800e9bd5d8d44033": {
          "model_module": "@jupyter-widgets/base",
          "model_name": "LayoutModel",
          "model_module_version": "1.2.0",
          "state": {
            "_model_module": "@jupyter-widgets/base",
            "_model_module_version": "1.2.0",
            "_model_name": "LayoutModel",
            "_view_count": null,
            "_view_module": "@jupyter-widgets/base",
            "_view_module_version": "1.2.0",
            "_view_name": "LayoutView",
            "align_content": null,
            "align_items": null,
            "align_self": null,
            "border": null,
            "bottom": null,
            "display": null,
            "flex": null,
            "flex_flow": null,
            "grid_area": null,
            "grid_auto_columns": null,
            "grid_auto_flow": null,
            "grid_auto_rows": null,
            "grid_column": null,
            "grid_gap": null,
            "grid_row": null,
            "grid_template_areas": null,
            "grid_template_columns": null,
            "grid_template_rows": null,
            "height": null,
            "justify_content": null,
            "justify_items": null,
            "left": null,
            "margin": null,
            "max_height": null,
            "max_width": null,
            "min_height": null,
            "min_width": null,
            "object_fit": null,
            "object_position": null,
            "order": null,
            "overflow": null,
            "overflow_x": null,
            "overflow_y": null,
            "padding": null,
            "right": null,
            "top": null,
            "visibility": null,
            "width": null
          }
        },
        "743391e669aa42669c5b3a874112ed71": {
          "model_module": "@jupyter-widgets/controls",
          "model_name": "ProgressStyleModel",
          "model_module_version": "1.5.0",
          "state": {
            "_model_module": "@jupyter-widgets/controls",
            "_model_module_version": "1.5.0",
            "_model_name": "ProgressStyleModel",
            "_view_count": null,
            "_view_module": "@jupyter-widgets/base",
            "_view_module_version": "1.2.0",
            "_view_name": "StyleView",
            "bar_color": null,
            "description_width": ""
          }
        },
        "a9ecc112f28244c8ba52c0228a9d8d6f": {
          "model_module": "@jupyter-widgets/base",
          "model_name": "LayoutModel",
          "model_module_version": "1.2.0",
          "state": {
            "_model_module": "@jupyter-widgets/base",
            "_model_module_version": "1.2.0",
            "_model_name": "LayoutModel",
            "_view_count": null,
            "_view_module": "@jupyter-widgets/base",
            "_view_module_version": "1.2.0",
            "_view_name": "LayoutView",
            "align_content": null,
            "align_items": null,
            "align_self": null,
            "border": null,
            "bottom": null,
            "display": null,
            "flex": null,
            "flex_flow": null,
            "grid_area": null,
            "grid_auto_columns": null,
            "grid_auto_flow": null,
            "grid_auto_rows": null,
            "grid_column": null,
            "grid_gap": null,
            "grid_row": null,
            "grid_template_areas": null,
            "grid_template_columns": null,
            "grid_template_rows": null,
            "height": null,
            "justify_content": null,
            "justify_items": null,
            "left": null,
            "margin": null,
            "max_height": null,
            "max_width": null,
            "min_height": null,
            "min_width": null,
            "object_fit": null,
            "object_position": null,
            "order": null,
            "overflow": null,
            "overflow_x": null,
            "overflow_y": null,
            "padding": null,
            "right": null,
            "top": null,
            "visibility": null,
            "width": null
          }
        },
        "27c006aa87204eeb915854f920d8672b": {
          "model_module": "@jupyter-widgets/controls",
          "model_name": "DescriptionStyleModel",
          "model_module_version": "1.5.0",
          "state": {
            "_model_module": "@jupyter-widgets/controls",
            "_model_module_version": "1.5.0",
            "_model_name": "DescriptionStyleModel",
            "_view_count": null,
            "_view_module": "@jupyter-widgets/base",
            "_view_module_version": "1.2.0",
            "_view_name": "StyleView",
            "description_width": ""
          }
        },
        "47e744cdf65747a597efc28af2ccfd0e": {
          "model_module": "@jupyter-widgets/controls",
          "model_name": "HBoxModel",
          "model_module_version": "1.5.0",
          "state": {
            "_dom_classes": [],
            "_model_module": "@jupyter-widgets/controls",
            "_model_module_version": "1.5.0",
            "_model_name": "HBoxModel",
            "_view_count": null,
            "_view_module": "@jupyter-widgets/controls",
            "_view_module_version": "1.5.0",
            "_view_name": "HBoxView",
            "box_style": "",
            "children": [
              "IPY_MODEL_d293871d23fa4141a3068633dfb9ba74",
              "IPY_MODEL_cc3b874915b54fae923e9f811dba883c",
              "IPY_MODEL_106571c80ca949b29e76c87243f36d5a"
            ],
            "layout": "IPY_MODEL_2600dfae8e334ecb824b0fb1c4e069c1"
          }
        },
        "d293871d23fa4141a3068633dfb9ba74": {
          "model_module": "@jupyter-widgets/controls",
          "model_name": "HTMLModel",
          "model_module_version": "1.5.0",
          "state": {
            "_dom_classes": [],
            "_model_module": "@jupyter-widgets/controls",
            "_model_module_version": "1.5.0",
            "_model_name": "HTMLModel",
            "_view_count": null,
            "_view_module": "@jupyter-widgets/controls",
            "_view_module_version": "1.5.0",
            "_view_name": "HTMLView",
            "description": "",
            "description_tooltip": null,
            "layout": "IPY_MODEL_6265ce6586ef40e28c63e80009ba1f22",
            "placeholder": "​",
            "style": "IPY_MODEL_788fa1fb4dfc41f79536db16fa73378d",
            "value": "Downloading (…)lve/main/config.json: 100%"
          }
        },
        "cc3b874915b54fae923e9f811dba883c": {
          "model_module": "@jupyter-widgets/controls",
          "model_name": "FloatProgressModel",
          "model_module_version": "1.5.0",
          "state": {
            "_dom_classes": [],
            "_model_module": "@jupyter-widgets/controls",
            "_model_module_version": "1.5.0",
            "_model_name": "FloatProgressModel",
            "_view_count": null,
            "_view_module": "@jupyter-widgets/controls",
            "_view_module_version": "1.5.0",
            "_view_name": "ProgressView",
            "bar_style": "success",
            "description": "",
            "description_tooltip": null,
            "layout": "IPY_MODEL_b6965c0fcca749ad8647bfb14903375a",
            "max": 440,
            "min": 0,
            "orientation": "horizontal",
            "style": "IPY_MODEL_5a0f7eee3a94481fb583a9530ae9b2d0",
            "value": 440
          }
        },
        "106571c80ca949b29e76c87243f36d5a": {
          "model_module": "@jupyter-widgets/controls",
          "model_name": "HTMLModel",
          "model_module_version": "1.5.0",
          "state": {
            "_dom_classes": [],
            "_model_module": "@jupyter-widgets/controls",
            "_model_module_version": "1.5.0",
            "_model_name": "HTMLModel",
            "_view_count": null,
            "_view_module": "@jupyter-widgets/controls",
            "_view_module_version": "1.5.0",
            "_view_name": "HTMLView",
            "description": "",
            "description_tooltip": null,
            "layout": "IPY_MODEL_d5a21a9ea4054d2c9d484cb28863c70b",
            "placeholder": "​",
            "style": "IPY_MODEL_4a7dc627882f4c608833aa9761d32ec2",
            "value": " 440/440 [00:00&lt;00:00, 17.4kB/s]"
          }
        },
        "2600dfae8e334ecb824b0fb1c4e069c1": {
          "model_module": "@jupyter-widgets/base",
          "model_name": "LayoutModel",
          "model_module_version": "1.2.0",
          "state": {
            "_model_module": "@jupyter-widgets/base",
            "_model_module_version": "1.2.0",
            "_model_name": "LayoutModel",
            "_view_count": null,
            "_view_module": "@jupyter-widgets/base",
            "_view_module_version": "1.2.0",
            "_view_name": "LayoutView",
            "align_content": null,
            "align_items": null,
            "align_self": null,
            "border": null,
            "bottom": null,
            "display": null,
            "flex": null,
            "flex_flow": null,
            "grid_area": null,
            "grid_auto_columns": null,
            "grid_auto_flow": null,
            "grid_auto_rows": null,
            "grid_column": null,
            "grid_gap": null,
            "grid_row": null,
            "grid_template_areas": null,
            "grid_template_columns": null,
            "grid_template_rows": null,
            "height": null,
            "justify_content": null,
            "justify_items": null,
            "left": null,
            "margin": null,
            "max_height": null,
            "max_width": null,
            "min_height": null,
            "min_width": null,
            "object_fit": null,
            "object_position": null,
            "order": null,
            "overflow": null,
            "overflow_x": null,
            "overflow_y": null,
            "padding": null,
            "right": null,
            "top": null,
            "visibility": null,
            "width": null
          }
        },
        "6265ce6586ef40e28c63e80009ba1f22": {
          "model_module": "@jupyter-widgets/base",
          "model_name": "LayoutModel",
          "model_module_version": "1.2.0",
          "state": {
            "_model_module": "@jupyter-widgets/base",
            "_model_module_version": "1.2.0",
            "_model_name": "LayoutModel",
            "_view_count": null,
            "_view_module": "@jupyter-widgets/base",
            "_view_module_version": "1.2.0",
            "_view_name": "LayoutView",
            "align_content": null,
            "align_items": null,
            "align_self": null,
            "border": null,
            "bottom": null,
            "display": null,
            "flex": null,
            "flex_flow": null,
            "grid_area": null,
            "grid_auto_columns": null,
            "grid_auto_flow": null,
            "grid_auto_rows": null,
            "grid_column": null,
            "grid_gap": null,
            "grid_row": null,
            "grid_template_areas": null,
            "grid_template_columns": null,
            "grid_template_rows": null,
            "height": null,
            "justify_content": null,
            "justify_items": null,
            "left": null,
            "margin": null,
            "max_height": null,
            "max_width": null,
            "min_height": null,
            "min_width": null,
            "object_fit": null,
            "object_position": null,
            "order": null,
            "overflow": null,
            "overflow_x": null,
            "overflow_y": null,
            "padding": null,
            "right": null,
            "top": null,
            "visibility": null,
            "width": null
          }
        },
        "788fa1fb4dfc41f79536db16fa73378d": {
          "model_module": "@jupyter-widgets/controls",
          "model_name": "DescriptionStyleModel",
          "model_module_version": "1.5.0",
          "state": {
            "_model_module": "@jupyter-widgets/controls",
            "_model_module_version": "1.5.0",
            "_model_name": "DescriptionStyleModel",
            "_view_count": null,
            "_view_module": "@jupyter-widgets/base",
            "_view_module_version": "1.2.0",
            "_view_name": "StyleView",
            "description_width": ""
          }
        },
        "b6965c0fcca749ad8647bfb14903375a": {
          "model_module": "@jupyter-widgets/base",
          "model_name": "LayoutModel",
          "model_module_version": "1.2.0",
          "state": {
            "_model_module": "@jupyter-widgets/base",
            "_model_module_version": "1.2.0",
            "_model_name": "LayoutModel",
            "_view_count": null,
            "_view_module": "@jupyter-widgets/base",
            "_view_module_version": "1.2.0",
            "_view_name": "LayoutView",
            "align_content": null,
            "align_items": null,
            "align_self": null,
            "border": null,
            "bottom": null,
            "display": null,
            "flex": null,
            "flex_flow": null,
            "grid_area": null,
            "grid_auto_columns": null,
            "grid_auto_flow": null,
            "grid_auto_rows": null,
            "grid_column": null,
            "grid_gap": null,
            "grid_row": null,
            "grid_template_areas": null,
            "grid_template_columns": null,
            "grid_template_rows": null,
            "height": null,
            "justify_content": null,
            "justify_items": null,
            "left": null,
            "margin": null,
            "max_height": null,
            "max_width": null,
            "min_height": null,
            "min_width": null,
            "object_fit": null,
            "object_position": null,
            "order": null,
            "overflow": null,
            "overflow_x": null,
            "overflow_y": null,
            "padding": null,
            "right": null,
            "top": null,
            "visibility": null,
            "width": null
          }
        },
        "5a0f7eee3a94481fb583a9530ae9b2d0": {
          "model_module": "@jupyter-widgets/controls",
          "model_name": "ProgressStyleModel",
          "model_module_version": "1.5.0",
          "state": {
            "_model_module": "@jupyter-widgets/controls",
            "_model_module_version": "1.5.0",
            "_model_name": "ProgressStyleModel",
            "_view_count": null,
            "_view_module": "@jupyter-widgets/base",
            "_view_module_version": "1.2.0",
            "_view_name": "StyleView",
            "bar_color": null,
            "description_width": ""
          }
        },
        "d5a21a9ea4054d2c9d484cb28863c70b": {
          "model_module": "@jupyter-widgets/base",
          "model_name": "LayoutModel",
          "model_module_version": "1.2.0",
          "state": {
            "_model_module": "@jupyter-widgets/base",
            "_model_module_version": "1.2.0",
            "_model_name": "LayoutModel",
            "_view_count": null,
            "_view_module": "@jupyter-widgets/base",
            "_view_module_version": "1.2.0",
            "_view_name": "LayoutView",
            "align_content": null,
            "align_items": null,
            "align_self": null,
            "border": null,
            "bottom": null,
            "display": null,
            "flex": null,
            "flex_flow": null,
            "grid_area": null,
            "grid_auto_columns": null,
            "grid_auto_flow": null,
            "grid_auto_rows": null,
            "grid_column": null,
            "grid_gap": null,
            "grid_row": null,
            "grid_template_areas": null,
            "grid_template_columns": null,
            "grid_template_rows": null,
            "height": null,
            "justify_content": null,
            "justify_items": null,
            "left": null,
            "margin": null,
            "max_height": null,
            "max_width": null,
            "min_height": null,
            "min_width": null,
            "object_fit": null,
            "object_position": null,
            "order": null,
            "overflow": null,
            "overflow_x": null,
            "overflow_y": null,
            "padding": null,
            "right": null,
            "top": null,
            "visibility": null,
            "width": null
          }
        },
        "4a7dc627882f4c608833aa9761d32ec2": {
          "model_module": "@jupyter-widgets/controls",
          "model_name": "DescriptionStyleModel",
          "model_module_version": "1.5.0",
          "state": {
            "_model_module": "@jupyter-widgets/controls",
            "_model_module_version": "1.5.0",
            "_model_name": "DescriptionStyleModel",
            "_view_count": null,
            "_view_module": "@jupyter-widgets/base",
            "_view_module_version": "1.2.0",
            "_view_name": "StyleView",
            "description_width": ""
          }
        },
        "b7b22a3cdbb44326a234d2b36ad81ed8": {
          "model_module": "@jupyter-widgets/controls",
          "model_name": "HBoxModel",
          "model_module_version": "1.5.0",
          "state": {
            "_dom_classes": [],
            "_model_module": "@jupyter-widgets/controls",
            "_model_module_version": "1.5.0",
            "_model_name": "HBoxModel",
            "_view_count": null,
            "_view_module": "@jupyter-widgets/controls",
            "_view_module_version": "1.5.0",
            "_view_name": "HBoxView",
            "box_style": "",
            "children": [
              "IPY_MODEL_ec0965213eeb4af3bfff3003c0bbf690",
              "IPY_MODEL_7c175cf35b164ad399b9b61584126ac1",
              "IPY_MODEL_1c8c2cb0bd6a4574a8ad04ede6d52554"
            ],
            "layout": "IPY_MODEL_3caecc9e963d466cb66ed983ea591f49"
          }
        },
        "ec0965213eeb4af3bfff3003c0bbf690": {
          "model_module": "@jupyter-widgets/controls",
          "model_name": "HTMLModel",
          "model_module_version": "1.5.0",
          "state": {
            "_dom_classes": [],
            "_model_module": "@jupyter-widgets/controls",
            "_model_module_version": "1.5.0",
            "_model_name": "HTMLModel",
            "_view_count": null,
            "_view_module": "@jupyter-widgets/controls",
            "_view_module_version": "1.5.0",
            "_view_name": "HTMLView",
            "description": "",
            "description_tooltip": null,
            "layout": "IPY_MODEL_dc215cb73ddf4c9d9b3679f6c9070890",
            "placeholder": "​",
            "style": "IPY_MODEL_9a7010f9545a415caa9323720c0c1b75",
            "value": "Downloading pytorch_model.bin: 100%"
          }
        },
        "7c175cf35b164ad399b9b61584126ac1": {
          "model_module": "@jupyter-widgets/controls",
          "model_name": "FloatProgressModel",
          "model_module_version": "1.5.0",
          "state": {
            "_dom_classes": [],
            "_model_module": "@jupyter-widgets/controls",
            "_model_module_version": "1.5.0",
            "_model_name": "FloatProgressModel",
            "_view_count": null,
            "_view_module": "@jupyter-widgets/controls",
            "_view_module_version": "1.5.0",
            "_view_name": "ProgressView",
            "bar_style": "success",
            "description": "",
            "description_tooltip": null,
            "layout": "IPY_MODEL_500dda4dfa9641a083c916e262efc199",
            "max": 654226731,
            "min": 0,
            "orientation": "horizontal",
            "style": "IPY_MODEL_b38eb7bdb97a437aaee5c1f8b1a110cb",
            "value": 654226731
          }
        },
        "1c8c2cb0bd6a4574a8ad04ede6d52554": {
          "model_module": "@jupyter-widgets/controls",
          "model_name": "HTMLModel",
          "model_module_version": "1.5.0",
          "state": {
            "_dom_classes": [],
            "_model_module": "@jupyter-widgets/controls",
            "_model_module_version": "1.5.0",
            "_model_name": "HTMLModel",
            "_view_count": null,
            "_view_module": "@jupyter-widgets/controls",
            "_view_module_version": "1.5.0",
            "_view_name": "HTMLView",
            "description": "",
            "description_tooltip": null,
            "layout": "IPY_MODEL_61f25b403dac4b58b808009ad07ff3ed",
            "placeholder": "​",
            "style": "IPY_MODEL_66d2701d8d0f47be982ce560b1b5bab0",
            "value": " 654M/654M [00:06&lt;00:00, 34.8MB/s]"
          }
        },
        "3caecc9e963d466cb66ed983ea591f49": {
          "model_module": "@jupyter-widgets/base",
          "model_name": "LayoutModel",
          "model_module_version": "1.2.0",
          "state": {
            "_model_module": "@jupyter-widgets/base",
            "_model_module_version": "1.2.0",
            "_model_name": "LayoutModel",
            "_view_count": null,
            "_view_module": "@jupyter-widgets/base",
            "_view_module_version": "1.2.0",
            "_view_name": "LayoutView",
            "align_content": null,
            "align_items": null,
            "align_self": null,
            "border": null,
            "bottom": null,
            "display": null,
            "flex": null,
            "flex_flow": null,
            "grid_area": null,
            "grid_auto_columns": null,
            "grid_auto_flow": null,
            "grid_auto_rows": null,
            "grid_column": null,
            "grid_gap": null,
            "grid_row": null,
            "grid_template_areas": null,
            "grid_template_columns": null,
            "grid_template_rows": null,
            "height": null,
            "justify_content": null,
            "justify_items": null,
            "left": null,
            "margin": null,
            "max_height": null,
            "max_width": null,
            "min_height": null,
            "min_width": null,
            "object_fit": null,
            "object_position": null,
            "order": null,
            "overflow": null,
            "overflow_x": null,
            "overflow_y": null,
            "padding": null,
            "right": null,
            "top": null,
            "visibility": null,
            "width": null
          }
        },
        "dc215cb73ddf4c9d9b3679f6c9070890": {
          "model_module": "@jupyter-widgets/base",
          "model_name": "LayoutModel",
          "model_module_version": "1.2.0",
          "state": {
            "_model_module": "@jupyter-widgets/base",
            "_model_module_version": "1.2.0",
            "_model_name": "LayoutModel",
            "_view_count": null,
            "_view_module": "@jupyter-widgets/base",
            "_view_module_version": "1.2.0",
            "_view_name": "LayoutView",
            "align_content": null,
            "align_items": null,
            "align_self": null,
            "border": null,
            "bottom": null,
            "display": null,
            "flex": null,
            "flex_flow": null,
            "grid_area": null,
            "grid_auto_columns": null,
            "grid_auto_flow": null,
            "grid_auto_rows": null,
            "grid_column": null,
            "grid_gap": null,
            "grid_row": null,
            "grid_template_areas": null,
            "grid_template_columns": null,
            "grid_template_rows": null,
            "height": null,
            "justify_content": null,
            "justify_items": null,
            "left": null,
            "margin": null,
            "max_height": null,
            "max_width": null,
            "min_height": null,
            "min_width": null,
            "object_fit": null,
            "object_position": null,
            "order": null,
            "overflow": null,
            "overflow_x": null,
            "overflow_y": null,
            "padding": null,
            "right": null,
            "top": null,
            "visibility": null,
            "width": null
          }
        },
        "9a7010f9545a415caa9323720c0c1b75": {
          "model_module": "@jupyter-widgets/controls",
          "model_name": "DescriptionStyleModel",
          "model_module_version": "1.5.0",
          "state": {
            "_model_module": "@jupyter-widgets/controls",
            "_model_module_version": "1.5.0",
            "_model_name": "DescriptionStyleModel",
            "_view_count": null,
            "_view_module": "@jupyter-widgets/base",
            "_view_module_version": "1.2.0",
            "_view_name": "StyleView",
            "description_width": ""
          }
        },
        "500dda4dfa9641a083c916e262efc199": {
          "model_module": "@jupyter-widgets/base",
          "model_name": "LayoutModel",
          "model_module_version": "1.2.0",
          "state": {
            "_model_module": "@jupyter-widgets/base",
            "_model_module_version": "1.2.0",
            "_model_name": "LayoutModel",
            "_view_count": null,
            "_view_module": "@jupyter-widgets/base",
            "_view_module_version": "1.2.0",
            "_view_name": "LayoutView",
            "align_content": null,
            "align_items": null,
            "align_self": null,
            "border": null,
            "bottom": null,
            "display": null,
            "flex": null,
            "flex_flow": null,
            "grid_area": null,
            "grid_auto_columns": null,
            "grid_auto_flow": null,
            "grid_auto_rows": null,
            "grid_column": null,
            "grid_gap": null,
            "grid_row": null,
            "grid_template_areas": null,
            "grid_template_columns": null,
            "grid_template_rows": null,
            "height": null,
            "justify_content": null,
            "justify_items": null,
            "left": null,
            "margin": null,
            "max_height": null,
            "max_width": null,
            "min_height": null,
            "min_width": null,
            "object_fit": null,
            "object_position": null,
            "order": null,
            "overflow": null,
            "overflow_x": null,
            "overflow_y": null,
            "padding": null,
            "right": null,
            "top": null,
            "visibility": null,
            "width": null
          }
        },
        "b38eb7bdb97a437aaee5c1f8b1a110cb": {
          "model_module": "@jupyter-widgets/controls",
          "model_name": "ProgressStyleModel",
          "model_module_version": "1.5.0",
          "state": {
            "_model_module": "@jupyter-widgets/controls",
            "_model_module_version": "1.5.0",
            "_model_name": "ProgressStyleModel",
            "_view_count": null,
            "_view_module": "@jupyter-widgets/base",
            "_view_module_version": "1.2.0",
            "_view_name": "StyleView",
            "bar_color": null,
            "description_width": ""
          }
        },
        "61f25b403dac4b58b808009ad07ff3ed": {
          "model_module": "@jupyter-widgets/base",
          "model_name": "LayoutModel",
          "model_module_version": "1.2.0",
          "state": {
            "_model_module": "@jupyter-widgets/base",
            "_model_module_version": "1.2.0",
            "_model_name": "LayoutModel",
            "_view_count": null,
            "_view_module": "@jupyter-widgets/base",
            "_view_module_version": "1.2.0",
            "_view_name": "LayoutView",
            "align_content": null,
            "align_items": null,
            "align_self": null,
            "border": null,
            "bottom": null,
            "display": null,
            "flex": null,
            "flex_flow": null,
            "grid_area": null,
            "grid_auto_columns": null,
            "grid_auto_flow": null,
            "grid_auto_rows": null,
            "grid_column": null,
            "grid_gap": null,
            "grid_row": null,
            "grid_template_areas": null,
            "grid_template_columns": null,
            "grid_template_rows": null,
            "height": null,
            "justify_content": null,
            "justify_items": null,
            "left": null,
            "margin": null,
            "max_height": null,
            "max_width": null,
            "min_height": null,
            "min_width": null,
            "object_fit": null,
            "object_position": null,
            "order": null,
            "overflow": null,
            "overflow_x": null,
            "overflow_y": null,
            "padding": null,
            "right": null,
            "top": null,
            "visibility": null,
            "width": null
          }
        },
        "66d2701d8d0f47be982ce560b1b5bab0": {
          "model_module": "@jupyter-widgets/controls",
          "model_name": "DescriptionStyleModel",
          "model_module_version": "1.5.0",
          "state": {
            "_model_module": "@jupyter-widgets/controls",
            "_model_module_version": "1.5.0",
            "_model_name": "DescriptionStyleModel",
            "_view_count": null,
            "_view_module": "@jupyter-widgets/base",
            "_view_module_version": "1.2.0",
            "_view_name": "StyleView",
            "description_width": ""
          }
        },
        "527194763b274c4193304f6f55f21d4c": {
          "model_module": "@jupyter-widgets/controls",
          "model_name": "HBoxModel",
          "model_module_version": "1.5.0",
          "state": {
            "_dom_classes": [],
            "_model_module": "@jupyter-widgets/controls",
            "_model_module_version": "1.5.0",
            "_model_name": "HBoxModel",
            "_view_count": null,
            "_view_module": "@jupyter-widgets/controls",
            "_view_module_version": "1.5.0",
            "_view_name": "HBoxView",
            "box_style": "",
            "children": [
              "IPY_MODEL_c96f5f2063d04e12942793db694fe8cd",
              "IPY_MODEL_36df511ca4d84b61a1e20c0c3e72a66d",
              "IPY_MODEL_f4b9dacc1b2840f3b12753b7fa7d6c4c"
            ],
            "layout": "IPY_MODEL_79a6e6558ced46b9902fda64cf2326e5"
          }
        },
        "c96f5f2063d04e12942793db694fe8cd": {
          "model_module": "@jupyter-widgets/controls",
          "model_name": "HTMLModel",
          "model_module_version": "1.5.0",
          "state": {
            "_dom_classes": [],
            "_model_module": "@jupyter-widgets/controls",
            "_model_module_version": "1.5.0",
            "_model_name": "HTMLModel",
            "_view_count": null,
            "_view_module": "@jupyter-widgets/controls",
            "_view_module_version": "1.5.0",
            "_view_name": "HTMLView",
            "description": "",
            "description_tooltip": null,
            "layout": "IPY_MODEL_7923e423297b4747a0f39594c29beadc",
            "placeholder": "​",
            "style": "IPY_MODEL_6f4dfb7d0a2c4d8d9db803c1a276dc51",
            "value": "Epochs... :   0%"
          }
        },
        "36df511ca4d84b61a1e20c0c3e72a66d": {
          "model_module": "@jupyter-widgets/controls",
          "model_name": "FloatProgressModel",
          "model_module_version": "1.5.0",
          "state": {
            "_dom_classes": [],
            "_model_module": "@jupyter-widgets/controls",
            "_model_module_version": "1.5.0",
            "_model_name": "FloatProgressModel",
            "_view_count": null,
            "_view_module": "@jupyter-widgets/controls",
            "_view_module_version": "1.5.0",
            "_view_name": "ProgressView",
            "bar_style": "danger",
            "description": "",
            "description_tooltip": null,
            "layout": "IPY_MODEL_23d4727520f04d2999e2929d9c436646",
            "max": 3,
            "min": 0,
            "orientation": "horizontal",
            "style": "IPY_MODEL_cc991dc48a8743cf95b988ac1d82d846",
            "value": 0
          }
        },
        "f4b9dacc1b2840f3b12753b7fa7d6c4c": {
          "model_module": "@jupyter-widgets/controls",
          "model_name": "HTMLModel",
          "model_module_version": "1.5.0",
          "state": {
            "_dom_classes": [],
            "_model_module": "@jupyter-widgets/controls",
            "_model_module_version": "1.5.0",
            "_model_name": "HTMLModel",
            "_view_count": null,
            "_view_module": "@jupyter-widgets/controls",
            "_view_module_version": "1.5.0",
            "_view_name": "HTMLView",
            "description": "",
            "description_tooltip": null,
            "layout": "IPY_MODEL_e95de3c3b39f49d1b2ae9b68125259d5",
            "placeholder": "​",
            "style": "IPY_MODEL_cf49da7e0422468daef302fd8c4dd1cd",
            "value": " 0/3 [00:00&lt;?, ?it/s]"
          }
        },
        "79a6e6558ced46b9902fda64cf2326e5": {
          "model_module": "@jupyter-widgets/base",
          "model_name": "LayoutModel",
          "model_module_version": "1.2.0",
          "state": {
            "_model_module": "@jupyter-widgets/base",
            "_model_module_version": "1.2.0",
            "_model_name": "LayoutModel",
            "_view_count": null,
            "_view_module": "@jupyter-widgets/base",
            "_view_module_version": "1.2.0",
            "_view_name": "LayoutView",
            "align_content": null,
            "align_items": null,
            "align_self": null,
            "border": null,
            "bottom": null,
            "display": null,
            "flex": null,
            "flex_flow": null,
            "grid_area": null,
            "grid_auto_columns": null,
            "grid_auto_flow": null,
            "grid_auto_rows": null,
            "grid_column": null,
            "grid_gap": null,
            "grid_row": null,
            "grid_template_areas": null,
            "grid_template_columns": null,
            "grid_template_rows": null,
            "height": null,
            "justify_content": null,
            "justify_items": null,
            "left": null,
            "margin": null,
            "max_height": null,
            "max_width": null,
            "min_height": null,
            "min_width": null,
            "object_fit": null,
            "object_position": null,
            "order": null,
            "overflow": null,
            "overflow_x": null,
            "overflow_y": null,
            "padding": null,
            "right": null,
            "top": null,
            "visibility": null,
            "width": null
          }
        },
        "7923e423297b4747a0f39594c29beadc": {
          "model_module": "@jupyter-widgets/base",
          "model_name": "LayoutModel",
          "model_module_version": "1.2.0",
          "state": {
            "_model_module": "@jupyter-widgets/base",
            "_model_module_version": "1.2.0",
            "_model_name": "LayoutModel",
            "_view_count": null,
            "_view_module": "@jupyter-widgets/base",
            "_view_module_version": "1.2.0",
            "_view_name": "LayoutView",
            "align_content": null,
            "align_items": null,
            "align_self": null,
            "border": null,
            "bottom": null,
            "display": null,
            "flex": null,
            "flex_flow": null,
            "grid_area": null,
            "grid_auto_columns": null,
            "grid_auto_flow": null,
            "grid_auto_rows": null,
            "grid_column": null,
            "grid_gap": null,
            "grid_row": null,
            "grid_template_areas": null,
            "grid_template_columns": null,
            "grid_template_rows": null,
            "height": null,
            "justify_content": null,
            "justify_items": null,
            "left": null,
            "margin": null,
            "max_height": null,
            "max_width": null,
            "min_height": null,
            "min_width": null,
            "object_fit": null,
            "object_position": null,
            "order": null,
            "overflow": null,
            "overflow_x": null,
            "overflow_y": null,
            "padding": null,
            "right": null,
            "top": null,
            "visibility": null,
            "width": null
          }
        },
        "6f4dfb7d0a2c4d8d9db803c1a276dc51": {
          "model_module": "@jupyter-widgets/controls",
          "model_name": "DescriptionStyleModel",
          "model_module_version": "1.5.0",
          "state": {
            "_model_module": "@jupyter-widgets/controls",
            "_model_module_version": "1.5.0",
            "_model_name": "DescriptionStyleModel",
            "_view_count": null,
            "_view_module": "@jupyter-widgets/base",
            "_view_module_version": "1.2.0",
            "_view_name": "StyleView",
            "description_width": ""
          }
        },
        "23d4727520f04d2999e2929d9c436646": {
          "model_module": "@jupyter-widgets/base",
          "model_name": "LayoutModel",
          "model_module_version": "1.2.0",
          "state": {
            "_model_module": "@jupyter-widgets/base",
            "_model_module_version": "1.2.0",
            "_model_name": "LayoutModel",
            "_view_count": null,
            "_view_module": "@jupyter-widgets/base",
            "_view_module_version": "1.2.0",
            "_view_name": "LayoutView",
            "align_content": null,
            "align_items": null,
            "align_self": null,
            "border": null,
            "bottom": null,
            "display": null,
            "flex": null,
            "flex_flow": null,
            "grid_area": null,
            "grid_auto_columns": null,
            "grid_auto_flow": null,
            "grid_auto_rows": null,
            "grid_column": null,
            "grid_gap": null,
            "grid_row": null,
            "grid_template_areas": null,
            "grid_template_columns": null,
            "grid_template_rows": null,
            "height": null,
            "justify_content": null,
            "justify_items": null,
            "left": null,
            "margin": null,
            "max_height": null,
            "max_width": null,
            "min_height": null,
            "min_width": null,
            "object_fit": null,
            "object_position": null,
            "order": null,
            "overflow": null,
            "overflow_x": null,
            "overflow_y": null,
            "padding": null,
            "right": null,
            "top": null,
            "visibility": null,
            "width": null
          }
        },
        "cc991dc48a8743cf95b988ac1d82d846": {
          "model_module": "@jupyter-widgets/controls",
          "model_name": "ProgressStyleModel",
          "model_module_version": "1.5.0",
          "state": {
            "_model_module": "@jupyter-widgets/controls",
            "_model_module_version": "1.5.0",
            "_model_name": "ProgressStyleModel",
            "_view_count": null,
            "_view_module": "@jupyter-widgets/base",
            "_view_module_version": "1.2.0",
            "_view_name": "StyleView",
            "bar_color": null,
            "description_width": ""
          }
        },
        "e95de3c3b39f49d1b2ae9b68125259d5": {
          "model_module": "@jupyter-widgets/base",
          "model_name": "LayoutModel",
          "model_module_version": "1.2.0",
          "state": {
            "_model_module": "@jupyter-widgets/base",
            "_model_module_version": "1.2.0",
            "_model_name": "LayoutModel",
            "_view_count": null,
            "_view_module": "@jupyter-widgets/base",
            "_view_module_version": "1.2.0",
            "_view_name": "LayoutView",
            "align_content": null,
            "align_items": null,
            "align_self": null,
            "border": null,
            "bottom": null,
            "display": null,
            "flex": null,
            "flex_flow": null,
            "grid_area": null,
            "grid_auto_columns": null,
            "grid_auto_flow": null,
            "grid_auto_rows": null,
            "grid_column": null,
            "grid_gap": null,
            "grid_row": null,
            "grid_template_areas": null,
            "grid_template_columns": null,
            "grid_template_rows": null,
            "height": null,
            "justify_content": null,
            "justify_items": null,
            "left": null,
            "margin": null,
            "max_height": null,
            "max_width": null,
            "min_height": null,
            "min_width": null,
            "object_fit": null,
            "object_position": null,
            "order": null,
            "overflow": null,
            "overflow_x": null,
            "overflow_y": null,
            "padding": null,
            "right": null,
            "top": null,
            "visibility": null,
            "width": null
          }
        },
        "cf49da7e0422468daef302fd8c4dd1cd": {
          "model_module": "@jupyter-widgets/controls",
          "model_name": "DescriptionStyleModel",
          "model_module_version": "1.5.0",
          "state": {
            "_model_module": "@jupyter-widgets/controls",
            "_model_module_version": "1.5.0",
            "_model_name": "DescriptionStyleModel",
            "_view_count": null,
            "_view_module": "@jupyter-widgets/base",
            "_view_module_version": "1.2.0",
            "_view_name": "StyleView",
            "description_width": ""
          }
        },
        "6e0486cc2a044ab28d5dca8f84b11397": {
          "model_module": "@jupyter-widgets/controls",
          "model_name": "HBoxModel",
          "model_module_version": "1.5.0",
          "state": {
            "_dom_classes": [],
            "_model_module": "@jupyter-widgets/controls",
            "_model_module_version": "1.5.0",
            "_model_name": "HBoxModel",
            "_view_count": null,
            "_view_module": "@jupyter-widgets/controls",
            "_view_module_version": "1.5.0",
            "_view_name": "HBoxView",
            "box_style": "",
            "children": [
              "IPY_MODEL_2b4bced1d06346e38bff8ea1f62bae29",
              "IPY_MODEL_017ae33197dd42f3a3ec005e8fd4d8c2",
              "IPY_MODEL_3c4f2c33b2804312afeff1929fd9b9aa"
            ],
            "layout": "IPY_MODEL_bb03cf121e7f4955886c769377070a16"
          }
        },
        "2b4bced1d06346e38bff8ea1f62bae29": {
          "model_module": "@jupyter-widgets/controls",
          "model_name": "HTMLModel",
          "model_module_version": "1.5.0",
          "state": {
            "_dom_classes": [],
            "_model_module": "@jupyter-widgets/controls",
            "_model_module_version": "1.5.0",
            "_model_name": "HTMLModel",
            "_view_count": null,
            "_view_module": "@jupyter-widgets/controls",
            "_view_module_version": "1.5.0",
            "_view_name": "HTMLView",
            "description": "",
            "description_tooltip": null,
            "layout": "IPY_MODEL_fd48a0b5e034422392a7180871f61862",
            "placeholder": "​",
            "style": "IPY_MODEL_822c7305dd3a4c46a2bd126289e07af9",
            "value": "Training... :   0%"
          }
        },
        "017ae33197dd42f3a3ec005e8fd4d8c2": {
          "model_module": "@jupyter-widgets/controls",
          "model_name": "FloatProgressModel",
          "model_module_version": "1.5.0",
          "state": {
            "_dom_classes": [],
            "_model_module": "@jupyter-widgets/controls",
            "_model_module_version": "1.5.0",
            "_model_name": "FloatProgressModel",
            "_view_count": null,
            "_view_module": "@jupyter-widgets/controls",
            "_view_module_version": "1.5.0",
            "_view_name": "ProgressView",
            "bar_style": "danger",
            "description": "",
            "description_tooltip": null,
            "layout": "IPY_MODEL_08dd99256eda436283081d47b2fdded3",
            "max": 97,
            "min": 0,
            "orientation": "horizontal",
            "style": "IPY_MODEL_798ee1b0d0cc439f9457854d86290939",
            "value": 0
          }
        },
        "3c4f2c33b2804312afeff1929fd9b9aa": {
          "model_module": "@jupyter-widgets/controls",
          "model_name": "HTMLModel",
          "model_module_version": "1.5.0",
          "state": {
            "_dom_classes": [],
            "_model_module": "@jupyter-widgets/controls",
            "_model_module_version": "1.5.0",
            "_model_name": "HTMLModel",
            "_view_count": null,
            "_view_module": "@jupyter-widgets/controls",
            "_view_module_version": "1.5.0",
            "_view_name": "HTMLView",
            "description": "",
            "description_tooltip": null,
            "layout": "IPY_MODEL_7ca872543fef49bdaf9ee106c359b2d1",
            "placeholder": "​",
            "style": "IPY_MODEL_95208bd64e5742aaa3095a1f0c3c069a",
            "value": " 0/97 [00:00&lt;?, ?it/s]"
          }
        },
        "bb03cf121e7f4955886c769377070a16": {
          "model_module": "@jupyter-widgets/base",
          "model_name": "LayoutModel",
          "model_module_version": "1.2.0",
          "state": {
            "_model_module": "@jupyter-widgets/base",
            "_model_module_version": "1.2.0",
            "_model_name": "LayoutModel",
            "_view_count": null,
            "_view_module": "@jupyter-widgets/base",
            "_view_module_version": "1.2.0",
            "_view_name": "LayoutView",
            "align_content": null,
            "align_items": null,
            "align_self": null,
            "border": null,
            "bottom": null,
            "display": null,
            "flex": null,
            "flex_flow": null,
            "grid_area": null,
            "grid_auto_columns": null,
            "grid_auto_flow": null,
            "grid_auto_rows": null,
            "grid_column": null,
            "grid_gap": null,
            "grid_row": null,
            "grid_template_areas": null,
            "grid_template_columns": null,
            "grid_template_rows": null,
            "height": null,
            "justify_content": null,
            "justify_items": null,
            "left": null,
            "margin": null,
            "max_height": null,
            "max_width": null,
            "min_height": null,
            "min_width": null,
            "object_fit": null,
            "object_position": null,
            "order": null,
            "overflow": null,
            "overflow_x": null,
            "overflow_y": null,
            "padding": null,
            "right": null,
            "top": null,
            "visibility": null,
            "width": null
          }
        },
        "fd48a0b5e034422392a7180871f61862": {
          "model_module": "@jupyter-widgets/base",
          "model_name": "LayoutModel",
          "model_module_version": "1.2.0",
          "state": {
            "_model_module": "@jupyter-widgets/base",
            "_model_module_version": "1.2.0",
            "_model_name": "LayoutModel",
            "_view_count": null,
            "_view_module": "@jupyter-widgets/base",
            "_view_module_version": "1.2.0",
            "_view_name": "LayoutView",
            "align_content": null,
            "align_items": null,
            "align_self": null,
            "border": null,
            "bottom": null,
            "display": null,
            "flex": null,
            "flex_flow": null,
            "grid_area": null,
            "grid_auto_columns": null,
            "grid_auto_flow": null,
            "grid_auto_rows": null,
            "grid_column": null,
            "grid_gap": null,
            "grid_row": null,
            "grid_template_areas": null,
            "grid_template_columns": null,
            "grid_template_rows": null,
            "height": null,
            "justify_content": null,
            "justify_items": null,
            "left": null,
            "margin": null,
            "max_height": null,
            "max_width": null,
            "min_height": null,
            "min_width": null,
            "object_fit": null,
            "object_position": null,
            "order": null,
            "overflow": null,
            "overflow_x": null,
            "overflow_y": null,
            "padding": null,
            "right": null,
            "top": null,
            "visibility": null,
            "width": null
          }
        },
        "822c7305dd3a4c46a2bd126289e07af9": {
          "model_module": "@jupyter-widgets/controls",
          "model_name": "DescriptionStyleModel",
          "model_module_version": "1.5.0",
          "state": {
            "_model_module": "@jupyter-widgets/controls",
            "_model_module_version": "1.5.0",
            "_model_name": "DescriptionStyleModel",
            "_view_count": null,
            "_view_module": "@jupyter-widgets/base",
            "_view_module_version": "1.2.0",
            "_view_name": "StyleView",
            "description_width": ""
          }
        },
        "08dd99256eda436283081d47b2fdded3": {
          "model_module": "@jupyter-widgets/base",
          "model_name": "LayoutModel",
          "model_module_version": "1.2.0",
          "state": {
            "_model_module": "@jupyter-widgets/base",
            "_model_module_version": "1.2.0",
            "_model_name": "LayoutModel",
            "_view_count": null,
            "_view_module": "@jupyter-widgets/base",
            "_view_module_version": "1.2.0",
            "_view_name": "LayoutView",
            "align_content": null,
            "align_items": null,
            "align_self": null,
            "border": null,
            "bottom": null,
            "display": null,
            "flex": null,
            "flex_flow": null,
            "grid_area": null,
            "grid_auto_columns": null,
            "grid_auto_flow": null,
            "grid_auto_rows": null,
            "grid_column": null,
            "grid_gap": null,
            "grid_row": null,
            "grid_template_areas": null,
            "grid_template_columns": null,
            "grid_template_rows": null,
            "height": null,
            "justify_content": null,
            "justify_items": null,
            "left": null,
            "margin": null,
            "max_height": null,
            "max_width": null,
            "min_height": null,
            "min_width": null,
            "object_fit": null,
            "object_position": null,
            "order": null,
            "overflow": null,
            "overflow_x": null,
            "overflow_y": null,
            "padding": null,
            "right": null,
            "top": null,
            "visibility": null,
            "width": null
          }
        },
        "798ee1b0d0cc439f9457854d86290939": {
          "model_module": "@jupyter-widgets/controls",
          "model_name": "ProgressStyleModel",
          "model_module_version": "1.5.0",
          "state": {
            "_model_module": "@jupyter-widgets/controls",
            "_model_module_version": "1.5.0",
            "_model_name": "ProgressStyleModel",
            "_view_count": null,
            "_view_module": "@jupyter-widgets/base",
            "_view_module_version": "1.2.0",
            "_view_name": "StyleView",
            "bar_color": null,
            "description_width": ""
          }
        },
        "7ca872543fef49bdaf9ee106c359b2d1": {
          "model_module": "@jupyter-widgets/base",
          "model_name": "LayoutModel",
          "model_module_version": "1.2.0",
          "state": {
            "_model_module": "@jupyter-widgets/base",
            "_model_module_version": "1.2.0",
            "_model_name": "LayoutModel",
            "_view_count": null,
            "_view_module": "@jupyter-widgets/base",
            "_view_module_version": "1.2.0",
            "_view_name": "LayoutView",
            "align_content": null,
            "align_items": null,
            "align_self": null,
            "border": null,
            "bottom": null,
            "display": null,
            "flex": null,
            "flex_flow": null,
            "grid_area": null,
            "grid_auto_columns": null,
            "grid_auto_flow": null,
            "grid_auto_rows": null,
            "grid_column": null,
            "grid_gap": null,
            "grid_row": null,
            "grid_template_areas": null,
            "grid_template_columns": null,
            "grid_template_rows": null,
            "height": null,
            "justify_content": null,
            "justify_items": null,
            "left": null,
            "margin": null,
            "max_height": null,
            "max_width": null,
            "min_height": null,
            "min_width": null,
            "object_fit": null,
            "object_position": null,
            "order": null,
            "overflow": null,
            "overflow_x": null,
            "overflow_y": null,
            "padding": null,
            "right": null,
            "top": null,
            "visibility": null,
            "width": null
          }
        },
        "95208bd64e5742aaa3095a1f0c3c069a": {
          "model_module": "@jupyter-widgets/controls",
          "model_name": "DescriptionStyleModel",
          "model_module_version": "1.5.0",
          "state": {
            "_model_module": "@jupyter-widgets/controls",
            "_model_module_version": "1.5.0",
            "_model_name": "DescriptionStyleModel",
            "_view_count": null,
            "_view_module": "@jupyter-widgets/base",
            "_view_module_version": "1.2.0",
            "_view_name": "StyleView",
            "description_width": ""
          }
        }
      }
    }
  },
  "cells": [
    {
      "cell_type": "markdown",
      "metadata": {
        "id": "view-in-github",
        "colab_type": "text"
      },
      "source": [
        "<a href=\"https://colab.research.google.com/github/AAhmadS/NLP_HW4/blob/main/Sentiment_analysis.ipynb\" target=\"_parent\"><img src=\"https://colab.research.google.com/assets/colab-badge.svg\" alt=\"Open In Colab\"/></a>"
      ]
    },
    {
      "cell_type": "markdown",
      "source": [
        "#**Natural Language Processing-Homework4**\n",
        "\n",
        "####**Students' names** :\n",
        ">Amirahmad Shafiee<br/>\n",
        ">Ali Shafiee<br/>\n",
        ">Neda Fallah<br/>\n",
        "####**Student number** : 99104027<br/>**Chosen task** : classification In this notebook we aim to do common but rather essential preprocess actions on some text chosen from the persian literature world. After doing so, an NLP task would be operated on the processed text."
      ],
      "metadata": {
        "id": "6f77_QYUoCU5"
      }
    },
    {
      "cell_type": "code",
      "source": [
        "!pip install -qU transformers\n",
        "!pip install -qU torchtext\n",
        "!pip install -qU fasttext"
      ],
      "metadata": {
        "colab": {
          "base_uri": "https://localhost:8080/"
        },
        "id": "AVW9dUiqqC2x",
        "outputId": "395f1ee1-4071-4cd5-c2a4-07a532969966"
      },
      "execution_count": 4,
      "outputs": [
        {
          "output_type": "stream",
          "name": "stdout",
          "text": [
            "\u001b[2K     \u001b[90m━━━━━━━━━━━━━━━━━━━━━━━━━━━━━━━━━━━━━━━━\u001b[0m \u001b[32m7.2/7.2 MB\u001b[0m \u001b[31m51.0 MB/s\u001b[0m eta \u001b[36m0:00:00\u001b[0m\n",
            "\u001b[2K     \u001b[90m━━━━━━━━━━━━━━━━━━━━━━━━━━━━━━━━━━━━━━\u001b[0m \u001b[32m236.8/236.8 kB\u001b[0m \u001b[31m25.4 MB/s\u001b[0m eta \u001b[36m0:00:00\u001b[0m\n",
            "\u001b[2K     \u001b[90m━━━━━━━━━━━━━━━━━━━━━━━━━━━━━━━━━━━━━━━━\u001b[0m \u001b[32m7.8/7.8 MB\u001b[0m \u001b[31m86.8 MB/s\u001b[0m eta \u001b[36m0:00:00\u001b[0m\n",
            "\u001b[2K     \u001b[90m━━━━━━━━━━━━━━━━━━━━━━━━━━━━━━━━━━━━━━━━\u001b[0m \u001b[32m1.3/1.3 MB\u001b[0m \u001b[31m66.6 MB/s\u001b[0m eta \u001b[36m0:00:00\u001b[0m\n",
            "\u001b[2K     \u001b[90m━━━━━━━━━━━━━━━━━━━━━━━━━━━━━━━━━━━━━━━━\u001b[0m \u001b[32m68.8/68.8 kB\u001b[0m \u001b[31m3.1 MB/s\u001b[0m eta \u001b[36m0:00:00\u001b[0m\n",
            "\u001b[?25h  Preparing metadata (setup.py) ... \u001b[?25l\u001b[?25hdone\n",
            "  Building wheel for fasttext (setup.py) ... \u001b[?25l\u001b[?25hdone\n"
          ]
        }
      ]
    },
    {
      "cell_type": "code",
      "source": [
        "!git clone https://github.com/facebookresearch/fastText.git"
      ],
      "metadata": {
        "colab": {
          "base_uri": "https://localhost:8080/"
        },
        "id": "UiLCZAB2qsPC",
        "outputId": "ee976e34-cdab-4260-f3ac-fd8259133015"
      },
      "execution_count": 5,
      "outputs": [
        {
          "output_type": "stream",
          "name": "stdout",
          "text": [
            "Cloning into 'fastText'...\n",
            "remote: Enumerating objects: 3946, done.\u001b[K\n",
            "remote: Counting objects: 100% (1005/1005), done.\u001b[K\n",
            "remote: Compressing objects: 100% (153/153), done.\u001b[K\n",
            "remote: Total 3946 (delta 904), reused 862 (delta 851), pack-reused 2941\u001b[K\n",
            "Receiving objects: 100% (3946/3946), 8.26 MiB | 30.30 MiB/s, done.\n",
            "Resolving deltas: 100% (2511/2511), done.\n"
          ]
        }
      ]
    },
    {
      "cell_type": "code",
      "source": [
        "import fasttext.util"
      ],
      "metadata": {
        "id": "3MbF6SqdsRvL"
      },
      "execution_count": 6,
      "outputs": []
    },
    {
      "cell_type": "code",
      "source": [
        "!sudo pip install fastText/.\n",
        "!cd fastText\n",
        "fasttext.util.download_model('fa', if_exists='ignore')\n",
        "ft = fasttext.load_model('cc.fa.300.bin')"
      ],
      "metadata": {
        "colab": {
          "base_uri": "https://localhost:8080/"
        },
        "id": "8Z4hRGDiquyb",
        "outputId": "8f76f1f1-a79b-4904-e6a4-99bc70a1ab20"
      },
      "execution_count": 5,
      "outputs": [
        {
          "output_type": "stream",
          "name": "stdout",
          "text": [
            "Looking in indexes: https://pypi.org/simple, https://us-python.pkg.dev/colab-wheels/public/simple/\n",
            "Processing ./fastText\n",
            "  Preparing metadata (setup.py) ... \u001b[?25l\u001b[?25hdone\n",
            "Requirement already satisfied: pybind11>=2.2 in /usr/local/lib/python3.10/dist-packages (from fasttext==0.9.2) (2.10.4)\n",
            "Requirement already satisfied: setuptools>=0.7.0 in /usr/local/lib/python3.10/dist-packages (from fasttext==0.9.2) (67.7.2)\n",
            "Requirement already satisfied: numpy in /usr/local/lib/python3.10/dist-packages (from fasttext==0.9.2) (1.22.4)\n",
            "Building wheels for collected packages: fasttext\n",
            "  Building wheel for fasttext (setup.py) ... \u001b[?25l\u001b[?25hdone\n",
            "  Created wheel for fasttext: filename=fasttext-0.9.2-cp310-cp310-linux_x86_64.whl size=4384288 sha256=4b351b35c90a3a40329c2a148cc9afcb829e21fc8f0d366107a9cf7f86d43b0e\n",
            "  Stored in directory: /tmp/pip-ephem-wheel-cache-8lmqsdx8/wheels/8b/05/af/3cfae069d904597d44b309c956601b611bdf8967bcbe968903\n",
            "Successfully built fasttext\n",
            "Installing collected packages: fasttext\n",
            "  Attempting uninstall: fasttext\n",
            "    Found existing installation: fasttext 0.9.2\n",
            "    Uninstalling fasttext-0.9.2:\n",
            "      Successfully uninstalled fasttext-0.9.2\n",
            "Successfully installed fasttext-0.9.2\n",
            "Downloading https://dl.fbaipublicfiles.com/fasttext/vectors-crawl/cc.fa.300.bin.gz\n",
            "\n"
          ]
        },
        {
          "output_type": "stream",
          "name": "stderr",
          "text": [
            "Warning : `load_model` does not return WordVectorModel or SupervisedModel any more, but a `FastText` object which is very similar.\n"
          ]
        }
      ]
    },
    {
      "cell_type": "code",
      "source": [
        "from google.colab import drive\n",
        "drive.mount('/content/drive')"
      ],
      "metadata": {
        "colab": {
          "base_uri": "https://localhost:8080/"
        },
        "id": "u6e8tddyq1NL",
        "outputId": "cb0c25ee-f52c-4cd7-9717-f45d21310e6c"
      },
      "execution_count": 7,
      "outputs": [
        {
          "output_type": "stream",
          "name": "stdout",
          "text": [
            "Mounted at /content/drive\n"
          ]
        }
      ]
    },
    {
      "cell_type": "code",
      "source": [
        "%cd /content/drive/MyDrive/nlp_hw4"
      ],
      "metadata": {
        "colab": {
          "base_uri": "https://localhost:8080/"
        },
        "id": "8WTcBKFmq24T",
        "outputId": "9b62c04f-d8b7-4edb-a9f2-218767990849"
      },
      "execution_count": 8,
      "outputs": [
        {
          "output_type": "stream",
          "name": "stdout",
          "text": [
            "/content/drive/MyDrive/nlp_hw4\n"
          ]
        }
      ]
    },
    {
      "cell_type": "markdown",
      "source": [
        "##Essential packages"
      ],
      "metadata": {
        "id": "WVv2J05RoLoy"
      }
    },
    {
      "cell_type": "code",
      "source": [
        "import pandas as pd\n",
        "import numpy as np\n",
        "from numpy import pad\n",
        "import json\n",
        "import matplotlib.pyplot as plt\n",
        "plt.switch_backend('agg')\n",
        "%matplotlib inline\n",
        "import matplotlib.ticker as ticker\n",
        "from collections import Counter\n",
        "from __future__ import unicode_literals, print_function, division\n",
        "import random\n",
        "from tqdm import tqdm\n",
        "from sklearn.utils import resample\n",
        "from joblib import Parallel, delayed\n",
        "from sklearn import metrics\n",
        "from sklearn.model_selection import train_test_split as tts\n",
        "import sklearn.svm as svm\n",
        "from sklearn.model_selection import StratifiedKFold as skf\n",
        "from sklearn.metrics import roc_auc_score\n",
        "from sklearn.metrics import accuracy_score as acs\n",
        "import plotly.express as px\n",
        "from sklearn.metrics import roc_curve, auc,precision_recall_curve\n",
        "from sklearn.model_selection import GridSearchCV\n",
        "from sklearn.model_selection import RandomizedSearchCV\n",
        "from sklearn.datasets import make_classification\n",
        "from sklearn.preprocessing import MinMaxScaler\n",
        "from sklearn.model_selection import cross_val_score\n",
        "from sklearn.utils.fixes import loguniform\n",
        "from sklearn.metrics import f1_score\n",
        "from sklearn.model_selection import learning_curve\n",
        "from sklearn.metrics import classification_report\n",
        "import seaborn as sns\n",
        "import fasttext.util\n",
        "\n",
        "import itertools\n",
        "import torch\n",
        "from torch import nn\n",
        "import torchtext\n",
        "from torchtext.vocab import Vocab\n",
        "from torch.nn.utils.rnn import pad_sequence\n",
        "from torch.utils.data import DataLoader, Dataset, TensorDataset\n",
        "from torchtext.data.utils import get_tokenizer\n",
        "import torch.nn.functional as F\n",
        "from torch import optim\n",
        "\n",
        "import nltk, re\n",
        "from nltk import word_tokenize, sent_tokenize, WhitespaceTokenizer, FreqDist, pos_tag\n",
        "from nltk.stem import WordNetLemmatizer, PorterStemmer\n",
        "from nltk.corpus import stopwords\n",
        "from nltk.tokenize import RegexpTokenizer\n",
        "from nltk.probability import FreqDist\n",
        "\n",
        "\n",
        "from transformers import pipeline, AutoTokenizer\n",
        "\n",
        "\n",
        "import plotly.express as px\n",
        "import plotly.graph_objects as go\n",
        "\n",
        "from tqdm.notebook import tqdm\n",
        "\n",
        "import os\n",
        "\n",
        "import copy\n",
        "import collections\n",
        "import torch"
      ],
      "metadata": {
        "id": "RH_5fv9ep_9J"
      },
      "execution_count": 9,
      "outputs": []
    },
    {
      "cell_type": "markdown",
      "source": [
        "##Load data and analysis\n"
      ],
      "metadata": {
        "id": "2CCwlBiboO3F"
      }
    },
    {
      "cell_type": "code",
      "source": [
        "with open('food.jsonl', 'r') as json_file:\n",
        "    json_list = list(json_file)\n",
        "\n",
        "data = pd.DataFrame([])\n",
        "for json_str in json_list:\n",
        "    result = json.loads(json_str)\n",
        "    data = data.append(result,ignore_index=True)"
      ],
      "metadata": {
        "id": "MRPeM6-mqfgi"
      },
      "execution_count": null,
      "outputs": []
    },
    {
      "cell_type": "code",
      "source": [
        "data.isna().value_counts()"
      ],
      "metadata": {
        "colab": {
          "base_uri": "https://localhost:8080/"
        },
        "id": "89PQN4Pymd77",
        "outputId": "2e5ddb7b-0f09-4f92-83d0-47b9a81d3c23"
      },
      "execution_count": 28,
      "outputs": [
        {
          "output_type": "execute_result",
          "data": {
            "text/plain": [
              "review  sentiment  category  aspects\n",
              "False   False      False     False      1917\n",
              "dtype: int64"
            ]
          },
          "metadata": {},
          "execution_count": 28
        }
      ]
    },
    {
      "cell_type": "code",
      "source": [
        "data.sample(10)"
      ],
      "metadata": {
        "colab": {
          "base_uri": "https://localhost:8080/",
          "height": 459
        },
        "id": "q0tAUeSboJqV",
        "outputId": "3c88207d-7069-44c2-e49f-e177001cc36f"
      },
      "execution_count": 29,
      "outputs": [
        {
          "output_type": "execute_result",
          "data": {
            "text/plain": [
              "                                                 review sentiment  \\\n",
              "646           سایز تخم مرغ و رنگ زرده ها خوبه و تازه ست         1   \n",
              "1711  میوه خشک مثل پاستیل بود کشمش افتضاح بود مقدار ...        -2   \n",
              "534   عطر و طعم خوبی نداره‌ خیلی کمرنگه مثل قهوه های...        -1   \n",
              "1693       با بقیه چایی ها هیچ فرقی نداره چه طعم چه رنگ         0   \n",
              "1118  این تخمه از کیفیت و طعم خوب و مناسبی بر خوردار...         2   \n",
              "384   تازه نبود موقع پخت پوسته شد که این نشاندهنده م...        -1   \n",
              "528   روغن بهار کیفیت و برند خوب و معتبر ارزش خرید داره         2   \n",
              "116   با خریدش دقیقا میتونید بدترین مربای عمرتون رو ...        -2   \n",
              "322   اصلا بدرد نمیخوره واقعا بی کیفیترین جنسی بود ک...        -2   \n",
              "767   خوب بود برای رژیم عالیه،مزه خوبی داره و تفاوت ...         2   \n",
              "\n",
              "                category                           aspects  \n",
              "646              تخم مرغ                    {'کیفیت': '1'}  \n",
              "1711  تخمه و مغز طعم‌دار                   {'کیفیت': '-2'}  \n",
              "534                 قهوه                     {'طعم': '-1'}  \n",
              "1693                 چای                      {'طعم': '0'}  \n",
              "1118  تخمه و مغز طعم‌دار        {'کیفیت': '1', 'طعم': '2'}  \n",
              "384        حبوبات و سویا                   {'کیفیت': '-1'}  \n",
              "528                 روغن  {'کیفیت': '1', 'ارزش خرید': '1'}  \n",
              "116                 مربا      {'کیفیت': '-2', 'طعم': '-2'}  \n",
              "322                 روغن      {'کیفیت': '-2', 'طعم': '-2'}  \n",
              "767              تن ماهی                      {'طعم': '1'}  "
            ],
            "text/html": [
              "\n",
              "  <div id=\"df-1e370bad-b539-43c3-ac5d-9e018b4da2e8\">\n",
              "    <div class=\"colab-df-container\">\n",
              "      <div>\n",
              "<style scoped>\n",
              "    .dataframe tbody tr th:only-of-type {\n",
              "        vertical-align: middle;\n",
              "    }\n",
              "\n",
              "    .dataframe tbody tr th {\n",
              "        vertical-align: top;\n",
              "    }\n",
              "\n",
              "    .dataframe thead th {\n",
              "        text-align: right;\n",
              "    }\n",
              "</style>\n",
              "<table border=\"1\" class=\"dataframe\">\n",
              "  <thead>\n",
              "    <tr style=\"text-align: right;\">\n",
              "      <th></th>\n",
              "      <th>review</th>\n",
              "      <th>sentiment</th>\n",
              "      <th>category</th>\n",
              "      <th>aspects</th>\n",
              "    </tr>\n",
              "  </thead>\n",
              "  <tbody>\n",
              "    <tr>\n",
              "      <th>646</th>\n",
              "      <td>سایز تخم مرغ و رنگ زرده ها خوبه و تازه ست</td>\n",
              "      <td>1</td>\n",
              "      <td>تخم مرغ</td>\n",
              "      <td>{'کیفیت': '1'}</td>\n",
              "    </tr>\n",
              "    <tr>\n",
              "      <th>1711</th>\n",
              "      <td>میوه خشک مثل پاستیل بود کشمش افتضاح بود مقدار ...</td>\n",
              "      <td>-2</td>\n",
              "      <td>تخمه و مغز طعم‌دار</td>\n",
              "      <td>{'کیفیت': '-2'}</td>\n",
              "    </tr>\n",
              "    <tr>\n",
              "      <th>534</th>\n",
              "      <td>عطر و طعم خوبی نداره‌ خیلی کمرنگه مثل قهوه های...</td>\n",
              "      <td>-1</td>\n",
              "      <td>قهوه</td>\n",
              "      <td>{'طعم': '-1'}</td>\n",
              "    </tr>\n",
              "    <tr>\n",
              "      <th>1693</th>\n",
              "      <td>با بقیه چایی ها هیچ فرقی نداره چه طعم چه رنگ</td>\n",
              "      <td>0</td>\n",
              "      <td>چای</td>\n",
              "      <td>{'طعم': '0'}</td>\n",
              "    </tr>\n",
              "    <tr>\n",
              "      <th>1118</th>\n",
              "      <td>این تخمه از کیفیت و طعم خوب و مناسبی بر خوردار...</td>\n",
              "      <td>2</td>\n",
              "      <td>تخمه و مغز طعم‌دار</td>\n",
              "      <td>{'کیفیت': '1', 'طعم': '2'}</td>\n",
              "    </tr>\n",
              "    <tr>\n",
              "      <th>384</th>\n",
              "      <td>تازه نبود موقع پخت پوسته شد که این نشاندهنده م...</td>\n",
              "      <td>-1</td>\n",
              "      <td>حبوبات و سویا</td>\n",
              "      <td>{'کیفیت': '-1'}</td>\n",
              "    </tr>\n",
              "    <tr>\n",
              "      <th>528</th>\n",
              "      <td>روغن بهار کیفیت و برند خوب و معتبر ارزش خرید داره</td>\n",
              "      <td>2</td>\n",
              "      <td>روغن</td>\n",
              "      <td>{'کیفیت': '1', 'ارزش خرید': '1'}</td>\n",
              "    </tr>\n",
              "    <tr>\n",
              "      <th>116</th>\n",
              "      <td>با خریدش دقیقا میتونید بدترین مربای عمرتون رو ...</td>\n",
              "      <td>-2</td>\n",
              "      <td>مربا</td>\n",
              "      <td>{'کیفیت': '-2', 'طعم': '-2'}</td>\n",
              "    </tr>\n",
              "    <tr>\n",
              "      <th>322</th>\n",
              "      <td>اصلا بدرد نمیخوره واقعا بی کیفیترین جنسی بود ک...</td>\n",
              "      <td>-2</td>\n",
              "      <td>روغن</td>\n",
              "      <td>{'کیفیت': '-2', 'طعم': '-2'}</td>\n",
              "    </tr>\n",
              "    <tr>\n",
              "      <th>767</th>\n",
              "      <td>خوب بود برای رژیم عالیه،مزه خوبی داره و تفاوت ...</td>\n",
              "      <td>2</td>\n",
              "      <td>تن ماهی</td>\n",
              "      <td>{'طعم': '1'}</td>\n",
              "    </tr>\n",
              "  </tbody>\n",
              "</table>\n",
              "</div>\n",
              "      <button class=\"colab-df-convert\" onclick=\"convertToInteractive('df-1e370bad-b539-43c3-ac5d-9e018b4da2e8')\"\n",
              "              title=\"Convert this dataframe to an interactive table.\"\n",
              "              style=\"display:none;\">\n",
              "        \n",
              "  <svg xmlns=\"http://www.w3.org/2000/svg\" height=\"24px\"viewBox=\"0 0 24 24\"\n",
              "       width=\"24px\">\n",
              "    <path d=\"M0 0h24v24H0V0z\" fill=\"none\"/>\n",
              "    <path d=\"M18.56 5.44l.94 2.06.94-2.06 2.06-.94-2.06-.94-.94-2.06-.94 2.06-2.06.94zm-11 1L8.5 8.5l.94-2.06 2.06-.94-2.06-.94L8.5 2.5l-.94 2.06-2.06.94zm10 10l.94 2.06.94-2.06 2.06-.94-2.06-.94-.94-2.06-.94 2.06-2.06.94z\"/><path d=\"M17.41 7.96l-1.37-1.37c-.4-.4-.92-.59-1.43-.59-.52 0-1.04.2-1.43.59L10.3 9.45l-7.72 7.72c-.78.78-.78 2.05 0 2.83L4 21.41c.39.39.9.59 1.41.59.51 0 1.02-.2 1.41-.59l7.78-7.78 2.81-2.81c.8-.78.8-2.07 0-2.86zM5.41 20L4 18.59l7.72-7.72 1.47 1.35L5.41 20z\"/>\n",
              "  </svg>\n",
              "      </button>\n",
              "      \n",
              "  <style>\n",
              "    .colab-df-container {\n",
              "      display:flex;\n",
              "      flex-wrap:wrap;\n",
              "      gap: 12px;\n",
              "    }\n",
              "\n",
              "    .colab-df-convert {\n",
              "      background-color: #E8F0FE;\n",
              "      border: none;\n",
              "      border-radius: 50%;\n",
              "      cursor: pointer;\n",
              "      display: none;\n",
              "      fill: #1967D2;\n",
              "      height: 32px;\n",
              "      padding: 0 0 0 0;\n",
              "      width: 32px;\n",
              "    }\n",
              "\n",
              "    .colab-df-convert:hover {\n",
              "      background-color: #E2EBFA;\n",
              "      box-shadow: 0px 1px 2px rgba(60, 64, 67, 0.3), 0px 1px 3px 1px rgba(60, 64, 67, 0.15);\n",
              "      fill: #174EA6;\n",
              "    }\n",
              "\n",
              "    [theme=dark] .colab-df-convert {\n",
              "      background-color: #3B4455;\n",
              "      fill: #D2E3FC;\n",
              "    }\n",
              "\n",
              "    [theme=dark] .colab-df-convert:hover {\n",
              "      background-color: #434B5C;\n",
              "      box-shadow: 0px 1px 3px 1px rgba(0, 0, 0, 0.15);\n",
              "      filter: drop-shadow(0px 1px 2px rgba(0, 0, 0, 0.3));\n",
              "      fill: #FFFFFF;\n",
              "    }\n",
              "  </style>\n",
              "\n",
              "      <script>\n",
              "        const buttonEl =\n",
              "          document.querySelector('#df-1e370bad-b539-43c3-ac5d-9e018b4da2e8 button.colab-df-convert');\n",
              "        buttonEl.style.display =\n",
              "          google.colab.kernel.accessAllowed ? 'block' : 'none';\n",
              "\n",
              "        async function convertToInteractive(key) {\n",
              "          const element = document.querySelector('#df-1e370bad-b539-43c3-ac5d-9e018b4da2e8');\n",
              "          const dataTable =\n",
              "            await google.colab.kernel.invokeFunction('convertToInteractive',\n",
              "                                                     [key], {});\n",
              "          if (!dataTable) return;\n",
              "\n",
              "          const docLinkHtml = 'Like what you see? Visit the ' +\n",
              "            '<a target=\"_blank\" href=https://colab.research.google.com/notebooks/data_table.ipynb>data table notebook</a>'\n",
              "            + ' to learn more about interactive tables.';\n",
              "          element.innerHTML = '';\n",
              "          dataTable['output_type'] = 'display_data';\n",
              "          await google.colab.output.renderOutput(dataTable, element);\n",
              "          const docLink = document.createElement('div');\n",
              "          docLink.innerHTML = docLinkHtml;\n",
              "          element.appendChild(docLink);\n",
              "        }\n",
              "      </script>\n",
              "    </div>\n",
              "  </div>\n",
              "  "
            ]
          },
          "metadata": {},
          "execution_count": 29
        }
      ]
    },
    {
      "cell_type": "code",
      "source": [
        "data[\"words_count\"] = [len(x.split()) for x in data[\"review\"]]"
      ],
      "metadata": {
        "id": "0BA9v3Tnp5CT"
      },
      "execution_count": 69,
      "outputs": []
    },
    {
      "cell_type": "markdown",
      "source": [
        "##Essential plots"
      ],
      "metadata": {
        "id": "xsqiJ316mpXD"
      }
    },
    {
      "cell_type": "code",
      "source": [
        "class distributions:\n",
        "\n",
        "  def minmax(data, col_end = 'words_count', col_beg = 'review'):\n",
        "    data[col_end] = data[col_beg].apply(lambda t: len(t.split()))\n",
        "\n",
        "    summary = data[col_end].min(), data[col_end].max(), data[col_end].mean(), np.std(data[col_end])\n",
        "    print(f\" max: {summary[1]} \\n min :{summary[0]}\\n mean : {summary[2]}\\n std : {summary[3]}\")\n",
        "\n",
        "  def word_freq(data, col_end = \"words_count\"):\n",
        "\n",
        "      fig = go.Figure()\n",
        "\n",
        "      fig.add_trace(go.Histogram(\n",
        "          x=data[col_end]\n",
        "      ))\n",
        "\n",
        "      fig.update_layout(\n",
        "          title_text='Distribution of word counts within data',\n",
        "          xaxis_title_text='Word Count',\n",
        "          yaxis_title_text='Frequency',\n",
        "          bargap=0.2,\n",
        "          bargroupgap=0.2)\n",
        "\n",
        "      fig.show()\n",
        "\n",
        "  def data_gl_than(data, less_than=25.0, greater_than=10.0, col='words_count'):\n",
        "      data_length = data[col].values\n",
        "\n",
        "      data_glt = sum([1 for length in data_length if greater_than < length <= less_than])\n",
        "\n",
        "      data_glt_rate = (data_glt / len(data_length)) * 100\n",
        "\n",
        "      print(f'sentences with word length of greater than {greater_than} and less than {less_than} includes {data_glt_rate:.2f}% of the whole!')\n",
        "\n",
        "  def full_df_run(data, col_begin = 'words_count', minmax = True, freq = True, gl = True):\n",
        "    if minmax :\n",
        "      distributions.minmax(data)\n",
        "    if freq:\n",
        "      distributions.word_freq(data,col_end=col_begin)\n",
        "    if gl:\n",
        "      distributions.data_gl_than(data,col=col_begin)\n",
        "\n",
        "  def word_and_freq(data, col = \"tokenized\"):\n",
        "    tokenized_sent = data[col].values\n",
        "    total_len = 0\n",
        "    for i in range(len(tokenized_sent)):\n",
        "      total_len += len(tokenized_sent[i])\n",
        "\n",
        "    mp_freqdist = FreqDist(itertools.chain(*tokenized_sent))\n",
        "    top20words=mp_freqdist.most_common(20)\n",
        "    print ('%-16s' % 'word', '%-16s' % 'Frequency','%-16s' %  '% of the total')\n",
        "    for topword in top20words:\n",
        "        percent=(topword[1]/total_len)*100\n",
        "        print ('%-16s' % topword[0], '%-16s' % topword[1],'%-16s' %  percent)\n",
        "\n",
        "  def author_count(data, col_auth):\n",
        "    fig = go.Figure()\n",
        "\n",
        "    groupby_rate = data.groupby(col_auth)[col_auth].count()\n",
        "\n",
        "    fig.add_trace(go.Bar(\n",
        "        x=list(sorted(groupby_rate.index)),\n",
        "        y=groupby_rate.tolist(),\n",
        "        text=groupby_rate.tolist(),\n",
        "        textposition='auto'\n",
        "    ))\n",
        "\n",
        "    fig.update_layout(\n",
        "        title_text='Distribution of sentiments within sentences',\n",
        "        xaxis_title_text='sentiment',\n",
        "        yaxis_title_text='Frequency',\n",
        "        bargap=0.2,\n",
        "        bargroupgap=0.2)\n",
        "\n",
        "    fig.show()"
      ],
      "metadata": {
        "id": "EX0bebwcmn3X"
      },
      "execution_count": 99,
      "outputs": []
    },
    {
      "cell_type": "code",
      "source": [
        "distributions.full_df_run(data)"
      ],
      "metadata": {
        "colab": {
          "base_uri": "https://localhost:8080/",
          "height": 649
        },
        "id": "c67yQlYmoALE",
        "outputId": "7e6f646a-ac79-4a07-e850-92d3d5162e92"
      },
      "execution_count": 15,
      "outputs": [
        {
          "output_type": "stream",
          "name": "stdout",
          "text": [
            " max: 50 \n",
            " min :8\n",
            " mean : 18.62336984872196\n",
            " std : 8.860481005381581\n"
          ]
        },
        {
          "output_type": "display_data",
          "data": {
            "text/html": [
              "<html>\n",
              "<head><meta charset=\"utf-8\" /></head>\n",
              "<body>\n",
              "    <div>            <script src=\"https://cdnjs.cloudflare.com/ajax/libs/mathjax/2.7.5/MathJax.js?config=TeX-AMS-MML_SVG\"></script><script type=\"text/javascript\">if (window.MathJax && window.MathJax.Hub && window.MathJax.Hub.Config) {window.MathJax.Hub.Config({SVG: {font: \"STIX-Web\"}});}</script>                <script type=\"text/javascript\">window.PlotlyConfig = {MathJaxConfig: 'local'};</script>\n",
              "        <script src=\"https://cdn.plot.ly/plotly-2.18.2.min.js\"></script>                <div id=\"6c245737-a032-4198-bbb8-29e59c49b7e0\" class=\"plotly-graph-div\" style=\"height:525px; width:100%;\"></div>            <script type=\"text/javascript\">                                    window.PLOTLYENV=window.PLOTLYENV || {};                                    if (document.getElementById(\"6c245737-a032-4198-bbb8-29e59c49b7e0\")) {                    Plotly.newPlot(                        \"6c245737-a032-4198-bbb8-29e59c49b7e0\",                        [{\"x\":[21,12,13,30,15,15,18,11,11,14,21,14,13,10,18,19,27,14,44,16,10,21,14,10,10,14,13,37,11,15,27,21,30,13,22,28,36,25,17,23,50,11,13,17,11,30,14,22,14,17,16,10,20,11,32,17,13,19,16,36,12,16,11,19,14,22,28,26,16,11,13,12,24,11,22,10,13,12,35,11,18,11,20,12,15,11,17,33,17,13,12,11,29,11,14,26,14,17,18,22,17,14,28,11,44,10,48,11,14,21,11,37,20,19,13,10,29,28,11,10,11,16,34,11,16,12,27,22,41,25,12,12,44,14,11,11,29,15,14,37,11,13,10,24,12,30,24,28,15,11,24,38,13,27,10,10,25,21,26,11,12,24,15,16,11,25,12,10,18,11,14,11,15,23,20,34,10,26,15,30,28,30,13,10,16,21,12,11,12,11,13,10,16,15,30,38,18,13,17,41,11,50,11,11,13,15,15,26,12,16,11,17,47,31,19,24,13,25,10,13,15,13,16,14,20,17,11,21,10,10,47,37,14,10,18,12,12,13,17,13,16,12,11,21,29,10,41,10,14,17,16,12,14,31,19,10,13,12,18,10,16,11,18,10,16,14,18,28,13,29,47,18,11,21,26,15,12,14,11,12,16,19,12,22,14,12,17,37,17,12,22,27,19,15,11,10,13,15,45,17,10,16,23,20,20,11,18,12,12,11,18,15,32,11,11,35,35,25,12,14,11,22,34,10,11,37,9,15,13,24,20,11,12,14,13,15,20,17,46,12,18,16,40,13,20,14,23,23,50,25,17,16,40,40,28,19,26,27,13,15,20,19,33,29,11,24,10,14,22,10,28,12,10,15,42,15,10,28,18,11,11,23,13,27,11,14,10,20,37,13,43,12,10,23,18,14,19,18,17,13,26,34,13,12,12,15,20,24,15,15,11,39,16,14,10,9,15,18,23,14,28,13,21,12,23,10,15,12,11,30,17,24,15,15,17,14,11,47,20,10,10,17,10,10,27,10,10,29,19,12,17,10,11,11,15,18,32,14,11,13,30,11,10,13,20,18,22,11,31,27,22,11,18,18,12,31,18,14,12,15,10,21,21,11,11,15,11,44,10,15,23,20,12,22,13,29,16,12,23,11,12,12,12,15,28,16,16,12,12,14,18,11,17,12,20,18,10,36,25,12,12,39,16,12,11,20,22,16,11,12,25,13,14,14,39,35,25,13,45,25,10,12,20,23,11,47,16,14,11,11,10,10,29,15,22,10,23,12,10,11,15,10,30,11,30,25,13,13,23,26,18,16,10,12,18,13,11,14,28,14,26,10,11,15,29,44,26,19,13,22,13,14,11,12,14,12,27,19,22,12,13,11,17,26,20,16,14,17,22,17,10,17,16,12,11,10,16,28,28,12,11,27,24,12,33,13,11,11,14,23,11,33,12,10,16,33,10,13,14,21,22,14,10,18,17,46,11,34,19,35,38,18,20,15,18,13,17,12,10,16,13,46,10,10,12,25,20,13,15,15,46,29,11,19,19,26,44,14,10,19,14,22,12,12,29,11,34,11,17,12,12,10,15,36,19,11,15,10,16,10,32,21,34,43,11,14,18,16,13,13,22,17,31,16,18,10,24,17,12,16,14,27,10,10,9,12,20,11,16,13,27,18,11,18,17,12,35,15,42,25,10,12,10,11,47,32,11,46,13,23,11,33,30,33,45,29,14,15,12,24,10,16,18,23,18,19,15,13,17,50,24,11,15,15,18,41,16,16,22,21,26,15,15,11,10,11,15,33,17,29,27,13,12,29,11,13,11,25,13,15,33,24,46,14,20,26,16,13,11,16,19,21,10,41,40,20,23,14,10,10,10,17,16,19,25,15,44,14,11,19,18,12,14,30,30,31,12,10,19,18,18,20,19,16,11,12,22,14,13,10,31,25,32,34,19,16,19,16,10,11,41,16,21,13,39,10,17,10,13,22,18,10,15,9,18,11,26,16,13,11,10,15,16,10,10,16,10,10,11,10,11,16,17,19,11,10,12,13,16,39,18,15,37,15,15,24,20,10,46,11,35,18,12,12,14,19,13,15,12,36,21,36,10,10,15,10,15,28,17,12,28,35,10,26,12,10,13,10,13,13,36,27,10,19,39,13,25,8,11,29,17,23,19,11,11,15,15,22,10,33,11,12,17,33,24,12,27,12,39,11,23,12,39,17,13,19,10,27,10,10,13,24,13,34,12,15,10,10,13,17,16,26,22,16,17,20,10,13,12,24,16,22,27,11,13,10,35,20,20,12,16,15,40,14,38,19,21,10,21,23,35,29,17,18,26,17,19,10,15,19,32,34,20,12,15,50,14,32,14,17,13,11,32,12,13,27,16,30,13,17,25,22,13,13,19,20,12,11,16,23,37,10,10,15,10,22,25,27,20,50,10,15,26,14,12,14,32,10,11,20,17,20,24,30,21,12,17,10,14,16,11,11,10,14,39,14,10,11,33,31,24,32,39,31,11,13,35,12,16,11,19,35,27,13,28,11,14,10,15,13,18,14,11,41,12,43,12,12,20,14,27,28,12,13,11,11,27,17,16,17,39,26,12,21,30,28,13,24,31,11,28,38,11,11,28,18,11,19,14,12,11,14,12,11,26,31,49,29,12,12,16,29,24,27,12,14,19,21,25,26,20,10,23,27,40,10,24,10,15,10,23,13,17,11,19,19,20,19,15,12,12,11,46,31,13,11,13,38,11,20,13,11,21,36,26,32,15,22,13,12,15,18,25,11,10,38,27,20,38,17,10,20,12,14,14,28,28,18,22,21,13,13,15,13,48,14,16,10,11,21,10,10,23,10,33,10,18,14,10,29,17,12,13,37,39,14,18,20,30,11,23,13,10,11,26,16,19,15,13,33,15,13,25,36,14,34,22,23,14,13,17,26,10,11,15,17,22,32,13,13,16,10,14,12,35,12,10,11,14,16,22,11,19,17,26,11,37,13,12,12,10,11,12,22,27,11,24,16,10,40,10,14,21,12,47,11,10,22,24,13,29,31,12,28,10,12,10,23,13,22,13,12,14,12,11,21,14,10,12,10,11,26,21,13,11,16,10,34,17,14,13,17,12,16,14,11,21,12,14,50,18,10,35,13,10,18,42,17,10,23,19,24,19,13,20,12,25,13,34,12,15,14,16,24,20,17,16,10,18,17,14,17,11,16,12,17,17,13,13,22,10,30,12,39,10,23,10,29,11,10,22,10,10,28,14,18,25,14,18,14,18,14,11,46,13,16,41,11,34,12,25,28,16,28,13,35,11,21,11,11,30,24,10,25,20,50,18,12,11,12,15,26,10,25,31,23,11,17,10,19,28,11,39,20,10,12,13,29,17,10,16,15,27,13,10,10,25,19,32,15,13,13,16,13,28,34,33,10,8,20,32,19,28,13,40,23,22,12,14,15,11,20,18,11,16,14,27,13,11,16,33,32,23,19,11,14,17,10,15,15,18,16,11,34,46,14,12,28,17,12,10,10,10,15,16,10,22,11,16,10,14,14,14,10,32,11,32,11,16,21,31,13,14,30,11,18,40,18,17,17,10,13,14,16,12,17,11,17,26,31,49,23,15,17,30,13,19,22,14,20,26,19,19,15,12,15,23,17,24,10,44,11,14,14,15,12,12,25,25,11,35,21,11,13,13,13,43,10,11,25,20,12,18,16,12,16,17,14,10,18,12,22,15,21,10,27,10,20,14,24,11,25,19,27,12,14,17,13,18,37,24,15,15,34,11,21,30,19,10,37,29,22,21,12,19,10,20,10,25,11,15,11,36,12,15,20,12,16,50,19,23,43,16,11,22,10,14,46,15,25,19,13,26,15,10,15,14,10,20,10,13,14,11,17,21,18,42,12,11,11,23,22,18,10,14,13,18,12,12,18,36,14,18,17,24,11,13,13,12,12,13,18,12,37,21,45,21,10,12,25,33,11,11,17,18,24,30,16,10,13,13,17,17,14,11,12,30,15,21,14,19,19,11,13,22,17,16,11,13,31,26,23,23,13,11,29,11,16,12,14,26,20,14,15,35,16,22,13,41,37,39,15,16,13,14,11,17,20,33,13,12,21,24,14,33,12,10,14,23,27,10,10,21,15,23,12,11,31,27,14,38,17,11,19,21,11,16,10,10,50,18,11,21,10,17,28,12,14,14,15,16,12,45,13,15,22,20,45,10,20,11,21,16,10,17,38,20,14,10,21,12,12,29,16,15,21,17,10,15,20,29,10,16,17,10,16,46,13,11,11,20,14,13,33,19,25,10,19,10,23,12,10,15,12,41,17,14,11,11,16,16,39,15,14,12,22,12],\"type\":\"histogram\"}],                        {\"template\":{\"data\":{\"histogram2dcontour\":[{\"type\":\"histogram2dcontour\",\"colorbar\":{\"outlinewidth\":0,\"ticks\":\"\"},\"colorscale\":[[0.0,\"#0d0887\"],[0.1111111111111111,\"#46039f\"],[0.2222222222222222,\"#7201a8\"],[0.3333333333333333,\"#9c179e\"],[0.4444444444444444,\"#bd3786\"],[0.5555555555555556,\"#d8576b\"],[0.6666666666666666,\"#ed7953\"],[0.7777777777777778,\"#fb9f3a\"],[0.8888888888888888,\"#fdca26\"],[1.0,\"#f0f921\"]]}],\"choropleth\":[{\"type\":\"choropleth\",\"colorbar\":{\"outlinewidth\":0,\"ticks\":\"\"}}],\"histogram2d\":[{\"type\":\"histogram2d\",\"colorbar\":{\"outlinewidth\":0,\"ticks\":\"\"},\"colorscale\":[[0.0,\"#0d0887\"],[0.1111111111111111,\"#46039f\"],[0.2222222222222222,\"#7201a8\"],[0.3333333333333333,\"#9c179e\"],[0.4444444444444444,\"#bd3786\"],[0.5555555555555556,\"#d8576b\"],[0.6666666666666666,\"#ed7953\"],[0.7777777777777778,\"#fb9f3a\"],[0.8888888888888888,\"#fdca26\"],[1.0,\"#f0f921\"]]}],\"heatmap\":[{\"type\":\"heatmap\",\"colorbar\":{\"outlinewidth\":0,\"ticks\":\"\"},\"colorscale\":[[0.0,\"#0d0887\"],[0.1111111111111111,\"#46039f\"],[0.2222222222222222,\"#7201a8\"],[0.3333333333333333,\"#9c179e\"],[0.4444444444444444,\"#bd3786\"],[0.5555555555555556,\"#d8576b\"],[0.6666666666666666,\"#ed7953\"],[0.7777777777777778,\"#fb9f3a\"],[0.8888888888888888,\"#fdca26\"],[1.0,\"#f0f921\"]]}],\"heatmapgl\":[{\"type\":\"heatmapgl\",\"colorbar\":{\"outlinewidth\":0,\"ticks\":\"\"},\"colorscale\":[[0.0,\"#0d0887\"],[0.1111111111111111,\"#46039f\"],[0.2222222222222222,\"#7201a8\"],[0.3333333333333333,\"#9c179e\"],[0.4444444444444444,\"#bd3786\"],[0.5555555555555556,\"#d8576b\"],[0.6666666666666666,\"#ed7953\"],[0.7777777777777778,\"#fb9f3a\"],[0.8888888888888888,\"#fdca26\"],[1.0,\"#f0f921\"]]}],\"contourcarpet\":[{\"type\":\"contourcarpet\",\"colorbar\":{\"outlinewidth\":0,\"ticks\":\"\"}}],\"contour\":[{\"type\":\"contour\",\"colorbar\":{\"outlinewidth\":0,\"ticks\":\"\"},\"colorscale\":[[0.0,\"#0d0887\"],[0.1111111111111111,\"#46039f\"],[0.2222222222222222,\"#7201a8\"],[0.3333333333333333,\"#9c179e\"],[0.4444444444444444,\"#bd3786\"],[0.5555555555555556,\"#d8576b\"],[0.6666666666666666,\"#ed7953\"],[0.7777777777777778,\"#fb9f3a\"],[0.8888888888888888,\"#fdca26\"],[1.0,\"#f0f921\"]]}],\"surface\":[{\"type\":\"surface\",\"colorbar\":{\"outlinewidth\":0,\"ticks\":\"\"},\"colorscale\":[[0.0,\"#0d0887\"],[0.1111111111111111,\"#46039f\"],[0.2222222222222222,\"#7201a8\"],[0.3333333333333333,\"#9c179e\"],[0.4444444444444444,\"#bd3786\"],[0.5555555555555556,\"#d8576b\"],[0.6666666666666666,\"#ed7953\"],[0.7777777777777778,\"#fb9f3a\"],[0.8888888888888888,\"#fdca26\"],[1.0,\"#f0f921\"]]}],\"mesh3d\":[{\"type\":\"mesh3d\",\"colorbar\":{\"outlinewidth\":0,\"ticks\":\"\"}}],\"scatter\":[{\"fillpattern\":{\"fillmode\":\"overlay\",\"size\":10,\"solidity\":0.2},\"type\":\"scatter\"}],\"parcoords\":[{\"type\":\"parcoords\",\"line\":{\"colorbar\":{\"outlinewidth\":0,\"ticks\":\"\"}}}],\"scatterpolargl\":[{\"type\":\"scatterpolargl\",\"marker\":{\"colorbar\":{\"outlinewidth\":0,\"ticks\":\"\"}}}],\"bar\":[{\"error_x\":{\"color\":\"#2a3f5f\"},\"error_y\":{\"color\":\"#2a3f5f\"},\"marker\":{\"line\":{\"color\":\"#E5ECF6\",\"width\":0.5},\"pattern\":{\"fillmode\":\"overlay\",\"size\":10,\"solidity\":0.2}},\"type\":\"bar\"}],\"scattergeo\":[{\"type\":\"scattergeo\",\"marker\":{\"colorbar\":{\"outlinewidth\":0,\"ticks\":\"\"}}}],\"scatterpolar\":[{\"type\":\"scatterpolar\",\"marker\":{\"colorbar\":{\"outlinewidth\":0,\"ticks\":\"\"}}}],\"histogram\":[{\"marker\":{\"pattern\":{\"fillmode\":\"overlay\",\"size\":10,\"solidity\":0.2}},\"type\":\"histogram\"}],\"scattergl\":[{\"type\":\"scattergl\",\"marker\":{\"colorbar\":{\"outlinewidth\":0,\"ticks\":\"\"}}}],\"scatter3d\":[{\"type\":\"scatter3d\",\"line\":{\"colorbar\":{\"outlinewidth\":0,\"ticks\":\"\"}},\"marker\":{\"colorbar\":{\"outlinewidth\":0,\"ticks\":\"\"}}}],\"scattermapbox\":[{\"type\":\"scattermapbox\",\"marker\":{\"colorbar\":{\"outlinewidth\":0,\"ticks\":\"\"}}}],\"scatterternary\":[{\"type\":\"scatterternary\",\"marker\":{\"colorbar\":{\"outlinewidth\":0,\"ticks\":\"\"}}}],\"scattercarpet\":[{\"type\":\"scattercarpet\",\"marker\":{\"colorbar\":{\"outlinewidth\":0,\"ticks\":\"\"}}}],\"carpet\":[{\"aaxis\":{\"endlinecolor\":\"#2a3f5f\",\"gridcolor\":\"white\",\"linecolor\":\"white\",\"minorgridcolor\":\"white\",\"startlinecolor\":\"#2a3f5f\"},\"baxis\":{\"endlinecolor\":\"#2a3f5f\",\"gridcolor\":\"white\",\"linecolor\":\"white\",\"minorgridcolor\":\"white\",\"startlinecolor\":\"#2a3f5f\"},\"type\":\"carpet\"}],\"table\":[{\"cells\":{\"fill\":{\"color\":\"#EBF0F8\"},\"line\":{\"color\":\"white\"}},\"header\":{\"fill\":{\"color\":\"#C8D4E3\"},\"line\":{\"color\":\"white\"}},\"type\":\"table\"}],\"barpolar\":[{\"marker\":{\"line\":{\"color\":\"#E5ECF6\",\"width\":0.5},\"pattern\":{\"fillmode\":\"overlay\",\"size\":10,\"solidity\":0.2}},\"type\":\"barpolar\"}],\"pie\":[{\"automargin\":true,\"type\":\"pie\"}]},\"layout\":{\"autotypenumbers\":\"strict\",\"colorway\":[\"#636efa\",\"#EF553B\",\"#00cc96\",\"#ab63fa\",\"#FFA15A\",\"#19d3f3\",\"#FF6692\",\"#B6E880\",\"#FF97FF\",\"#FECB52\"],\"font\":{\"color\":\"#2a3f5f\"},\"hovermode\":\"closest\",\"hoverlabel\":{\"align\":\"left\"},\"paper_bgcolor\":\"white\",\"plot_bgcolor\":\"#E5ECF6\",\"polar\":{\"bgcolor\":\"#E5ECF6\",\"angularaxis\":{\"gridcolor\":\"white\",\"linecolor\":\"white\",\"ticks\":\"\"},\"radialaxis\":{\"gridcolor\":\"white\",\"linecolor\":\"white\",\"ticks\":\"\"}},\"ternary\":{\"bgcolor\":\"#E5ECF6\",\"aaxis\":{\"gridcolor\":\"white\",\"linecolor\":\"white\",\"ticks\":\"\"},\"baxis\":{\"gridcolor\":\"white\",\"linecolor\":\"white\",\"ticks\":\"\"},\"caxis\":{\"gridcolor\":\"white\",\"linecolor\":\"white\",\"ticks\":\"\"}},\"coloraxis\":{\"colorbar\":{\"outlinewidth\":0,\"ticks\":\"\"}},\"colorscale\":{\"sequential\":[[0.0,\"#0d0887\"],[0.1111111111111111,\"#46039f\"],[0.2222222222222222,\"#7201a8\"],[0.3333333333333333,\"#9c179e\"],[0.4444444444444444,\"#bd3786\"],[0.5555555555555556,\"#d8576b\"],[0.6666666666666666,\"#ed7953\"],[0.7777777777777778,\"#fb9f3a\"],[0.8888888888888888,\"#fdca26\"],[1.0,\"#f0f921\"]],\"sequentialminus\":[[0.0,\"#0d0887\"],[0.1111111111111111,\"#46039f\"],[0.2222222222222222,\"#7201a8\"],[0.3333333333333333,\"#9c179e\"],[0.4444444444444444,\"#bd3786\"],[0.5555555555555556,\"#d8576b\"],[0.6666666666666666,\"#ed7953\"],[0.7777777777777778,\"#fb9f3a\"],[0.8888888888888888,\"#fdca26\"],[1.0,\"#f0f921\"]],\"diverging\":[[0,\"#8e0152\"],[0.1,\"#c51b7d\"],[0.2,\"#de77ae\"],[0.3,\"#f1b6da\"],[0.4,\"#fde0ef\"],[0.5,\"#f7f7f7\"],[0.6,\"#e6f5d0\"],[0.7,\"#b8e186\"],[0.8,\"#7fbc41\"],[0.9,\"#4d9221\"],[1,\"#276419\"]]},\"xaxis\":{\"gridcolor\":\"white\",\"linecolor\":\"white\",\"ticks\":\"\",\"title\":{\"standoff\":15},\"zerolinecolor\":\"white\",\"automargin\":true,\"zerolinewidth\":2},\"yaxis\":{\"gridcolor\":\"white\",\"linecolor\":\"white\",\"ticks\":\"\",\"title\":{\"standoff\":15},\"zerolinecolor\":\"white\",\"automargin\":true,\"zerolinewidth\":2},\"scene\":{\"xaxis\":{\"backgroundcolor\":\"#E5ECF6\",\"gridcolor\":\"white\",\"linecolor\":\"white\",\"showbackground\":true,\"ticks\":\"\",\"zerolinecolor\":\"white\",\"gridwidth\":2},\"yaxis\":{\"backgroundcolor\":\"#E5ECF6\",\"gridcolor\":\"white\",\"linecolor\":\"white\",\"showbackground\":true,\"ticks\":\"\",\"zerolinecolor\":\"white\",\"gridwidth\":2},\"zaxis\":{\"backgroundcolor\":\"#E5ECF6\",\"gridcolor\":\"white\",\"linecolor\":\"white\",\"showbackground\":true,\"ticks\":\"\",\"zerolinecolor\":\"white\",\"gridwidth\":2}},\"shapedefaults\":{\"line\":{\"color\":\"#2a3f5f\"}},\"annotationdefaults\":{\"arrowcolor\":\"#2a3f5f\",\"arrowhead\":0,\"arrowwidth\":1},\"geo\":{\"bgcolor\":\"white\",\"landcolor\":\"#E5ECF6\",\"subunitcolor\":\"white\",\"showland\":true,\"showlakes\":true,\"lakecolor\":\"white\"},\"title\":{\"x\":0.05},\"mapbox\":{\"style\":\"light\"}}},\"title\":{\"text\":\"Distribution of word counts within data\"},\"xaxis\":{\"title\":{\"text\":\"Word Count\"}},\"yaxis\":{\"title\":{\"text\":\"Frequency\"}},\"bargap\":0.2,\"bargroupgap\":0.2},                        {\"responsive\": true}                    ).then(function(){\n",
              "                            \n",
              "var gd = document.getElementById('6c245737-a032-4198-bbb8-29e59c49b7e0');\n",
              "var x = new MutationObserver(function (mutations, observer) {{\n",
              "        var display = window.getComputedStyle(gd).display;\n",
              "        if (!display || display === 'none') {{\n",
              "            console.log([gd, 'removed!']);\n",
              "            Plotly.purge(gd);\n",
              "            observer.disconnect();\n",
              "        }}\n",
              "}});\n",
              "\n",
              "// Listen for the removal of the full notebook cells\n",
              "var notebookContainer = gd.closest('#notebook-container');\n",
              "if (notebookContainer) {{\n",
              "    x.observe(notebookContainer, {childList: true});\n",
              "}}\n",
              "\n",
              "// Listen for the clearing of the current output cell\n",
              "var outputEl = gd.closest('.output');\n",
              "if (outputEl) {{\n",
              "    x.observe(outputEl, {childList: true});\n",
              "}}\n",
              "\n",
              "                        })                };                            </script>        </div>\n",
              "</body>\n",
              "</html>"
            ]
          },
          "metadata": {}
        },
        {
          "output_type": "stream",
          "name": "stdout",
          "text": [
            "sentences with word length of greater than 10.0 and less than 25.0 includes 70.06% of the whole!\n"
          ]
        }
      ]
    },
    {
      "cell_type": "markdown",
      "source": [
        "##Document classification"
      ],
      "metadata": {
        "id": "Eiegma7PoVMV"
      }
    },
    {
      "cell_type": "markdown",
      "source": [
        "###Tf-Idf"
      ],
      "metadata": {
        "id": "90Ic9CjoueLV"
      }
    },
    {
      "cell_type": "code",
      "source": [
        "from sklearn.feature_extraction.text import TfidfVectorizer"
      ],
      "metadata": {
        "id": "einz08mkudyk"
      },
      "execution_count": 16,
      "outputs": []
    },
    {
      "cell_type": "code",
      "source": [
        "corpus = [text for text in data[\"review\"]]\n",
        "vectorizer = TfidfVectorizer()\n",
        "X = vectorizer.fit_transform(corpus)\n",
        "print(X)"
      ],
      "metadata": {
        "colab": {
          "base_uri": "https://localhost:8080/"
        },
        "id": "vhSrD61eu0MO",
        "outputId": "0b3bddaf-19a2-4a5a-ab90-60021e7c9984"
      },
      "execution_count": 17,
      "outputs": [
        {
          "output_type": "stream",
          "name": "stdout",
          "text": [
            "  (0, 956)\t0.279793898593645\n",
            "  (0, 3382)\t0.2483162405528635\n",
            "  (0, 3492)\t0.12253480523691855\n",
            "  (0, 1385)\t0.25497389445037266\n",
            "  (0, 1810)\t0.21481990968074424\n",
            "  (0, 2070)\t0.15414202873264773\n",
            "  (0, 1545)\t0.2483162405528635\n",
            "  (0, 3445)\t0.24629756772152578\n",
            "  (0, 1672)\t0.25742923084947067\n",
            "  (0, 1149)\t0.29425572997823257\n",
            "  (0, 303)\t0.17320870915537812\n",
            "  (0, 3116)\t0.184340372283323\n",
            "  (0, 219)\t0.17320870915537812\n",
            "  (0, 2709)\t0.3410506484365923\n",
            "  (0, 435)\t0.11416892609871536\n",
            "  (0, 192)\t0.10123923341720321\n",
            "  (0, 2436)\t0.16694767490691956\n",
            "  (0, 2741)\t0.35721104605979553\n",
            "  (0, 4261)\t0.1760606652035267\n",
            "  (0, 2904)\t0.12202020866938003\n",
            "  (1, 1783)\t0.3862477792894025\n",
            "  (1, 3554)\t0.36633776577724153\n",
            "  (1, 1380)\t0.17490038478053807\n",
            "  (1, 4072)\t0.30253759838218797\n",
            "  (1, 233)\t0.23228204720032106\n",
            "  :\t:\n",
            "  (1915, 2358)\t0.2723389186965947\n",
            "  (1915, 3239)\t0.2762401486767938\n",
            "  (1915, 1472)\t0.21949290743777408\n",
            "  (1915, 3860)\t0.22564443781326896\n",
            "  (1915, 32)\t0.1926309258787993\n",
            "  (1915, 1951)\t0.2762401486767938\n",
            "  (1915, 3080)\t0.1714003131628986\n",
            "  (1915, 3451)\t0.15348390372580992\n",
            "  (1915, 208)\t0.15509494628703974\n",
            "  (1915, 462)\t0.11250684053889859\n",
            "  (1915, 1462)\t0.10703833873913438\n",
            "  (1915, 192)\t0.09995336221291014\n",
            "  (1915, 2436)\t0.16482722021222793\n",
            "  (1916, 1384)\t0.3723582073139306\n",
            "  (1916, 3822)\t0.2755332049960792\n",
            "  (1916, 3251)\t0.26298172203433745\n",
            "  (1916, 502)\t0.3102023928986716\n",
            "  (1916, 1061)\t0.2490856594496713\n",
            "  (1916, 2289)\t0.3081069557565455\n",
            "  (1916, 357)\t0.2704875763706334\n",
            "  (1916, 2309)\t0.32171767860062\n",
            "  (1916, 2545)\t0.27956671952843637\n",
            "  (1916, 2144)\t0.2692800944693403\n",
            "  (1916, 789)\t0.15558852017657226\n",
            "  (1916, 416)\t0.3339602439306496\n"
          ]
        }
      ]
    },
    {
      "cell_type": "markdown",
      "source": [
        "###SVM linear kernel"
      ],
      "metadata": {
        "id": "3suEqk9wojvj"
      }
    },
    {
      "cell_type": "code",
      "source": [
        "##related to scaling and splitting\n",
        "\n",
        "y = data['sentiment']\n",
        "x = X\n",
        "# x=MinMaxScaler().fit_transform(x)\n",
        "x_train , x_test , y_train , y_test = tts(x,y,test_size = 0.1 , random_state = 42)"
      ],
      "metadata": {
        "id": "a7KYNar-wVqx"
      },
      "execution_count": 23,
      "outputs": []
    },
    {
      "cell_type": "code",
      "source": [
        "parameters = dict(kernel=['linear'],C = [5e-3,1e-2,5e-2,1e-1,5e-1,1])"
      ],
      "metadata": {
        "id": "Dd-XiA0Zweay"
      },
      "execution_count": 19,
      "outputs": []
    },
    {
      "cell_type": "markdown",
      "source": [
        "####Preprocess data<br/>implement the cross validation function"
      ],
      "metadata": {
        "id": "JTNoSqp0ozKQ"
      }
    },
    {
      "cell_type": "markdown",
      "source": [
        "####Train and evaluation section"
      ],
      "metadata": {
        "id": "3-emcgyypLQ4"
      }
    },
    {
      "cell_type": "code",
      "source": [
        "random_model = svm.SVC(max_iter=1000,probability=True,verbose=False)\n",
        "model_acc = GridSearchCV(estimator=random_model,param_grid=parameters,n_jobs=-1,cv=10,scoring='accuracy',refit=True)\n",
        "random_model = svm.SVC(max_iter=1000,probability=True,verbose=False)\n",
        "model_f1 = GridSearchCV(estimator=random_model,param_grid=parameters,n_jobs=-1,cv=10,scoring='f1',refit=True)\n",
        "random_model = svm.SVC(max_iter=1000,probability=True,verbose=False)\n",
        "model_rac = GridSearchCV(estimator=random_model,param_grid=parameters,n_jobs=-1,cv=10,scoring='roc_auc',refit=True)"
      ],
      "metadata": {
        "id": "KYU2QKCfw7jl"
      },
      "execution_count": 30,
      "outputs": []
    },
    {
      "cell_type": "code",
      "source": [
        "model_acc.fit(x_train,y_train)\n",
        "model_f1.fit(x_train,y_train)\n",
        "model_rac.fit(x_train,y_train)\n",
        "modelAcc = model_acc.best_estimator_\n",
        "modelF1 = model_f1.best_estimator_\n",
        "modelRac = model_rac.best_estimator_"
      ],
      "metadata": {
        "id": "aFr47s6SVIRE",
        "outputId": "6c24770f-2d4a-460a-d5d8-f573ce351b07",
        "colab": {
          "base_uri": "https://localhost:8080/"
        }
      },
      "execution_count": 31,
      "outputs": [
        {
          "output_type": "stream",
          "name": "stderr",
          "text": [
            "/usr/local/lib/python3.10/dist-packages/sklearn/svm/_base.py:299: ConvergenceWarning:\n",
            "\n",
            "Solver terminated early (max_iter=1000).  Consider pre-processing your data with StandardScaler or MinMaxScaler.\n",
            "\n",
            "/usr/local/lib/python3.10/dist-packages/sklearn/model_selection/_search.py:952: UserWarning:\n",
            "\n",
            "One or more of the test scores are non-finite: [nan nan nan nan nan nan]\n",
            "\n",
            "/usr/local/lib/python3.10/dist-packages/sklearn/model_selection/_search.py:952: UserWarning:\n",
            "\n",
            "One or more of the test scores are non-finite: [nan nan nan nan nan nan]\n",
            "\n"
          ]
        }
      ]
    },
    {
      "cell_type": "code",
      "source": [
        "print(f'score of model with score set to accuracy :{model_acc.best_score_}\\nparameters of model with score set to accuracy:{model_acc.best_params_}\\n-------')\n",
        "print(f'score of model with score set to f1 :{model_f1.best_score_}\\nparameters of model with score set to f1:{model_f1.best_params_}\\n-----------')\n",
        "print(f'score of model with score set to roc-auc :{model_rac.best_score_}\\nparameters of model with score set to roc-auc:{model_rac.best_params_}\\n----------')"
      ],
      "metadata": {
        "id": "X-LybhEkxr4P",
        "colab": {
          "base_uri": "https://localhost:8080/"
        },
        "outputId": "79890cbb-580b-409b-f2d0-b8f11224c3f3"
      },
      "execution_count": 32,
      "outputs": [
        {
          "output_type": "stream",
          "name": "stdout",
          "text": [
            "score of model with score set to accuracy :0.5901633284043555\n",
            "parameters of model with score set to accuracy:{'C': 1, 'kernel': 'linear'}\n",
            "-------\n",
            "score of model with score set to f1 :nan\n",
            "parameters of model with score set to f1:{'C': 0.005, 'kernel': 'linear'}\n",
            "-----------\n",
            "score of model with score set to roc-auc :nan\n",
            "parameters of model with score set to roc-auc:{'C': 0.005, 'kernel': 'linear'}\n",
            "----------\n"
          ]
        }
      ]
    },
    {
      "cell_type": "code",
      "source": [
        "def roc_curve(model,title,score,x,y):\n",
        "  y_score = model.predict_proba(x)[:, 1]\n",
        "  fpr, tpr, thresholds = metrics.roc_curve(y, y_score)\n",
        "\n",
        "  fig = px.area(\n",
        "      x=fpr, y=tpr,\n",
        "      title=f'{title}\\'s ROC Curve (AUC={auc(fpr, tpr):.4f})  -- score:{score}',\n",
        "      labels=dict(x='False Positive Rate', y='True Positive Rate'),\n",
        "      width=700, height=500\n",
        "  )\n",
        "  fig.add_shape(\n",
        "      type='line', line=dict(dash='dash'),\n",
        "      x0=0, x1=1, y0=0, y1=1\n",
        "  )\n",
        "\n",
        "  fig.update_yaxes(scaleanchor=\"x\", scaleratio=1)\n",
        "  fig.update_xaxes(constrain='domain')\n",
        "  fig.show()\n",
        "\n",
        "roc_curve(modelAcc,\"Model_acc\",\"accuracy\",x_train,y_train)\n",
        "roc_curve(modelF1,\"Model_f1\",\"f1\",x_train,y_train)\n",
        "roc_curve(modelRac,\"Model_rac\",\"roc_auc\",x_train,y_)\n",
        "\n",
        "plt.legend()\n",
        "plt.show()"
      ],
      "metadata": {
        "id": "Soa3p75tx0an",
        "colab": {
          "base_uri": "https://localhost:8080/",
          "height": 415
        },
        "outputId": "393eded8-b823-45a6-c742-6652357dbd42"
      },
      "execution_count": 33,
      "outputs": [
        {
          "output_type": "error",
          "ename": "ValueError",
          "evalue": "ignored",
          "traceback": [
            "\u001b[0;31m---------------------------------------------------------------------------\u001b[0m",
            "\u001b[0;31mValueError\u001b[0m                                Traceback (most recent call last)",
            "\u001b[0;32m<ipython-input-33-3b4ea8fc098a>\u001b[0m in \u001b[0;36m<cell line: 20>\u001b[0;34m()\u001b[0m\n\u001b[1;32m     18\u001b[0m   \u001b[0mfig\u001b[0m\u001b[0;34m.\u001b[0m\u001b[0mshow\u001b[0m\u001b[0;34m(\u001b[0m\u001b[0;34m)\u001b[0m\u001b[0;34m\u001b[0m\u001b[0;34m\u001b[0m\u001b[0m\n\u001b[1;32m     19\u001b[0m \u001b[0;34m\u001b[0m\u001b[0m\n\u001b[0;32m---> 20\u001b[0;31m \u001b[0mroc_curve\u001b[0m\u001b[0;34m(\u001b[0m\u001b[0mmodelAcc\u001b[0m\u001b[0;34m,\u001b[0m\u001b[0;34m\"Model_acc\"\u001b[0m\u001b[0;34m,\u001b[0m\u001b[0;34m\"accuracy\"\u001b[0m\u001b[0;34m,\u001b[0m\u001b[0mx_train\u001b[0m\u001b[0;34m,\u001b[0m\u001b[0my_train\u001b[0m\u001b[0;34m)\u001b[0m\u001b[0;34m\u001b[0m\u001b[0;34m\u001b[0m\u001b[0m\n\u001b[0m\u001b[1;32m     21\u001b[0m \u001b[0mroc_curve\u001b[0m\u001b[0;34m(\u001b[0m\u001b[0mmodelF1\u001b[0m\u001b[0;34m,\u001b[0m\u001b[0;34m\"Model_f1\"\u001b[0m\u001b[0;34m,\u001b[0m\u001b[0;34m\"f1\"\u001b[0m\u001b[0;34m,\u001b[0m\u001b[0mx_train\u001b[0m\u001b[0;34m,\u001b[0m\u001b[0my_train\u001b[0m\u001b[0;34m)\u001b[0m\u001b[0;34m\u001b[0m\u001b[0;34m\u001b[0m\u001b[0m\n\u001b[1;32m     22\u001b[0m \u001b[0mroc_curve\u001b[0m\u001b[0;34m(\u001b[0m\u001b[0mmodelRac\u001b[0m\u001b[0;34m,\u001b[0m\u001b[0;34m\"Model_rac\"\u001b[0m\u001b[0;34m,\u001b[0m\u001b[0;34m\"roc_auc\"\u001b[0m\u001b[0;34m,\u001b[0m\u001b[0mx_train\u001b[0m\u001b[0;34m,\u001b[0m\u001b[0my_\u001b[0m\u001b[0;34m)\u001b[0m\u001b[0;34m\u001b[0m\u001b[0;34m\u001b[0m\u001b[0m\n",
            "\u001b[0;32m<ipython-input-33-3b4ea8fc098a>\u001b[0m in \u001b[0;36mroc_curve\u001b[0;34m(model, title, score, x, y)\u001b[0m\n\u001b[1;32m      1\u001b[0m \u001b[0;32mdef\u001b[0m \u001b[0mroc_curve\u001b[0m\u001b[0;34m(\u001b[0m\u001b[0mmodel\u001b[0m\u001b[0;34m,\u001b[0m\u001b[0mtitle\u001b[0m\u001b[0;34m,\u001b[0m\u001b[0mscore\u001b[0m\u001b[0;34m,\u001b[0m\u001b[0mx\u001b[0m\u001b[0;34m,\u001b[0m\u001b[0my\u001b[0m\u001b[0;34m)\u001b[0m\u001b[0;34m:\u001b[0m\u001b[0;34m\u001b[0m\u001b[0;34m\u001b[0m\u001b[0m\n\u001b[1;32m      2\u001b[0m   \u001b[0my_score\u001b[0m \u001b[0;34m=\u001b[0m \u001b[0mmodel\u001b[0m\u001b[0;34m.\u001b[0m\u001b[0mpredict_proba\u001b[0m\u001b[0;34m(\u001b[0m\u001b[0mx\u001b[0m\u001b[0;34m)\u001b[0m\u001b[0;34m[\u001b[0m\u001b[0;34m:\u001b[0m\u001b[0;34m,\u001b[0m \u001b[0;36m1\u001b[0m\u001b[0;34m]\u001b[0m\u001b[0;34m\u001b[0m\u001b[0;34m\u001b[0m\u001b[0m\n\u001b[0;32m----> 3\u001b[0;31m   \u001b[0mfpr\u001b[0m\u001b[0;34m,\u001b[0m \u001b[0mtpr\u001b[0m\u001b[0;34m,\u001b[0m \u001b[0mthresholds\u001b[0m \u001b[0;34m=\u001b[0m \u001b[0mmetrics\u001b[0m\u001b[0;34m.\u001b[0m\u001b[0mroc_curve\u001b[0m\u001b[0;34m(\u001b[0m\u001b[0my\u001b[0m\u001b[0;34m,\u001b[0m \u001b[0my_score\u001b[0m\u001b[0;34m)\u001b[0m\u001b[0;34m\u001b[0m\u001b[0;34m\u001b[0m\u001b[0m\n\u001b[0m\u001b[1;32m      4\u001b[0m \u001b[0;34m\u001b[0m\u001b[0m\n\u001b[1;32m      5\u001b[0m   fig = px.area(\n",
            "\u001b[0;32m/usr/local/lib/python3.10/dist-packages/sklearn/metrics/_ranking.py\u001b[0m in \u001b[0;36mroc_curve\u001b[0;34m(y_true, y_score, pos_label, sample_weight, drop_intermediate)\u001b[0m\n\u001b[1;32m    990\u001b[0m     \u001b[0marray\u001b[0m\u001b[0;34m(\u001b[0m\u001b[0;34m[\u001b[0m\u001b[0;36m1.8\u001b[0m \u001b[0;34m,\u001b[0m \u001b[0;36m0.8\u001b[0m \u001b[0;34m,\u001b[0m \u001b[0;36m0.4\u001b[0m \u001b[0;34m,\u001b[0m \u001b[0;36m0.35\u001b[0m\u001b[0;34m,\u001b[0m \u001b[0;36m0.1\u001b[0m \u001b[0;34m]\u001b[0m\u001b[0;34m)\u001b[0m\u001b[0;34m\u001b[0m\u001b[0;34m\u001b[0m\u001b[0m\n\u001b[1;32m    991\u001b[0m     \"\"\"\n\u001b[0;32m--> 992\u001b[0;31m     fps, tps, thresholds = _binary_clf_curve(\n\u001b[0m\u001b[1;32m    993\u001b[0m         \u001b[0my_true\u001b[0m\u001b[0;34m,\u001b[0m \u001b[0my_score\u001b[0m\u001b[0;34m,\u001b[0m \u001b[0mpos_label\u001b[0m\u001b[0;34m=\u001b[0m\u001b[0mpos_label\u001b[0m\u001b[0;34m,\u001b[0m \u001b[0msample_weight\u001b[0m\u001b[0;34m=\u001b[0m\u001b[0msample_weight\u001b[0m\u001b[0;34m\u001b[0m\u001b[0;34m\u001b[0m\u001b[0m\n\u001b[1;32m    994\u001b[0m     )\n",
            "\u001b[0;32m/usr/local/lib/python3.10/dist-packages/sklearn/metrics/_ranking.py\u001b[0m in \u001b[0;36m_binary_clf_curve\u001b[0;34m(y_true, y_score, pos_label, sample_weight)\u001b[0m\n\u001b[1;32m    747\u001b[0m     \u001b[0my_type\u001b[0m \u001b[0;34m=\u001b[0m \u001b[0mtype_of_target\u001b[0m\u001b[0;34m(\u001b[0m\u001b[0my_true\u001b[0m\u001b[0;34m,\u001b[0m \u001b[0minput_name\u001b[0m\u001b[0;34m=\u001b[0m\u001b[0;34m\"y_true\"\u001b[0m\u001b[0;34m)\u001b[0m\u001b[0;34m\u001b[0m\u001b[0;34m\u001b[0m\u001b[0m\n\u001b[1;32m    748\u001b[0m     \u001b[0;32mif\u001b[0m \u001b[0;32mnot\u001b[0m \u001b[0;34m(\u001b[0m\u001b[0my_type\u001b[0m \u001b[0;34m==\u001b[0m \u001b[0;34m\"binary\"\u001b[0m \u001b[0;32mor\u001b[0m \u001b[0;34m(\u001b[0m\u001b[0my_type\u001b[0m \u001b[0;34m==\u001b[0m \u001b[0;34m\"multiclass\"\u001b[0m \u001b[0;32mand\u001b[0m \u001b[0mpos_label\u001b[0m \u001b[0;32mis\u001b[0m \u001b[0;32mnot\u001b[0m \u001b[0;32mNone\u001b[0m\u001b[0;34m)\u001b[0m\u001b[0;34m)\u001b[0m\u001b[0;34m:\u001b[0m\u001b[0;34m\u001b[0m\u001b[0;34m\u001b[0m\u001b[0m\n\u001b[0;32m--> 749\u001b[0;31m         \u001b[0;32mraise\u001b[0m \u001b[0mValueError\u001b[0m\u001b[0;34m(\u001b[0m\u001b[0;34m\"{0} format is not supported\"\u001b[0m\u001b[0;34m.\u001b[0m\u001b[0mformat\u001b[0m\u001b[0;34m(\u001b[0m\u001b[0my_type\u001b[0m\u001b[0;34m)\u001b[0m\u001b[0;34m)\u001b[0m\u001b[0;34m\u001b[0m\u001b[0;34m\u001b[0m\u001b[0m\n\u001b[0m\u001b[1;32m    750\u001b[0m \u001b[0;34m\u001b[0m\u001b[0m\n\u001b[1;32m    751\u001b[0m     \u001b[0mcheck_consistent_length\u001b[0m\u001b[0;34m(\u001b[0m\u001b[0my_true\u001b[0m\u001b[0;34m,\u001b[0m \u001b[0my_score\u001b[0m\u001b[0;34m,\u001b[0m \u001b[0msample_weight\u001b[0m\u001b[0;34m)\u001b[0m\u001b[0;34m\u001b[0m\u001b[0;34m\u001b[0m\u001b[0m\n",
            "\u001b[0;31mValueError\u001b[0m: multiclass format is not supported"
          ]
        }
      ]
    },
    {
      "cell_type": "code",
      "source": [
        "def prec_recall(model,title,score,x,y):\n",
        "\n",
        "  y_score = model.predict_proba(x)[:, 1]\n",
        "  precision, recall, thresholds = precision_recall_curve(y, y_score)\n",
        "\n",
        "  fig = px.area(\n",
        "      x=recall, y=precision,\n",
        "      title=f'{title}\\'s Precision-Recall Curve (AUC={auc(precision, recall):.4f}) -- score : {score}',\n",
        "      labels=dict(x='Recall', y='Precision'),\n",
        "      width=700, height=500\n",
        "  )\n",
        "  fig.add_shape(\n",
        "      type='line', line=dict(dash='dash'),\n",
        "      x0=0, x1=1, y0=1, y1=0\n",
        "  )\n",
        "  fig.update_yaxes(scaleanchor=\"x\", scaleratio=1)\n",
        "  fig.update_xaxes(constrain='domain')\n",
        "\n",
        "  fig.show()\n",
        "\n",
        "\n",
        "prec_recall(modelAcc,\"Model_acc\",\"accuracy\",x_train,y_train)\n",
        "prec_recall(modelF1,\"Model_f1\",\"f1\",x_train,y_train)\n",
        "prec_recall(modelRac,\"Model_rac\",\"roc_auc\",x_train,y_train)\n",
        "\n",
        "plt.legend()\n",
        "plt.show()"
      ],
      "metadata": {
        "id": "tVeV9eI2x81A",
        "colab": {
          "base_uri": "https://localhost:8080/",
          "height": 235
        },
        "outputId": "0d6b68dc-5230-4016-e6b1-be4f75ceadd8"
      },
      "execution_count": 1,
      "outputs": [
        {
          "output_type": "error",
          "ename": "NameError",
          "evalue": "ignored",
          "traceback": [
            "\u001b[0;31m---------------------------------------------------------------------------\u001b[0m",
            "\u001b[0;31mNameError\u001b[0m                                 Traceback (most recent call last)",
            "\u001b[0;32m<ipython-input-1-735e02f51842>\u001b[0m in \u001b[0;36m<cell line: 22>\u001b[0;34m()\u001b[0m\n\u001b[1;32m     20\u001b[0m \u001b[0;34m\u001b[0m\u001b[0m\n\u001b[1;32m     21\u001b[0m \u001b[0;34m\u001b[0m\u001b[0m\n\u001b[0;32m---> 22\u001b[0;31m \u001b[0mprec_recall\u001b[0m\u001b[0;34m(\u001b[0m\u001b[0mmodelAcc\u001b[0m\u001b[0;34m,\u001b[0m\u001b[0;34m\"Model_acc\"\u001b[0m\u001b[0;34m,\u001b[0m\u001b[0;34m\"accuracy\"\u001b[0m\u001b[0;34m,\u001b[0m\u001b[0mx_train\u001b[0m\u001b[0;34m,\u001b[0m\u001b[0my_train\u001b[0m\u001b[0;34m)\u001b[0m\u001b[0;34m\u001b[0m\u001b[0;34m\u001b[0m\u001b[0m\n\u001b[0m\u001b[1;32m     23\u001b[0m \u001b[0mprec_recall\u001b[0m\u001b[0;34m(\u001b[0m\u001b[0mmodelF1\u001b[0m\u001b[0;34m,\u001b[0m\u001b[0;34m\"Model_f1\"\u001b[0m\u001b[0;34m,\u001b[0m\u001b[0;34m\"f1\"\u001b[0m\u001b[0;34m,\u001b[0m\u001b[0mx_train\u001b[0m\u001b[0;34m,\u001b[0m\u001b[0my_train\u001b[0m\u001b[0;34m)\u001b[0m\u001b[0;34m\u001b[0m\u001b[0;34m\u001b[0m\u001b[0m\n\u001b[1;32m     24\u001b[0m \u001b[0mprec_recall\u001b[0m\u001b[0;34m(\u001b[0m\u001b[0mmodelRac\u001b[0m\u001b[0;34m,\u001b[0m\u001b[0;34m\"Model_rac\"\u001b[0m\u001b[0;34m,\u001b[0m\u001b[0;34m\"roc_auc\"\u001b[0m\u001b[0;34m,\u001b[0m\u001b[0mx_train\u001b[0m\u001b[0;34m,\u001b[0m\u001b[0my_train\u001b[0m\u001b[0;34m)\u001b[0m\u001b[0;34m\u001b[0m\u001b[0;34m\u001b[0m\u001b[0m\n",
            "\u001b[0;31mNameError\u001b[0m: name 'modelAcc' is not defined"
          ]
        }
      ]
    },
    {
      "cell_type": "code",
      "source": [
        "def learning_curve(model,x,y,fold,title):\n",
        "  train_sizes, train_scores, test_scores = learning_curve(estimator=model, X=x, y=y,cv=fold,)\n",
        "  train_mean = np.mean(train_scores, axis=1)\n",
        "  train_std = np.std(train_scores, axis=1)\n",
        "  test_mean = np.mean(test_scores, axis=1)\n",
        "  test_std = np.std(test_scores, axis=1)\n",
        "\n",
        "  plt.plot(train_sizes, train_mean, color='blue', marker='o', markersize=5, label='Training Accuracy')\n",
        "  plt.fill_between(train_sizes, train_mean + train_std, train_mean - train_std, alpha=0.15, color='blue')\n",
        "  plt.plot(train_sizes, test_mean, color='green', marker='+', markersize=5, linestyle='--', label='Validation Accuracy')\n",
        "  plt.fill_between(train_sizes, test_mean + test_std, test_mean - test_std, alpha=0.15, color='green')\n",
        "  plt.title(f'Learning Curve for {title}')\n",
        "  plt.xlabel('Training Data Size')\n",
        "  plt.ylabel('Model accuracy')\n",
        "  plt.grid()\n",
        "  plt.legend(loc='lower right')\n",
        "  plt.show()\n",
        "\n",
        "\n",
        "learning_curve(modelAcc,x_train,y_train,10,\"Model_acc\")\n",
        "learning_curve(modelF1,x_train,y_train,10,\"Model_f1\")\n",
        "learning_curve(modelRac,x_train,y_train,10,\"Model_rac\")"
      ],
      "metadata": {
        "id": "pYQeziB0yK7W",
        "colab": {
          "base_uri": "https://localhost:8080/",
          "height": 235
        },
        "outputId": "aeb5be2e-2ae0-4b80-afd7-2590979c3f16"
      },
      "execution_count": 2,
      "outputs": [
        {
          "output_type": "error",
          "ename": "NameError",
          "evalue": "ignored",
          "traceback": [
            "\u001b[0;31m---------------------------------------------------------------------------\u001b[0m",
            "\u001b[0;31mNameError\u001b[0m                                 Traceback (most recent call last)",
            "\u001b[0;32m<ipython-input-2-0eb9fd767c08>\u001b[0m in \u001b[0;36m<cell line: 20>\u001b[0;34m()\u001b[0m\n\u001b[1;32m     18\u001b[0m \u001b[0;34m\u001b[0m\u001b[0m\n\u001b[1;32m     19\u001b[0m \u001b[0;34m\u001b[0m\u001b[0m\n\u001b[0;32m---> 20\u001b[0;31m \u001b[0mlearning_curve\u001b[0m\u001b[0;34m(\u001b[0m\u001b[0mmodelAcc\u001b[0m\u001b[0;34m,\u001b[0m\u001b[0mx_train\u001b[0m\u001b[0;34m,\u001b[0m\u001b[0my_train\u001b[0m\u001b[0;34m,\u001b[0m\u001b[0;36m10\u001b[0m\u001b[0;34m,\u001b[0m\u001b[0;34m\"Model_acc\"\u001b[0m\u001b[0;34m)\u001b[0m\u001b[0;34m\u001b[0m\u001b[0;34m\u001b[0m\u001b[0m\n\u001b[0m\u001b[1;32m     21\u001b[0m \u001b[0mlearning_curve\u001b[0m\u001b[0;34m(\u001b[0m\u001b[0mmodelF1\u001b[0m\u001b[0;34m,\u001b[0m\u001b[0mx_train\u001b[0m\u001b[0;34m,\u001b[0m\u001b[0my_train\u001b[0m\u001b[0;34m,\u001b[0m\u001b[0;36m10\u001b[0m\u001b[0;34m,\u001b[0m\u001b[0;34m\"Model_f1\"\u001b[0m\u001b[0;34m)\u001b[0m\u001b[0;34m\u001b[0m\u001b[0;34m\u001b[0m\u001b[0m\n\u001b[1;32m     22\u001b[0m \u001b[0mlearning_curve\u001b[0m\u001b[0;34m(\u001b[0m\u001b[0mmodelRac\u001b[0m\u001b[0;34m,\u001b[0m\u001b[0mx_train\u001b[0m\u001b[0;34m,\u001b[0m\u001b[0my_train\u001b[0m\u001b[0;34m,\u001b[0m\u001b[0;36m10\u001b[0m\u001b[0;34m,\u001b[0m\u001b[0;34m\"Model_rac\"\u001b[0m\u001b[0;34m)\u001b[0m\u001b[0;34m\u001b[0m\u001b[0;34m\u001b[0m\u001b[0m\n",
            "\u001b[0;31mNameError\u001b[0m: name 'modelAcc' is not defined"
          ]
        }
      ]
    },
    {
      "cell_type": "markdown",
      "source": [
        "####Test"
      ],
      "metadata": {
        "id": "Cz5jz2SFpQuW"
      }
    },
    {
      "cell_type": "code",
      "source": [
        "predicted_classes = modelF1.predict(x_test)\n",
        "metrics.confusion_matrix(y_test,predicted_classes)"
      ],
      "metadata": {
        "id": "xjYn6XPSmHjJ"
      },
      "execution_count": null,
      "outputs": []
    },
    {
      "cell_type": "code",
      "source": [
        "print(classification_report(y_test, predicted_classes))"
      ],
      "metadata": {
        "id": "860PKvH1mOHL"
      },
      "execution_count": null,
      "outputs": []
    },
    {
      "cell_type": "markdown",
      "source": [
        "###Transformer-based model"
      ],
      "metadata": {
        "id": "Zcnv5eAvomaU"
      }
    },
    {
      "cell_type": "markdown",
      "source": [
        "####Preprocess"
      ],
      "metadata": {
        "id": "PuI7QYjwQYfY"
      }
    },
    {
      "cell_type": "code",
      "source": [
        "##set word_tokenizer, sent tokenizer, normalizer, lemmatizer and other tooks to suitable and favoured persian ones\n",
        "!pip install -q hazm"
      ],
      "metadata": {
        "id": "6AhiTQy5QdCV",
        "outputId": "c2999f91-46fe-4b48-e56f-65c638c5a810",
        "colab": {
          "base_uri": "https://localhost:8080/"
        }
      },
      "execution_count": 16,
      "outputs": [
        {
          "output_type": "stream",
          "name": "stdout",
          "text": [
            "\u001b[2K     \u001b[90m━━━━━━━━━━━━━━━━━━━━━━━━━━━━━━━━━━━━━━━\u001b[0m \u001b[32m477.8/477.8 kB\u001b[0m \u001b[31m7.3 MB/s\u001b[0m eta \u001b[36m0:00:00\u001b[0m\n",
            "\u001b[2K     \u001b[90m━━━━━━━━━━━━━━━━━━━━━━━━━━━━━━━━━━━━━━━━\u001b[0m \u001b[32m17.6/17.6 MB\u001b[0m \u001b[31m30.5 MB/s\u001b[0m eta \u001b[36m0:00:00\u001b[0m\n",
            "\u001b[2K     \u001b[90m━━━━━━━━━━━━━━━━━━━━━━━━━━━━━━━━━━━━━━\u001b[0m \u001b[32m993.5/993.5 kB\u001b[0m \u001b[31m28.1 MB/s\u001b[0m eta \u001b[36m0:00:00\u001b[0m\n",
            "\u001b[?25h\u001b[31mERROR: pip's dependency resolver does not currently take into account all the packages that are installed. This behaviour is the source of the following dependency conflicts.\n",
            "numba 0.56.4 requires numpy<1.24,>=1.18, but you have numpy 1.25.0 which is incompatible.\n",
            "tensorflow 2.12.0 requires numpy<1.24,>=1.22, but you have numpy 1.25.0 which is incompatible.\u001b[0m\u001b[31m\n",
            "\u001b[0m"
          ]
        }
      ]
    },
    {
      "cell_type": "code",
      "source": [
        "import hazm\n",
        "word_tokenizer = hazm.WordTokenizer()\n",
        "normalizer = hazm.Normalizer()\n",
        "sent_tokenizer = hazm.SentenceTokenizer()\n",
        "lemmatizer = hazm.Lemmatizer()"
      ],
      "metadata": {
        "id": "uwakEbCVRFXW"
      },
      "execution_count": 39,
      "outputs": []
    },
    {
      "cell_type": "markdown",
      "metadata": {
        "id": "9dr652Fha6cw"
      },
      "source": [
        "#####Subsection 1: tokenizing"
      ]
    },
    {
      "cell_type": "code",
      "source": [
        "tokenized_sents = [word_tokenizer.tokenize(sent) for sent in data[\"review\"]]\n",
        "data[\"tokenized\"] = tokenized_sents\n",
        "data.sample(5)"
      ],
      "metadata": {
        "colab": {
          "base_uri": "https://localhost:8080/",
          "height": 337
        },
        "id": "jq1BgfrFY1Kp",
        "outputId": "da7c4d32-62e7-45bf-f48c-5befad692273"
      },
      "execution_count": 38,
      "outputs": [
        {
          "output_type": "execute_result",
          "data": {
            "text/plain": [
              "                                                 review sentiment  \\\n",
              "1350  کیفیت خوبی داره طعم و عطر و رنگ مناسب و خوبی ه...         2   \n",
              "1012  از انقضاش چندروز مونده بود و پلمپ شده گذاشتم ت...        -2   \n",
              "1145  تیکه های زیری کمی رنگ زرد داشتن انگار زعفرون ی...        -1   \n",
              "560   خامه نمی دهد و عطر و طعم مناسبی دارد. در کل ار...         1   \n",
              "452   طعمش رو دوست نداشتم ، البته این موضوع سلیقه ایه .        -1   \n",
              "\n",
              "                        category                         aspects  \\\n",
              "1350          تخمه و مغز طعم‌دار      {'کیفیت': '1', 'طعم': '1'}   \n",
              "1012                         شیر                              {}   \n",
              "1145                    گوشت مرغ                              {}   \n",
              "560                         قهوه  {'طعم': '1', 'ارزش خرید': '1'}   \n",
              "452   آدامس و خوشبو کننده‌ی دهان                   {'طعم': '-1'}   \n",
              "\n",
              "                                              tokenized  \n",
              "1350  [کیفیت, خوبی, داره, طعم, و, عطر, و, رنگ, مناسب...  \n",
              "1012  [از, انقضاش, چندروز, مونده_بود, و, پلمپ, شده, ...  \n",
              "1145  [تیکه, های, زیری, کمی, رنگ, زرد, داشتن, انگار,...  \n",
              "560   [خامه, نمی, دهد, و, عطر, و, طعم, مناسبی, دارد,...  \n",
              "452   [طعمش, رو, دوست, نداشتم, ،, البته, این, موضوع,...  "
            ],
            "text/html": [
              "\n",
              "  <div id=\"df-88baf0e8-bfcb-4c87-8666-e5190be293d5\">\n",
              "    <div class=\"colab-df-container\">\n",
              "      <div>\n",
              "<style scoped>\n",
              "    .dataframe tbody tr th:only-of-type {\n",
              "        vertical-align: middle;\n",
              "    }\n",
              "\n",
              "    .dataframe tbody tr th {\n",
              "        vertical-align: top;\n",
              "    }\n",
              "\n",
              "    .dataframe thead th {\n",
              "        text-align: right;\n",
              "    }\n",
              "</style>\n",
              "<table border=\"1\" class=\"dataframe\">\n",
              "  <thead>\n",
              "    <tr style=\"text-align: right;\">\n",
              "      <th></th>\n",
              "      <th>review</th>\n",
              "      <th>sentiment</th>\n",
              "      <th>category</th>\n",
              "      <th>aspects</th>\n",
              "      <th>tokenized</th>\n",
              "    </tr>\n",
              "  </thead>\n",
              "  <tbody>\n",
              "    <tr>\n",
              "      <th>1350</th>\n",
              "      <td>کیفیت خوبی داره طعم و عطر و رنگ مناسب و خوبی ه...</td>\n",
              "      <td>2</td>\n",
              "      <td>تخمه و مغز طعم‌دار</td>\n",
              "      <td>{'کیفیت': '1', 'طعم': '1'}</td>\n",
              "      <td>[کیفیت, خوبی, داره, طعم, و, عطر, و, رنگ, مناسب...</td>\n",
              "    </tr>\n",
              "    <tr>\n",
              "      <th>1012</th>\n",
              "      <td>از انقضاش چندروز مونده بود و پلمپ شده گذاشتم ت...</td>\n",
              "      <td>-2</td>\n",
              "      <td>شیر</td>\n",
              "      <td>{}</td>\n",
              "      <td>[از, انقضاش, چندروز, مونده_بود, و, پلمپ, شده, ...</td>\n",
              "    </tr>\n",
              "    <tr>\n",
              "      <th>1145</th>\n",
              "      <td>تیکه های زیری کمی رنگ زرد داشتن انگار زعفرون ی...</td>\n",
              "      <td>-1</td>\n",
              "      <td>گوشت مرغ</td>\n",
              "      <td>{}</td>\n",
              "      <td>[تیکه, های, زیری, کمی, رنگ, زرد, داشتن, انگار,...</td>\n",
              "    </tr>\n",
              "    <tr>\n",
              "      <th>560</th>\n",
              "      <td>خامه نمی دهد و عطر و طعم مناسبی دارد. در کل ار...</td>\n",
              "      <td>1</td>\n",
              "      <td>قهوه</td>\n",
              "      <td>{'طعم': '1', 'ارزش خرید': '1'}</td>\n",
              "      <td>[خامه, نمی, دهد, و, عطر, و, طعم, مناسبی, دارد,...</td>\n",
              "    </tr>\n",
              "    <tr>\n",
              "      <th>452</th>\n",
              "      <td>طعمش رو دوست نداشتم ، البته این موضوع سلیقه ایه .</td>\n",
              "      <td>-1</td>\n",
              "      <td>آدامس و خوشبو کننده‌ی دهان</td>\n",
              "      <td>{'طعم': '-1'}</td>\n",
              "      <td>[طعمش, رو, دوست, نداشتم, ،, البته, این, موضوع,...</td>\n",
              "    </tr>\n",
              "  </tbody>\n",
              "</table>\n",
              "</div>\n",
              "      <button class=\"colab-df-convert\" onclick=\"convertToInteractive('df-88baf0e8-bfcb-4c87-8666-e5190be293d5')\"\n",
              "              title=\"Convert this dataframe to an interactive table.\"\n",
              "              style=\"display:none;\">\n",
              "        \n",
              "  <svg xmlns=\"http://www.w3.org/2000/svg\" height=\"24px\"viewBox=\"0 0 24 24\"\n",
              "       width=\"24px\">\n",
              "    <path d=\"M0 0h24v24H0V0z\" fill=\"none\"/>\n",
              "    <path d=\"M18.56 5.44l.94 2.06.94-2.06 2.06-.94-2.06-.94-.94-2.06-.94 2.06-2.06.94zm-11 1L8.5 8.5l.94-2.06 2.06-.94-2.06-.94L8.5 2.5l-.94 2.06-2.06.94zm10 10l.94 2.06.94-2.06 2.06-.94-2.06-.94-.94-2.06-.94 2.06-2.06.94z\"/><path d=\"M17.41 7.96l-1.37-1.37c-.4-.4-.92-.59-1.43-.59-.52 0-1.04.2-1.43.59L10.3 9.45l-7.72 7.72c-.78.78-.78 2.05 0 2.83L4 21.41c.39.39.9.59 1.41.59.51 0 1.02-.2 1.41-.59l7.78-7.78 2.81-2.81c.8-.78.8-2.07 0-2.86zM5.41 20L4 18.59l7.72-7.72 1.47 1.35L5.41 20z\"/>\n",
              "  </svg>\n",
              "      </button>\n",
              "      \n",
              "  <style>\n",
              "    .colab-df-container {\n",
              "      display:flex;\n",
              "      flex-wrap:wrap;\n",
              "      gap: 12px;\n",
              "    }\n",
              "\n",
              "    .colab-df-convert {\n",
              "      background-color: #E8F0FE;\n",
              "      border: none;\n",
              "      border-radius: 50%;\n",
              "      cursor: pointer;\n",
              "      display: none;\n",
              "      fill: #1967D2;\n",
              "      height: 32px;\n",
              "      padding: 0 0 0 0;\n",
              "      width: 32px;\n",
              "    }\n",
              "\n",
              "    .colab-df-convert:hover {\n",
              "      background-color: #E2EBFA;\n",
              "      box-shadow: 0px 1px 2px rgba(60, 64, 67, 0.3), 0px 1px 3px 1px rgba(60, 64, 67, 0.15);\n",
              "      fill: #174EA6;\n",
              "    }\n",
              "\n",
              "    [theme=dark] .colab-df-convert {\n",
              "      background-color: #3B4455;\n",
              "      fill: #D2E3FC;\n",
              "    }\n",
              "\n",
              "    [theme=dark] .colab-df-convert:hover {\n",
              "      background-color: #434B5C;\n",
              "      box-shadow: 0px 1px 3px 1px rgba(0, 0, 0, 0.15);\n",
              "      filter: drop-shadow(0px 1px 2px rgba(0, 0, 0, 0.3));\n",
              "      fill: #FFFFFF;\n",
              "    }\n",
              "  </style>\n",
              "\n",
              "      <script>\n",
              "        const buttonEl =\n",
              "          document.querySelector('#df-88baf0e8-bfcb-4c87-8666-e5190be293d5 button.colab-df-convert');\n",
              "        buttonEl.style.display =\n",
              "          google.colab.kernel.accessAllowed ? 'block' : 'none';\n",
              "\n",
              "        async function convertToInteractive(key) {\n",
              "          const element = document.querySelector('#df-88baf0e8-bfcb-4c87-8666-e5190be293d5');\n",
              "          const dataTable =\n",
              "            await google.colab.kernel.invokeFunction('convertToInteractive',\n",
              "                                                     [key], {});\n",
              "          if (!dataTable) return;\n",
              "\n",
              "          const docLinkHtml = 'Like what you see? Visit the ' +\n",
              "            '<a target=\"_blank\" href=https://colab.research.google.com/notebooks/data_table.ipynb>data table notebook</a>'\n",
              "            + ' to learn more about interactive tables.';\n",
              "          element.innerHTML = '';\n",
              "          dataTable['output_type'] = 'display_data';\n",
              "          await google.colab.output.renderOutput(dataTable, element);\n",
              "          const docLink = document.createElement('div');\n",
              "          docLink.innerHTML = docLinkHtml;\n",
              "          element.appendChild(docLink);\n",
              "        }\n",
              "      </script>\n",
              "    </div>\n",
              "  </div>\n",
              "  "
            ]
          },
          "metadata": {},
          "execution_count": 38
        }
      ]
    },
    {
      "cell_type": "code",
      "source": [
        "distributions.word_and_freq(data,\"tokenized\")"
      ],
      "metadata": {
        "colab": {
          "base_uri": "https://localhost:8080/"
        },
        "id": "dHGeIN-FTzSJ",
        "outputId": "24bd010d-5ba0-4ea3-a6ba-600b313b27b4"
      },
      "execution_count": 40,
      "outputs": [
        {
          "output_type": "stream",
          "name": "stdout",
          "text": [
            "word             Frequency        % of the total  \n",
            "و                1624             4.34491799769912\n",
            ".                1096             2.9322845600235437\n",
            "به               720              1.9263183241030581\n",
            "از               672              1.7978971024961876\n",
            "بود              609              1.62934424913717\n",
            "که               578              1.546405543516066\n",
            "خیلی             565              1.5116247959975386\n",
            "،                501              1.340396500521711\n",
            "با               485              1.2975894266527543\n",
            "این              480              1.2842122160687053\n",
            "هم               452              1.2092998367980308\n",
            "طعم              434              1.1611418786954546\n",
            "من               381              1.0193434465045348\n",
            "در               337              0.9016239933649035\n",
            "داره             334              0.8935976670144742\n",
            "کیفیت            318              0.8507905931455173\n",
            "ولی              304              0.81333440351018\n",
            "خوب              294              0.786579982342082\n",
            "رو               293              0.7839045402252722\n",
            "بسته             234              0.6260534553334939\n"
          ]
        }
      ]
    },
    {
      "cell_type": "markdown",
      "source": [
        "**In the next subsection** we will check again after normalising our data, actions like:\n",
        ">omitting stopwords<br/>\n",
        ">punctuations removal"
      ],
      "metadata": {
        "id": "lacB6tqCamwE"
      }
    },
    {
      "cell_type": "markdown",
      "metadata": {
        "id": "pN_EHVS6iSin"
      },
      "source": [
        "#####Subsection 2: normalising"
      ]
    },
    {
      "cell_type": "code",
      "source": [
        "stop_words = [\"در\",\"را\",\"رو\",\"اند\",\"بود\",\"است\",\"هم\",\"آن\",\"بوده\",\"این\",\"پیش\",\"بعد\",\"همراه\",\"به\",\"ز\",\"تا\",\"اگر\",\"پی\",\"پس\",\"بی\",\"با\",\"یا\",\"که\",\"از\",\"و\"]"
      ],
      "metadata": {
        "id": "-SiOG9goc-vy"
      },
      "execution_count": 133,
      "outputs": []
    },
    {
      "cell_type": "code",
      "execution_count": 134,
      "metadata": {
        "id": "0Lu_ArAww76m"
      },
      "outputs": [],
      "source": [
        "import string\n",
        "\n",
        "def clean_text(text):\n",
        "    #removing roman numbers\n",
        "    pattern = r\"\\b(?=[MDCLXVIΙ])M{0,4}(CM|CD|D?C{0,3})(XC|XL|L?X{0,3})([IΙ]X|[IΙ]V|V?[IΙ]{0,3})\\b\\.?\"\n",
        "    re.sub(pattern, '&', text)\n",
        "    #removing numbers\n",
        "    text_nonum = re.sub(r'\\d+', '', text)\n",
        "    #getting rid of punctuations\n",
        "    text_nopunct = \"\".join([char.lower() for char in text_nonum if char not in string.punctuation])\n",
        "    #getting rid of white spaces\n",
        "    text_no_doublespace = re.sub('\\s+', ' ', text_nopunct).strip()\n",
        "\n",
        "    return text_no_doublespace\n",
        "\n",
        "def normalize_sentence(tokenized_sents, minimum_length=1, stopword_removal=True, number_removal = True):\n",
        "\n",
        "    normalized_sents = tokenized_sents\n",
        "    if stopword_removal:\n",
        "        normalized_sents=[[word for word in sentence if (word not in stop_words)] for sentence in normalized_sents ]\n",
        "\n",
        "    if minimum_length>1:\n",
        "        normalized_sents= [[word for word in sentence if len(word)>minimum_length] for sentence in normalized_sents ]\n",
        "\n",
        "    return normalized_sents"
      ]
    },
    {
      "cell_type": "code",
      "execution_count": 135,
      "metadata": {
        "id": "0OSaHRa1lD2T"
      },
      "outputs": [],
      "source": [
        "clean_token = [word_tokenizer.tokenize(clean_text(txt)) for txt in data[\"review\"]]\n",
        "data[\"clean_token\"] = clean_token\n",
        "normalized_sents = normalize_sentence(clean_token,)\n",
        "data[\"normalized_sents\"] = normalized_sents"
      ]
    },
    {
      "cell_type": "code",
      "execution_count": 136,
      "metadata": {
        "id": "zrT90BVDa_8S",
        "colab": {
          "base_uri": "https://localhost:8080/",
          "height": 738
        },
        "outputId": "e7f43472-69a1-45d2-8b50-7d4cf7f40526"
      },
      "outputs": [
        {
          "output_type": "execute_result",
          "data": {
            "text/plain": [
              "                                                 review sentiment  \\\n",
              "155   کلا محصولات خوبی هستن ولی خوب در رنج قیمتی خودشون         1   \n",
              "69    قبلا مرباهای ایز کیفیت بهتری داشتن اثری از انج...        -1   \n",
              "794   سایزش خوب بود و تمیز تو پیشنهاد ویژه گرفتم راض...         1   \n",
              "1432  بنظرم طعم دارچینیش از همه طعماش بهتره ماندگاری...         1   \n",
              "1668  لطفا این محصول رو جزو محصولات ارسال سریع سوپرم...         1   \n",
              "\n",
              "                        category          aspects  \\\n",
              "155                         قهوه               {}   \n",
              "69                          مربا  {'کیفیت': '-1'}   \n",
              "794          ماهی، میگو و خاویار               {}   \n",
              "1432  آدامس و خوشبو کننده‌ی دهان     {'طعم': '1'}   \n",
              "1668                     تن ماهی               {}   \n",
              "\n",
              "                                              tokenized  \\\n",
              "155   [کلا, محصولات, خوبی, هستن, ولی, خوب, در, رنج, ...   \n",
              "69    [قبلا, مرباهای, ایز, کیفیت, بهتری, داشتن, اثری...   \n",
              "794   [سایزش, خوب, بود, و, تمیز, تو, پیشنهاد, ویژه, ...   \n",
              "1432  [بنظرم, طعم, دارچینیش, از, همه, طعماش, بهتره, ...   \n",
              "1668  [لطفا, این, محصول, رو, جزو, محصولات, ارسال, سر...   \n",
              "\n",
              "                                            clean_token  \\\n",
              "155   [کلا, محصولات, خوبی, هستن, ولی, خوب, در, رنج, ...   \n",
              "69    [قبلا, مرباهای, ایز, کیفیت, بهتری, داشتن, اثری...   \n",
              "794   [سایزش, خوب, بود, و, تمیز, تو, پیشنهاد, ویژه, ...   \n",
              "1432  [بنظرم, طعم, دارچینیش, از, همه, طعماش, بهتره, ...   \n",
              "1668  [لطفا, این, محصول, رو, جزو, محصولات, ارسال, سر...   \n",
              "\n",
              "                                       normalized_sents  words_norm_count  \\\n",
              "155   [کلا, محصولات, خوبی, هستن, ولی, خوب, رنج, قیمت...                 2   \n",
              "69    [قبلا, مرباهای, ایز, کیفیت, بهتری, داشتن, اثری...                 1   \n",
              "794   [سایزش, خوب, تمیز, تو, پیشنهاد, ویژه, گرفتم, ر...                 1   \n",
              "1432  [بنظرم, طعم, دارچینیش, همه, طعماش, بهتره, ماند...                 2   \n",
              "1668  [لطفا, محصول, جزو, محصولات, ارسال, سریع, سوپرم...                 3   \n",
              "\n",
              "      words_count          label                     lemmatized  \n",
              "155            10        neutral              [محصولات, خودشون]  \n",
              "69             11  very negative                         [مربا]  \n",
              "794            11        neutral                      [پیشنهاد]  \n",
              "1432           10        neutral              [دارچین, ماندگار]  \n",
              "1668           10        neutral  [محصولات, سوپرمارکتی, بذارید]  "
            ],
            "text/html": [
              "\n",
              "  <div id=\"df-15367958-cd9f-4c7c-8f05-e4e62ceeea93\">\n",
              "    <div class=\"colab-df-container\">\n",
              "      <div>\n",
              "<style scoped>\n",
              "    .dataframe tbody tr th:only-of-type {\n",
              "        vertical-align: middle;\n",
              "    }\n",
              "\n",
              "    .dataframe tbody tr th {\n",
              "        vertical-align: top;\n",
              "    }\n",
              "\n",
              "    .dataframe thead th {\n",
              "        text-align: right;\n",
              "    }\n",
              "</style>\n",
              "<table border=\"1\" class=\"dataframe\">\n",
              "  <thead>\n",
              "    <tr style=\"text-align: right;\">\n",
              "      <th></th>\n",
              "      <th>review</th>\n",
              "      <th>sentiment</th>\n",
              "      <th>category</th>\n",
              "      <th>aspects</th>\n",
              "      <th>tokenized</th>\n",
              "      <th>clean_token</th>\n",
              "      <th>normalized_sents</th>\n",
              "      <th>words_norm_count</th>\n",
              "      <th>words_count</th>\n",
              "      <th>label</th>\n",
              "      <th>lemmatized</th>\n",
              "    </tr>\n",
              "  </thead>\n",
              "  <tbody>\n",
              "    <tr>\n",
              "      <th>155</th>\n",
              "      <td>کلا محصولات خوبی هستن ولی خوب در رنج قیمتی خودشون</td>\n",
              "      <td>1</td>\n",
              "      <td>قهوه</td>\n",
              "      <td>{}</td>\n",
              "      <td>[کلا, محصولات, خوبی, هستن, ولی, خوب, در, رنج, ...</td>\n",
              "      <td>[کلا, محصولات, خوبی, هستن, ولی, خوب, در, رنج, ...</td>\n",
              "      <td>[کلا, محصولات, خوبی, هستن, ولی, خوب, رنج, قیمت...</td>\n",
              "      <td>2</td>\n",
              "      <td>10</td>\n",
              "      <td>neutral</td>\n",
              "      <td>[محصولات, خودشون]</td>\n",
              "    </tr>\n",
              "    <tr>\n",
              "      <th>69</th>\n",
              "      <td>قبلا مرباهای ایز کیفیت بهتری داشتن اثری از انج...</td>\n",
              "      <td>-1</td>\n",
              "      <td>مربا</td>\n",
              "      <td>{'کیفیت': '-1'}</td>\n",
              "      <td>[قبلا, مرباهای, ایز, کیفیت, بهتری, داشتن, اثری...</td>\n",
              "      <td>[قبلا, مرباهای, ایز, کیفیت, بهتری, داشتن, اثری...</td>\n",
              "      <td>[قبلا, مرباهای, ایز, کیفیت, بهتری, داشتن, اثری...</td>\n",
              "      <td>1</td>\n",
              "      <td>11</td>\n",
              "      <td>very negative</td>\n",
              "      <td>[مربا]</td>\n",
              "    </tr>\n",
              "    <tr>\n",
              "      <th>794</th>\n",
              "      <td>سایزش خوب بود و تمیز تو پیشنهاد ویژه گرفتم راض...</td>\n",
              "      <td>1</td>\n",
              "      <td>ماهی، میگو و خاویار</td>\n",
              "      <td>{}</td>\n",
              "      <td>[سایزش, خوب, بود, و, تمیز, تو, پیشنهاد, ویژه, ...</td>\n",
              "      <td>[سایزش, خوب, بود, و, تمیز, تو, پیشنهاد, ویژه, ...</td>\n",
              "      <td>[سایزش, خوب, تمیز, تو, پیشنهاد, ویژه, گرفتم, ر...</td>\n",
              "      <td>1</td>\n",
              "      <td>11</td>\n",
              "      <td>neutral</td>\n",
              "      <td>[پیشنهاد]</td>\n",
              "    </tr>\n",
              "    <tr>\n",
              "      <th>1432</th>\n",
              "      <td>بنظرم طعم دارچینیش از همه طعماش بهتره ماندگاری...</td>\n",
              "      <td>1</td>\n",
              "      <td>آدامس و خوشبو کننده‌ی دهان</td>\n",
              "      <td>{'طعم': '1'}</td>\n",
              "      <td>[بنظرم, طعم, دارچینیش, از, همه, طعماش, بهتره, ...</td>\n",
              "      <td>[بنظرم, طعم, دارچینیش, از, همه, طعماش, بهتره, ...</td>\n",
              "      <td>[بنظرم, طعم, دارچینیش, همه, طعماش, بهتره, ماند...</td>\n",
              "      <td>2</td>\n",
              "      <td>10</td>\n",
              "      <td>neutral</td>\n",
              "      <td>[دارچین, ماندگار]</td>\n",
              "    </tr>\n",
              "    <tr>\n",
              "      <th>1668</th>\n",
              "      <td>لطفا این محصول رو جزو محصولات ارسال سریع سوپرم...</td>\n",
              "      <td>1</td>\n",
              "      <td>تن ماهی</td>\n",
              "      <td>{}</td>\n",
              "      <td>[لطفا, این, محصول, رو, جزو, محصولات, ارسال, سر...</td>\n",
              "      <td>[لطفا, این, محصول, رو, جزو, محصولات, ارسال, سر...</td>\n",
              "      <td>[لطفا, محصول, جزو, محصولات, ارسال, سریع, سوپرم...</td>\n",
              "      <td>3</td>\n",
              "      <td>10</td>\n",
              "      <td>neutral</td>\n",
              "      <td>[محصولات, سوپرمارکتی, بذارید]</td>\n",
              "    </tr>\n",
              "  </tbody>\n",
              "</table>\n",
              "</div>\n",
              "      <button class=\"colab-df-convert\" onclick=\"convertToInteractive('df-15367958-cd9f-4c7c-8f05-e4e62ceeea93')\"\n",
              "              title=\"Convert this dataframe to an interactive table.\"\n",
              "              style=\"display:none;\">\n",
              "        \n",
              "  <svg xmlns=\"http://www.w3.org/2000/svg\" height=\"24px\"viewBox=\"0 0 24 24\"\n",
              "       width=\"24px\">\n",
              "    <path d=\"M0 0h24v24H0V0z\" fill=\"none\"/>\n",
              "    <path d=\"M18.56 5.44l.94 2.06.94-2.06 2.06-.94-2.06-.94-.94-2.06-.94 2.06-2.06.94zm-11 1L8.5 8.5l.94-2.06 2.06-.94-2.06-.94L8.5 2.5l-.94 2.06-2.06.94zm10 10l.94 2.06.94-2.06 2.06-.94-2.06-.94-.94-2.06-.94 2.06-2.06.94z\"/><path d=\"M17.41 7.96l-1.37-1.37c-.4-.4-.92-.59-1.43-.59-.52 0-1.04.2-1.43.59L10.3 9.45l-7.72 7.72c-.78.78-.78 2.05 0 2.83L4 21.41c.39.39.9.59 1.41.59.51 0 1.02-.2 1.41-.59l7.78-7.78 2.81-2.81c.8-.78.8-2.07 0-2.86zM5.41 20L4 18.59l7.72-7.72 1.47 1.35L5.41 20z\"/>\n",
              "  </svg>\n",
              "      </button>\n",
              "      \n",
              "  <style>\n",
              "    .colab-df-container {\n",
              "      display:flex;\n",
              "      flex-wrap:wrap;\n",
              "      gap: 12px;\n",
              "    }\n",
              "\n",
              "    .colab-df-convert {\n",
              "      background-color: #E8F0FE;\n",
              "      border: none;\n",
              "      border-radius: 50%;\n",
              "      cursor: pointer;\n",
              "      display: none;\n",
              "      fill: #1967D2;\n",
              "      height: 32px;\n",
              "      padding: 0 0 0 0;\n",
              "      width: 32px;\n",
              "    }\n",
              "\n",
              "    .colab-df-convert:hover {\n",
              "      background-color: #E2EBFA;\n",
              "      box-shadow: 0px 1px 2px rgba(60, 64, 67, 0.3), 0px 1px 3px 1px rgba(60, 64, 67, 0.15);\n",
              "      fill: #174EA6;\n",
              "    }\n",
              "\n",
              "    [theme=dark] .colab-df-convert {\n",
              "      background-color: #3B4455;\n",
              "      fill: #D2E3FC;\n",
              "    }\n",
              "\n",
              "    [theme=dark] .colab-df-convert:hover {\n",
              "      background-color: #434B5C;\n",
              "      box-shadow: 0px 1px 3px 1px rgba(0, 0, 0, 0.15);\n",
              "      filter: drop-shadow(0px 1px 2px rgba(0, 0, 0, 0.3));\n",
              "      fill: #FFFFFF;\n",
              "    }\n",
              "  </style>\n",
              "\n",
              "      <script>\n",
              "        const buttonEl =\n",
              "          document.querySelector('#df-15367958-cd9f-4c7c-8f05-e4e62ceeea93 button.colab-df-convert');\n",
              "        buttonEl.style.display =\n",
              "          google.colab.kernel.accessAllowed ? 'block' : 'none';\n",
              "\n",
              "        async function convertToInteractive(key) {\n",
              "          const element = document.querySelector('#df-15367958-cd9f-4c7c-8f05-e4e62ceeea93');\n",
              "          const dataTable =\n",
              "            await google.colab.kernel.invokeFunction('convertToInteractive',\n",
              "                                                     [key], {});\n",
              "          if (!dataTable) return;\n",
              "\n",
              "          const docLinkHtml = 'Like what you see? Visit the ' +\n",
              "            '<a target=\"_blank\" href=https://colab.research.google.com/notebooks/data_table.ipynb>data table notebook</a>'\n",
              "            + ' to learn more about interactive tables.';\n",
              "          element.innerHTML = '';\n",
              "          dataTable['output_type'] = 'display_data';\n",
              "          await google.colab.output.renderOutput(dataTable, element);\n",
              "          const docLink = document.createElement('div');\n",
              "          docLink.innerHTML = docLinkHtml;\n",
              "          element.appendChild(docLink);\n",
              "        }\n",
              "      </script>\n",
              "    </div>\n",
              "  </div>\n",
              "  "
            ]
          },
          "metadata": {},
          "execution_count": 136
        }
      ],
      "source": [
        "data.sample(5)"
      ]
    },
    {
      "cell_type": "code",
      "source": [
        "distributions.word_and_freq(data,\"normalized_sents\")"
      ],
      "metadata": {
        "colab": {
          "base_uri": "https://localhost:8080/"
        },
        "id": "k8dIScURggAo",
        "outputId": "be0b26d6-99a0-4f3f-be3b-ead9f76dcb98"
      },
      "execution_count": 137,
      "outputs": [
        {
          "output_type": "stream",
          "name": "stdout",
          "text": [
            "word             Frequency        % of the total  \n",
            "خیلی             561              1.9484579049736037\n",
            "،                501              1.7400666851903308\n",
            "طعم              429              1.489997221450403\n",
            "من               376              1.3059183106418448\n",
            "داره             331              1.1496248958043902\n",
            "کیفیت            316              1.0975270908585717\n",
            "ولی              300              1.0419560989163656\n",
            "خوب              294              1.0211169769380384\n",
            "بسته             232              0.8057793831619895\n",
            "اصلا             224              0.7779938871908864\n",
            "مزه              219              0.760627952208947\n",
            "برای             206              0.7154765212559044\n",
            "نیست             203              0.7050569602667408\n",
            "هست              199              0.6911642122811893\n",
            "خوبی             197              0.6842178382884134\n",
            "خرید             175              0.60780772436788\n",
            "قیمت             173              0.6008613503751042\n",
            "های              172              0.5973881633787163\n",
            "تو               162              0.5626562934148375\n",
            "خوبه             150              0.5209780494581828\n"
          ]
        }
      ]
    },
    {
      "cell_type": "code",
      "source": [
        "data[\"words_norm_count\"] = [len(sen) for sen in data[\"normalized_sents\"]]\n",
        "distributions.data_gl_than(data,col = \"words_norm_count\")"
      ],
      "metadata": {
        "id": "oKvxeA4Bgt9e",
        "outputId": "734230dc-67e5-45a5-aca7-ad9de5e368e5",
        "colab": {
          "base_uri": "https://localhost:8080/"
        }
      },
      "execution_count": 138,
      "outputs": [
        {
          "output_type": "stream",
          "name": "stdout",
          "text": [
            "sentences with word length of greater than 10.0 and less than 25.0 includes 55.76% of the whole!\n"
          ]
        }
      ]
    },
    {
      "cell_type": "markdown",
      "metadata": {
        "id": "bh8pYXYibArw"
      },
      "source": [
        "#####Subsection 3: Frequency analysis"
      ]
    },
    {
      "cell_type": "code",
      "execution_count": 139,
      "metadata": {
        "id": "gE6A5YZ9bIOp",
        "colab": {
          "base_uri": "https://localhost:8080/",
          "height": 1000
        },
        "outputId": "0bad69fb-4ffc-4099-ed9a-986239cb27b5"
      },
      "outputs": [
        {
          "output_type": "display_data",
          "data": {
            "text/html": [
              "<html>\n",
              "<head><meta charset=\"utf-8\" /></head>\n",
              "<body>\n",
              "    <div>            <script src=\"https://cdnjs.cloudflare.com/ajax/libs/mathjax/2.7.5/MathJax.js?config=TeX-AMS-MML_SVG\"></script><script type=\"text/javascript\">if (window.MathJax && window.MathJax.Hub && window.MathJax.Hub.Config) {window.MathJax.Hub.Config({SVG: {font: \"STIX-Web\"}});}</script>                <script type=\"text/javascript\">window.PlotlyConfig = {MathJaxConfig: 'local'};</script>\n",
              "        <script src=\"https://cdn.plot.ly/plotly-2.18.2.min.js\"></script>                <div id=\"0e3a55fc-5b7b-4458-9e4f-5dc646c1d9b9\" class=\"plotly-graph-div\" style=\"height:525px; width:100%;\"></div>            <script type=\"text/javascript\">                                    window.PLOTLYENV=window.PLOTLYENV || {};                                    if (document.getElementById(\"0e3a55fc-5b7b-4458-9e4f-5dc646c1d9b9\")) {                    Plotly.newPlot(                        \"0e3a55fc-5b7b-4458-9e4f-5dc646c1d9b9\",                        [{\"x\":[19,11,11,19,13,13,12,9,10,9,19,12,11,8,12,15,21,12,29,10,10,16,13,8,7,11,10,28,10,13,19,16,22,11,17,24,27,20,12,20,38,10,12,13,9,23,11,21,12,15,15,9,16,7,28,15,12,16,11,28,9,18,10,14,12,18,17,21,13,10,12,9,20,9,17,7,11,12,30,8,15,11,18,10,10,10,14,26,10,12,12,9,22,8,13,19,12,15,13,18,9,10,23,8,27,6,37,8,12,15,9,29,16,13,11,8,25,18,7,6,9,13,29,10,13,10,21,16,33,23,9,9,37,8,10,10,23,12,11,27,7,12,9,18,7,25,18,21,15,9,21,29,12,20,6,9,18,16,21,9,8,21,9,13,10,16,10,7,14,9,10,9,11,18,17,28,8,18,10,23,22,24,11,8,14,17,11,9,11,9,12,9,11,11,23,27,15,10,17,34,11,38,10,9,11,10,14,20,9,10,8,14,35,26,16,20,10,19,8,10,13,11,13,12,17,12,9,15,9,9,36,29,12,8,15,10,10,12,13,7,12,9,10,17,23,8,32,9,16,14,11,7,11,27,13,8,10,11,14,10,12,9,15,7,13,11,14,31,9,21,42,18,10,17,22,10,10,11,11,8,15,11,9,17,10,7,15,28,16,9,15,21,14,12,10,8,10,14,38,15,8,12,15,18,16,10,16,9,8,8,15,9,23,10,8,31,26,24,7,11,8,19,26,10,7,34,7,14,11,19,16,9,12,13,9,13,19,18,41,10,14,12,31,11,16,14,20,21,41,21,15,15,30,32,21,15,20,25,12,13,15,14,26,25,11,19,9,11,21,8,23,11,10,10,35,11,8,23,15,10,10,17,12,20,9,10,9,20,33,12,39,7,9,18,13,11,15,12,16,9,24,28,10,8,8,12,17,19,11,10,9,31,13,11,8,8,14,15,20,13,26,18,19,12,18,6,12,10,11,26,16,18,9,13,13,12,8,32,17,7,5,16,7,8,21,9,7,17,16,11,15,8,8,10,14,14,21,12,9,12,23,10,11,8,15,14,22,8,24,20,16,9,13,12,10,29,14,12,9,14,10,18,17,9,7,11,6,34,9,11,19,18,11,20,10,23,12,11,21,8,10,10,9,12,25,12,10,7,10,13,17,10,14,10,20,12,11,25,22,11,10,31,14,9,10,18,18,13,9,11,20,10,9,13,33,27,19,8,41,18,9,8,18,20,8,38,14,10,11,10,10,12,22,12,17,8,20,10,10,10,12,8,22,7,21,21,13,12,21,22,14,12,9,9,14,10,9,11,20,11,24,9,7,11,24,35,23,16,9,15,11,11,10,9,15,10,24,17,19,8,11,11,14,20,16,15,11,12,16,13,8,13,14,10,9,7,13,13,22,10,10,19,17,9,31,10,10,9,8,18,10,28,8,9,14,32,7,12,11,16,16,10,9,15,15,44,9,27,15,32,31,13,17,14,11,10,14,9,8,13,10,38,6,8,8,20,19,12,11,11,38,27,8,15,17,19,33,9,7,20,13,19,8,10,21,8,31,9,12,10,8,7,13,29,14,9,13,7,15,8,25,18,27,32,7,8,15,13,7,8,17,15,23,12,13,10,20,13,9,14,11,18,9,6,8,11,18,8,14,10,22,13,9,15,13,10,29,10,37,17,6,9,9,8,42,28,8,37,13,19,9,27,24,29,38,23,12,15,10,19,10,12,14,16,18,15,11,12,13,36,19,7,14,15,14,32,15,11,17,19,26,13,12,7,8,9,12,26,12,24,17,11,10,24,9,11,9,17,8,11,27,19,38,13,17,23,13,11,10,12,18,17,8,33,32,17,20,9,10,9,10,10,11,19,20,11,36,7,10,13,15,10,12,21,21,22,7,9,13,14,11,17,13,13,10,9,19,13,12,9,28,18,22,26,12,13,17,12,7,9,33,15,17,10,31,6,15,9,10,20,15,8,11,7,17,8,19,14,10,9,8,10,11,9,7,9,10,7,10,8,9,13,13,18,9,10,12,10,13,27,14,12,31,11,13,18,15,9,34,8,31,19,12,11,13,17,11,15,9,28,18,31,9,8,13,9,11,21,14,11,20,29,10,21,12,10,9,9,7,9,27,22,7,14,37,9,17,7,8,27,16,20,13,14,8,13,13,17,8,26,10,9,13,24,20,11,23,11,32,10,17,9,34,13,10,15,9,18,8,9,11,20,10,26,7,11,7,8,9,14,12,21,22,11,15,17,6,10,9,20,13,20,23,6,11,7,28,16,19,9,12,9,33,13,26,11,15,10,16,18,29,25,13,16,22,16,13,6,11,14,26,27,19,11,10,46,12,27,14,15,9,10,25,9,12,21,14,23,12,11,20,19,10,11,17,15,8,8,10,20,30,7,8,10,7,15,19,21,15,42,8,13,21,13,10,9,25,7,10,17,16,16,20,26,14,11,15,8,11,12,10,8,8,9,34,10,9,8,29,30,18,26,30,28,9,11,31,10,14,8,12,26,22,11,24,10,9,8,10,10,14,11,8,32,10,40,10,11,19,10,23,24,12,11,9,11,18,13,13,12,32,17,9,22,26,24,12,19,25,8,20,41,10,10,24,14,11,14,12,8,7,10,8,9,17,26,38,22,11,10,14,25,21,23,8,10,16,16,20,22,16,7,16,20,36,7,17,9,14,7,15,11,11,9,16,14,17,18,9,11,11,8,45,25,13,8,10,34,13,17,11,9,14,28,22,28,14,18,11,9,11,14,19,8,9,30,23,17,29,12,9,14,10,11,11,22,26,14,16,17,10,10,10,12,39,9,19,10,9,19,9,9,21,9,26,8,11,11,8,21,15,9,9,31,30,13,12,16,26,7,15,11,8,8,20,16,13,12,10,28,13,10,18,26,11,29,15,18,11,10,11,19,7,10,14,13,18,21,13,9,13,6,13,10,27,12,8,9,12,11,17,7,18,13,27,9,28,10,9,11,7,10,10,20,23,9,17,14,10,26,6,9,16,12,33,8,9,17,22,8,27,26,11,22,7,9,8,17,9,14,9,10,15,10,7,19,13,9,10,8,11,23,18,9,9,13,8,29,16,10,11,12,11,11,12,9,16,8,14,38,14,7,27,10,7,15,37,12,9,17,14,21,16,10,17,11,19,13,24,12,11,11,15,21,16,13,12,9,12,17,12,14,9,14,11,15,18,14,11,18,9,21,8,31,6,20,7,22,11,9,17,9,8,24,11,13,22,11,15,10,15,9,10,39,12,14,35,9,27,10,19,24,11,21,9,25,11,21,10,7,22,21,9,19,17,36,17,12,7,10,15,20,9,21,25,17,8,13,9,14,22,7,31,17,7,10,10,18,14,7,13,10,14,11,6,7,19,18,22,11,11,10,11,8,24,34,27,8,8,18,27,13,24,10,30,17,17,8,12,12,8,15,13,7,12,13,23,12,9,14,27,24,17,18,8,14,13,9,14,12,14,13,7,28,34,11,8,22,13,9,11,8,9,14,12,7,17,8,11,8,8,10,12,9,27,8,27,9,10,16,23,8,11,19,11,16,29,13,14,13,10,12,11,14,10,13,7,12,21,29,43,20,15,15,26,10,17,16,11,21,21,16,16,12,8,15,18,12,23,8,36,10,12,11,11,9,9,20,19,9,31,15,9,11,11,13,34,9,8,18,14,9,16,12,9,12,16,13,8,15,10,19,12,22,10,19,7,17,10,25,9,18,17,24,9,13,11,10,16,25,19,14,10,27,9,16,20,18,8,32,25,18,18,10,15,6,24,5,19,10,12,10,27,9,13,16,9,21,41,17,19,34,14,10,17,10,10,36,13,21,17,11,19,11,7,11,10,8,18,8,10,11,8,14,19,15,31,11,11,10,19,17,16,6,12,10,15,10,7,13,31,10,14,10,21,9,8,11,10,10,11,14,10,32,15,35,15,8,12,20,30,10,11,12,15,19,25,12,9,10,9,12,15,12,7,7,20,13,16,13,15,17,7,13,16,14,14,9,12,24,18,22,18,11,8,24,10,11,8,12,21,17,12,12,25,12,17,10,36,25,26,13,14,11,12,9,13,22,28,15,10,15,18,12,26,9,8,11,17,22,10,9,18,13,18,10,10,26,23,10,26,11,7,15,14,9,13,8,7,46,14,7,18,8,14,22,10,12,10,13,11,11,35,13,13,15,14,36,8,14,9,19,12,7,16,33,21,12,8,17,9,10,23,10,13,16,13,7,12,20,23,7,13,13,10,10,37,8,9,9,21,11,10,30,14,24,8,14,9,18,10,8,13,9,27,12,11,10,9,13,11,28,13,12,11,16,11],\"type\":\"histogram\"}],                        {\"template\":{\"data\":{\"histogram2dcontour\":[{\"type\":\"histogram2dcontour\",\"colorbar\":{\"outlinewidth\":0,\"ticks\":\"\"},\"colorscale\":[[0.0,\"#0d0887\"],[0.1111111111111111,\"#46039f\"],[0.2222222222222222,\"#7201a8\"],[0.3333333333333333,\"#9c179e\"],[0.4444444444444444,\"#bd3786\"],[0.5555555555555556,\"#d8576b\"],[0.6666666666666666,\"#ed7953\"],[0.7777777777777778,\"#fb9f3a\"],[0.8888888888888888,\"#fdca26\"],[1.0,\"#f0f921\"]]}],\"choropleth\":[{\"type\":\"choropleth\",\"colorbar\":{\"outlinewidth\":0,\"ticks\":\"\"}}],\"histogram2d\":[{\"type\":\"histogram2d\",\"colorbar\":{\"outlinewidth\":0,\"ticks\":\"\"},\"colorscale\":[[0.0,\"#0d0887\"],[0.1111111111111111,\"#46039f\"],[0.2222222222222222,\"#7201a8\"],[0.3333333333333333,\"#9c179e\"],[0.4444444444444444,\"#bd3786\"],[0.5555555555555556,\"#d8576b\"],[0.6666666666666666,\"#ed7953\"],[0.7777777777777778,\"#fb9f3a\"],[0.8888888888888888,\"#fdca26\"],[1.0,\"#f0f921\"]]}],\"heatmap\":[{\"type\":\"heatmap\",\"colorbar\":{\"outlinewidth\":0,\"ticks\":\"\"},\"colorscale\":[[0.0,\"#0d0887\"],[0.1111111111111111,\"#46039f\"],[0.2222222222222222,\"#7201a8\"],[0.3333333333333333,\"#9c179e\"],[0.4444444444444444,\"#bd3786\"],[0.5555555555555556,\"#d8576b\"],[0.6666666666666666,\"#ed7953\"],[0.7777777777777778,\"#fb9f3a\"],[0.8888888888888888,\"#fdca26\"],[1.0,\"#f0f921\"]]}],\"heatmapgl\":[{\"type\":\"heatmapgl\",\"colorbar\":{\"outlinewidth\":0,\"ticks\":\"\"},\"colorscale\":[[0.0,\"#0d0887\"],[0.1111111111111111,\"#46039f\"],[0.2222222222222222,\"#7201a8\"],[0.3333333333333333,\"#9c179e\"],[0.4444444444444444,\"#bd3786\"],[0.5555555555555556,\"#d8576b\"],[0.6666666666666666,\"#ed7953\"],[0.7777777777777778,\"#fb9f3a\"],[0.8888888888888888,\"#fdca26\"],[1.0,\"#f0f921\"]]}],\"contourcarpet\":[{\"type\":\"contourcarpet\",\"colorbar\":{\"outlinewidth\":0,\"ticks\":\"\"}}],\"contour\":[{\"type\":\"contour\",\"colorbar\":{\"outlinewidth\":0,\"ticks\":\"\"},\"colorscale\":[[0.0,\"#0d0887\"],[0.1111111111111111,\"#46039f\"],[0.2222222222222222,\"#7201a8\"],[0.3333333333333333,\"#9c179e\"],[0.4444444444444444,\"#bd3786\"],[0.5555555555555556,\"#d8576b\"],[0.6666666666666666,\"#ed7953\"],[0.7777777777777778,\"#fb9f3a\"],[0.8888888888888888,\"#fdca26\"],[1.0,\"#f0f921\"]]}],\"surface\":[{\"type\":\"surface\",\"colorbar\":{\"outlinewidth\":0,\"ticks\":\"\"},\"colorscale\":[[0.0,\"#0d0887\"],[0.1111111111111111,\"#46039f\"],[0.2222222222222222,\"#7201a8\"],[0.3333333333333333,\"#9c179e\"],[0.4444444444444444,\"#bd3786\"],[0.5555555555555556,\"#d8576b\"],[0.6666666666666666,\"#ed7953\"],[0.7777777777777778,\"#fb9f3a\"],[0.8888888888888888,\"#fdca26\"],[1.0,\"#f0f921\"]]}],\"mesh3d\":[{\"type\":\"mesh3d\",\"colorbar\":{\"outlinewidth\":0,\"ticks\":\"\"}}],\"scatter\":[{\"fillpattern\":{\"fillmode\":\"overlay\",\"size\":10,\"solidity\":0.2},\"type\":\"scatter\"}],\"parcoords\":[{\"type\":\"parcoords\",\"line\":{\"colorbar\":{\"outlinewidth\":0,\"ticks\":\"\"}}}],\"scatterpolargl\":[{\"type\":\"scatterpolargl\",\"marker\":{\"colorbar\":{\"outlinewidth\":0,\"ticks\":\"\"}}}],\"bar\":[{\"error_x\":{\"color\":\"#2a3f5f\"},\"error_y\":{\"color\":\"#2a3f5f\"},\"marker\":{\"line\":{\"color\":\"#E5ECF6\",\"width\":0.5},\"pattern\":{\"fillmode\":\"overlay\",\"size\":10,\"solidity\":0.2}},\"type\":\"bar\"}],\"scattergeo\":[{\"type\":\"scattergeo\",\"marker\":{\"colorbar\":{\"outlinewidth\":0,\"ticks\":\"\"}}}],\"scatterpolar\":[{\"type\":\"scatterpolar\",\"marker\":{\"colorbar\":{\"outlinewidth\":0,\"ticks\":\"\"}}}],\"histogram\":[{\"marker\":{\"pattern\":{\"fillmode\":\"overlay\",\"size\":10,\"solidity\":0.2}},\"type\":\"histogram\"}],\"scattergl\":[{\"type\":\"scattergl\",\"marker\":{\"colorbar\":{\"outlinewidth\":0,\"ticks\":\"\"}}}],\"scatter3d\":[{\"type\":\"scatter3d\",\"line\":{\"colorbar\":{\"outlinewidth\":0,\"ticks\":\"\"}},\"marker\":{\"colorbar\":{\"outlinewidth\":0,\"ticks\":\"\"}}}],\"scattermapbox\":[{\"type\":\"scattermapbox\",\"marker\":{\"colorbar\":{\"outlinewidth\":0,\"ticks\":\"\"}}}],\"scatterternary\":[{\"type\":\"scatterternary\",\"marker\":{\"colorbar\":{\"outlinewidth\":0,\"ticks\":\"\"}}}],\"scattercarpet\":[{\"type\":\"scattercarpet\",\"marker\":{\"colorbar\":{\"outlinewidth\":0,\"ticks\":\"\"}}}],\"carpet\":[{\"aaxis\":{\"endlinecolor\":\"#2a3f5f\",\"gridcolor\":\"white\",\"linecolor\":\"white\",\"minorgridcolor\":\"white\",\"startlinecolor\":\"#2a3f5f\"},\"baxis\":{\"endlinecolor\":\"#2a3f5f\",\"gridcolor\":\"white\",\"linecolor\":\"white\",\"minorgridcolor\":\"white\",\"startlinecolor\":\"#2a3f5f\"},\"type\":\"carpet\"}],\"table\":[{\"cells\":{\"fill\":{\"color\":\"#EBF0F8\"},\"line\":{\"color\":\"white\"}},\"header\":{\"fill\":{\"color\":\"#C8D4E3\"},\"line\":{\"color\":\"white\"}},\"type\":\"table\"}],\"barpolar\":[{\"marker\":{\"line\":{\"color\":\"#E5ECF6\",\"width\":0.5},\"pattern\":{\"fillmode\":\"overlay\",\"size\":10,\"solidity\":0.2}},\"type\":\"barpolar\"}],\"pie\":[{\"automargin\":true,\"type\":\"pie\"}]},\"layout\":{\"autotypenumbers\":\"strict\",\"colorway\":[\"#636efa\",\"#EF553B\",\"#00cc96\",\"#ab63fa\",\"#FFA15A\",\"#19d3f3\",\"#FF6692\",\"#B6E880\",\"#FF97FF\",\"#FECB52\"],\"font\":{\"color\":\"#2a3f5f\"},\"hovermode\":\"closest\",\"hoverlabel\":{\"align\":\"left\"},\"paper_bgcolor\":\"white\",\"plot_bgcolor\":\"#E5ECF6\",\"polar\":{\"bgcolor\":\"#E5ECF6\",\"angularaxis\":{\"gridcolor\":\"white\",\"linecolor\":\"white\",\"ticks\":\"\"},\"radialaxis\":{\"gridcolor\":\"white\",\"linecolor\":\"white\",\"ticks\":\"\"}},\"ternary\":{\"bgcolor\":\"#E5ECF6\",\"aaxis\":{\"gridcolor\":\"white\",\"linecolor\":\"white\",\"ticks\":\"\"},\"baxis\":{\"gridcolor\":\"white\",\"linecolor\":\"white\",\"ticks\":\"\"},\"caxis\":{\"gridcolor\":\"white\",\"linecolor\":\"white\",\"ticks\":\"\"}},\"coloraxis\":{\"colorbar\":{\"outlinewidth\":0,\"ticks\":\"\"}},\"colorscale\":{\"sequential\":[[0.0,\"#0d0887\"],[0.1111111111111111,\"#46039f\"],[0.2222222222222222,\"#7201a8\"],[0.3333333333333333,\"#9c179e\"],[0.4444444444444444,\"#bd3786\"],[0.5555555555555556,\"#d8576b\"],[0.6666666666666666,\"#ed7953\"],[0.7777777777777778,\"#fb9f3a\"],[0.8888888888888888,\"#fdca26\"],[1.0,\"#f0f921\"]],\"sequentialminus\":[[0.0,\"#0d0887\"],[0.1111111111111111,\"#46039f\"],[0.2222222222222222,\"#7201a8\"],[0.3333333333333333,\"#9c179e\"],[0.4444444444444444,\"#bd3786\"],[0.5555555555555556,\"#d8576b\"],[0.6666666666666666,\"#ed7953\"],[0.7777777777777778,\"#fb9f3a\"],[0.8888888888888888,\"#fdca26\"],[1.0,\"#f0f921\"]],\"diverging\":[[0,\"#8e0152\"],[0.1,\"#c51b7d\"],[0.2,\"#de77ae\"],[0.3,\"#f1b6da\"],[0.4,\"#fde0ef\"],[0.5,\"#f7f7f7\"],[0.6,\"#e6f5d0\"],[0.7,\"#b8e186\"],[0.8,\"#7fbc41\"],[0.9,\"#4d9221\"],[1,\"#276419\"]]},\"xaxis\":{\"gridcolor\":\"white\",\"linecolor\":\"white\",\"ticks\":\"\",\"title\":{\"standoff\":15},\"zerolinecolor\":\"white\",\"automargin\":true,\"zerolinewidth\":2},\"yaxis\":{\"gridcolor\":\"white\",\"linecolor\":\"white\",\"ticks\":\"\",\"title\":{\"standoff\":15},\"zerolinecolor\":\"white\",\"automargin\":true,\"zerolinewidth\":2},\"scene\":{\"xaxis\":{\"backgroundcolor\":\"#E5ECF6\",\"gridcolor\":\"white\",\"linecolor\":\"white\",\"showbackground\":true,\"ticks\":\"\",\"zerolinecolor\":\"white\",\"gridwidth\":2},\"yaxis\":{\"backgroundcolor\":\"#E5ECF6\",\"gridcolor\":\"white\",\"linecolor\":\"white\",\"showbackground\":true,\"ticks\":\"\",\"zerolinecolor\":\"white\",\"gridwidth\":2},\"zaxis\":{\"backgroundcolor\":\"#E5ECF6\",\"gridcolor\":\"white\",\"linecolor\":\"white\",\"showbackground\":true,\"ticks\":\"\",\"zerolinecolor\":\"white\",\"gridwidth\":2}},\"shapedefaults\":{\"line\":{\"color\":\"#2a3f5f\"}},\"annotationdefaults\":{\"arrowcolor\":\"#2a3f5f\",\"arrowhead\":0,\"arrowwidth\":1},\"geo\":{\"bgcolor\":\"white\",\"landcolor\":\"#E5ECF6\",\"subunitcolor\":\"white\",\"showland\":true,\"showlakes\":true,\"lakecolor\":\"white\"},\"title\":{\"x\":0.05},\"mapbox\":{\"style\":\"light\"}}},\"title\":{\"text\":\"Distribution of word counts within data\"},\"xaxis\":{\"title\":{\"text\":\"Word Count\"}},\"yaxis\":{\"title\":{\"text\":\"Frequency\"}},\"bargap\":0.2,\"bargroupgap\":0.2},                        {\"responsive\": true}                    ).then(function(){\n",
              "                            \n",
              "var gd = document.getElementById('0e3a55fc-5b7b-4458-9e4f-5dc646c1d9b9');\n",
              "var x = new MutationObserver(function (mutations, observer) {{\n",
              "        var display = window.getComputedStyle(gd).display;\n",
              "        if (!display || display === 'none') {{\n",
              "            console.log([gd, 'removed!']);\n",
              "            Plotly.purge(gd);\n",
              "            observer.disconnect();\n",
              "        }}\n",
              "}});\n",
              "\n",
              "// Listen for the removal of the full notebook cells\n",
              "var notebookContainer = gd.closest('#notebook-container');\n",
              "if (notebookContainer) {{\n",
              "    x.observe(notebookContainer, {childList: true});\n",
              "}}\n",
              "\n",
              "// Listen for the clearing of the current output cell\n",
              "var outputEl = gd.closest('.output');\n",
              "if (outputEl) {{\n",
              "    x.observe(outputEl, {childList: true});\n",
              "}}\n",
              "\n",
              "                        })                };                            </script>        </div>\n",
              "</body>\n",
              "</html>"
            ]
          },
          "metadata": {}
        },
        {
          "output_type": "stream",
          "name": "stdout",
          "text": [
            "sentences with word length of greater than 10.0 and less than 25.0 includes 55.76% of the whole!\n"
          ]
        },
        {
          "output_type": "display_data",
          "data": {
            "text/html": [
              "<html>\n",
              "<head><meta charset=\"utf-8\" /></head>\n",
              "<body>\n",
              "    <div>            <script src=\"https://cdnjs.cloudflare.com/ajax/libs/mathjax/2.7.5/MathJax.js?config=TeX-AMS-MML_SVG\"></script><script type=\"text/javascript\">if (window.MathJax && window.MathJax.Hub && window.MathJax.Hub.Config) {window.MathJax.Hub.Config({SVG: {font: \"STIX-Web\"}});}</script>                <script type=\"text/javascript\">window.PlotlyConfig = {MathJaxConfig: 'local'};</script>\n",
              "        <script src=\"https://cdn.plot.ly/plotly-2.18.2.min.js\"></script>                <div id=\"c6ad0dd8-3bfc-475a-bb57-c72d52d1cbe0\" class=\"plotly-graph-div\" style=\"height:525px; width:100%;\"></div>            <script type=\"text/javascript\">                                    window.PLOTLYENV=window.PLOTLYENV || {};                                    if (document.getElementById(\"c6ad0dd8-3bfc-475a-bb57-c72d52d1cbe0\")) {                    Plotly.newPlot(                        \"c6ad0dd8-3bfc-475a-bb57-c72d52d1cbe0\",                        [{\"text\":[\"381\",\"462\",\"30\",\"420\",\"440\",\"184\"],\"textposition\":\"auto\",\"x\":[\"-1\",\"-2\",\"0\",\"1\",\"2\",\"3\"],\"y\":[381,462,30,420,440,184],\"type\":\"bar\"}],                        {\"template\":{\"data\":{\"histogram2dcontour\":[{\"type\":\"histogram2dcontour\",\"colorbar\":{\"outlinewidth\":0,\"ticks\":\"\"},\"colorscale\":[[0.0,\"#0d0887\"],[0.1111111111111111,\"#46039f\"],[0.2222222222222222,\"#7201a8\"],[0.3333333333333333,\"#9c179e\"],[0.4444444444444444,\"#bd3786\"],[0.5555555555555556,\"#d8576b\"],[0.6666666666666666,\"#ed7953\"],[0.7777777777777778,\"#fb9f3a\"],[0.8888888888888888,\"#fdca26\"],[1.0,\"#f0f921\"]]}],\"choropleth\":[{\"type\":\"choropleth\",\"colorbar\":{\"outlinewidth\":0,\"ticks\":\"\"}}],\"histogram2d\":[{\"type\":\"histogram2d\",\"colorbar\":{\"outlinewidth\":0,\"ticks\":\"\"},\"colorscale\":[[0.0,\"#0d0887\"],[0.1111111111111111,\"#46039f\"],[0.2222222222222222,\"#7201a8\"],[0.3333333333333333,\"#9c179e\"],[0.4444444444444444,\"#bd3786\"],[0.5555555555555556,\"#d8576b\"],[0.6666666666666666,\"#ed7953\"],[0.7777777777777778,\"#fb9f3a\"],[0.8888888888888888,\"#fdca26\"],[1.0,\"#f0f921\"]]}],\"heatmap\":[{\"type\":\"heatmap\",\"colorbar\":{\"outlinewidth\":0,\"ticks\":\"\"},\"colorscale\":[[0.0,\"#0d0887\"],[0.1111111111111111,\"#46039f\"],[0.2222222222222222,\"#7201a8\"],[0.3333333333333333,\"#9c179e\"],[0.4444444444444444,\"#bd3786\"],[0.5555555555555556,\"#d8576b\"],[0.6666666666666666,\"#ed7953\"],[0.7777777777777778,\"#fb9f3a\"],[0.8888888888888888,\"#fdca26\"],[1.0,\"#f0f921\"]]}],\"heatmapgl\":[{\"type\":\"heatmapgl\",\"colorbar\":{\"outlinewidth\":0,\"ticks\":\"\"},\"colorscale\":[[0.0,\"#0d0887\"],[0.1111111111111111,\"#46039f\"],[0.2222222222222222,\"#7201a8\"],[0.3333333333333333,\"#9c179e\"],[0.4444444444444444,\"#bd3786\"],[0.5555555555555556,\"#d8576b\"],[0.6666666666666666,\"#ed7953\"],[0.7777777777777778,\"#fb9f3a\"],[0.8888888888888888,\"#fdca26\"],[1.0,\"#f0f921\"]]}],\"contourcarpet\":[{\"type\":\"contourcarpet\",\"colorbar\":{\"outlinewidth\":0,\"ticks\":\"\"}}],\"contour\":[{\"type\":\"contour\",\"colorbar\":{\"outlinewidth\":0,\"ticks\":\"\"},\"colorscale\":[[0.0,\"#0d0887\"],[0.1111111111111111,\"#46039f\"],[0.2222222222222222,\"#7201a8\"],[0.3333333333333333,\"#9c179e\"],[0.4444444444444444,\"#bd3786\"],[0.5555555555555556,\"#d8576b\"],[0.6666666666666666,\"#ed7953\"],[0.7777777777777778,\"#fb9f3a\"],[0.8888888888888888,\"#fdca26\"],[1.0,\"#f0f921\"]]}],\"surface\":[{\"type\":\"surface\",\"colorbar\":{\"outlinewidth\":0,\"ticks\":\"\"},\"colorscale\":[[0.0,\"#0d0887\"],[0.1111111111111111,\"#46039f\"],[0.2222222222222222,\"#7201a8\"],[0.3333333333333333,\"#9c179e\"],[0.4444444444444444,\"#bd3786\"],[0.5555555555555556,\"#d8576b\"],[0.6666666666666666,\"#ed7953\"],[0.7777777777777778,\"#fb9f3a\"],[0.8888888888888888,\"#fdca26\"],[1.0,\"#f0f921\"]]}],\"mesh3d\":[{\"type\":\"mesh3d\",\"colorbar\":{\"outlinewidth\":0,\"ticks\":\"\"}}],\"scatter\":[{\"fillpattern\":{\"fillmode\":\"overlay\",\"size\":10,\"solidity\":0.2},\"type\":\"scatter\"}],\"parcoords\":[{\"type\":\"parcoords\",\"line\":{\"colorbar\":{\"outlinewidth\":0,\"ticks\":\"\"}}}],\"scatterpolargl\":[{\"type\":\"scatterpolargl\",\"marker\":{\"colorbar\":{\"outlinewidth\":0,\"ticks\":\"\"}}}],\"bar\":[{\"error_x\":{\"color\":\"#2a3f5f\"},\"error_y\":{\"color\":\"#2a3f5f\"},\"marker\":{\"line\":{\"color\":\"#E5ECF6\",\"width\":0.5},\"pattern\":{\"fillmode\":\"overlay\",\"size\":10,\"solidity\":0.2}},\"type\":\"bar\"}],\"scattergeo\":[{\"type\":\"scattergeo\",\"marker\":{\"colorbar\":{\"outlinewidth\":0,\"ticks\":\"\"}}}],\"scatterpolar\":[{\"type\":\"scatterpolar\",\"marker\":{\"colorbar\":{\"outlinewidth\":0,\"ticks\":\"\"}}}],\"histogram\":[{\"marker\":{\"pattern\":{\"fillmode\":\"overlay\",\"size\":10,\"solidity\":0.2}},\"type\":\"histogram\"}],\"scattergl\":[{\"type\":\"scattergl\",\"marker\":{\"colorbar\":{\"outlinewidth\":0,\"ticks\":\"\"}}}],\"scatter3d\":[{\"type\":\"scatter3d\",\"line\":{\"colorbar\":{\"outlinewidth\":0,\"ticks\":\"\"}},\"marker\":{\"colorbar\":{\"outlinewidth\":0,\"ticks\":\"\"}}}],\"scattermapbox\":[{\"type\":\"scattermapbox\",\"marker\":{\"colorbar\":{\"outlinewidth\":0,\"ticks\":\"\"}}}],\"scatterternary\":[{\"type\":\"scatterternary\",\"marker\":{\"colorbar\":{\"outlinewidth\":0,\"ticks\":\"\"}}}],\"scattercarpet\":[{\"type\":\"scattercarpet\",\"marker\":{\"colorbar\":{\"outlinewidth\":0,\"ticks\":\"\"}}}],\"carpet\":[{\"aaxis\":{\"endlinecolor\":\"#2a3f5f\",\"gridcolor\":\"white\",\"linecolor\":\"white\",\"minorgridcolor\":\"white\",\"startlinecolor\":\"#2a3f5f\"},\"baxis\":{\"endlinecolor\":\"#2a3f5f\",\"gridcolor\":\"white\",\"linecolor\":\"white\",\"minorgridcolor\":\"white\",\"startlinecolor\":\"#2a3f5f\"},\"type\":\"carpet\"}],\"table\":[{\"cells\":{\"fill\":{\"color\":\"#EBF0F8\"},\"line\":{\"color\":\"white\"}},\"header\":{\"fill\":{\"color\":\"#C8D4E3\"},\"line\":{\"color\":\"white\"}},\"type\":\"table\"}],\"barpolar\":[{\"marker\":{\"line\":{\"color\":\"#E5ECF6\",\"width\":0.5},\"pattern\":{\"fillmode\":\"overlay\",\"size\":10,\"solidity\":0.2}},\"type\":\"barpolar\"}],\"pie\":[{\"automargin\":true,\"type\":\"pie\"}]},\"layout\":{\"autotypenumbers\":\"strict\",\"colorway\":[\"#636efa\",\"#EF553B\",\"#00cc96\",\"#ab63fa\",\"#FFA15A\",\"#19d3f3\",\"#FF6692\",\"#B6E880\",\"#FF97FF\",\"#FECB52\"],\"font\":{\"color\":\"#2a3f5f\"},\"hovermode\":\"closest\",\"hoverlabel\":{\"align\":\"left\"},\"paper_bgcolor\":\"white\",\"plot_bgcolor\":\"#E5ECF6\",\"polar\":{\"bgcolor\":\"#E5ECF6\",\"angularaxis\":{\"gridcolor\":\"white\",\"linecolor\":\"white\",\"ticks\":\"\"},\"radialaxis\":{\"gridcolor\":\"white\",\"linecolor\":\"white\",\"ticks\":\"\"}},\"ternary\":{\"bgcolor\":\"#E5ECF6\",\"aaxis\":{\"gridcolor\":\"white\",\"linecolor\":\"white\",\"ticks\":\"\"},\"baxis\":{\"gridcolor\":\"white\",\"linecolor\":\"white\",\"ticks\":\"\"},\"caxis\":{\"gridcolor\":\"white\",\"linecolor\":\"white\",\"ticks\":\"\"}},\"coloraxis\":{\"colorbar\":{\"outlinewidth\":0,\"ticks\":\"\"}},\"colorscale\":{\"sequential\":[[0.0,\"#0d0887\"],[0.1111111111111111,\"#46039f\"],[0.2222222222222222,\"#7201a8\"],[0.3333333333333333,\"#9c179e\"],[0.4444444444444444,\"#bd3786\"],[0.5555555555555556,\"#d8576b\"],[0.6666666666666666,\"#ed7953\"],[0.7777777777777778,\"#fb9f3a\"],[0.8888888888888888,\"#fdca26\"],[1.0,\"#f0f921\"]],\"sequentialminus\":[[0.0,\"#0d0887\"],[0.1111111111111111,\"#46039f\"],[0.2222222222222222,\"#7201a8\"],[0.3333333333333333,\"#9c179e\"],[0.4444444444444444,\"#bd3786\"],[0.5555555555555556,\"#d8576b\"],[0.6666666666666666,\"#ed7953\"],[0.7777777777777778,\"#fb9f3a\"],[0.8888888888888888,\"#fdca26\"],[1.0,\"#f0f921\"]],\"diverging\":[[0,\"#8e0152\"],[0.1,\"#c51b7d\"],[0.2,\"#de77ae\"],[0.3,\"#f1b6da\"],[0.4,\"#fde0ef\"],[0.5,\"#f7f7f7\"],[0.6,\"#e6f5d0\"],[0.7,\"#b8e186\"],[0.8,\"#7fbc41\"],[0.9,\"#4d9221\"],[1,\"#276419\"]]},\"xaxis\":{\"gridcolor\":\"white\",\"linecolor\":\"white\",\"ticks\":\"\",\"title\":{\"standoff\":15},\"zerolinecolor\":\"white\",\"automargin\":true,\"zerolinewidth\":2},\"yaxis\":{\"gridcolor\":\"white\",\"linecolor\":\"white\",\"ticks\":\"\",\"title\":{\"standoff\":15},\"zerolinecolor\":\"white\",\"automargin\":true,\"zerolinewidth\":2},\"scene\":{\"xaxis\":{\"backgroundcolor\":\"#E5ECF6\",\"gridcolor\":\"white\",\"linecolor\":\"white\",\"showbackground\":true,\"ticks\":\"\",\"zerolinecolor\":\"white\",\"gridwidth\":2},\"yaxis\":{\"backgroundcolor\":\"#E5ECF6\",\"gridcolor\":\"white\",\"linecolor\":\"white\",\"showbackground\":true,\"ticks\":\"\",\"zerolinecolor\":\"white\",\"gridwidth\":2},\"zaxis\":{\"backgroundcolor\":\"#E5ECF6\",\"gridcolor\":\"white\",\"linecolor\":\"white\",\"showbackground\":true,\"ticks\":\"\",\"zerolinecolor\":\"white\",\"gridwidth\":2}},\"shapedefaults\":{\"line\":{\"color\":\"#2a3f5f\"}},\"annotationdefaults\":{\"arrowcolor\":\"#2a3f5f\",\"arrowhead\":0,\"arrowwidth\":1},\"geo\":{\"bgcolor\":\"white\",\"landcolor\":\"#E5ECF6\",\"subunitcolor\":\"white\",\"showland\":true,\"showlakes\":true,\"lakecolor\":\"white\"},\"title\":{\"x\":0.05},\"mapbox\":{\"style\":\"light\"}}},\"title\":{\"text\":\"Distribution of sentiments within sentences\"},\"xaxis\":{\"title\":{\"text\":\"sentiment\"}},\"yaxis\":{\"title\":{\"text\":\"Frequency\"}},\"bargap\":0.2,\"bargroupgap\":0.2},                        {\"responsive\": true}                    ).then(function(){\n",
              "                            \n",
              "var gd = document.getElementById('c6ad0dd8-3bfc-475a-bb57-c72d52d1cbe0');\n",
              "var x = new MutationObserver(function (mutations, observer) {{\n",
              "        var display = window.getComputedStyle(gd).display;\n",
              "        if (!display || display === 'none') {{\n",
              "            console.log([gd, 'removed!']);\n",
              "            Plotly.purge(gd);\n",
              "            observer.disconnect();\n",
              "        }}\n",
              "}});\n",
              "\n",
              "// Listen for the removal of the full notebook cells\n",
              "var notebookContainer = gd.closest('#notebook-container');\n",
              "if (notebookContainer) {{\n",
              "    x.observe(notebookContainer, {childList: true});\n",
              "}}\n",
              "\n",
              "// Listen for the clearing of the current output cell\n",
              "var outputEl = gd.closest('.output');\n",
              "if (outputEl) {{\n",
              "    x.observe(outputEl, {childList: true});\n",
              "}}\n",
              "\n",
              "                        })                };                            </script>        </div>\n",
              "</body>\n",
              "</html>"
            ]
          },
          "metadata": {}
        }
      ],
      "source": [
        "distributions.full_df_run(data, minmax=False,col_begin=\"words_norm_count\")\n",
        "distributions.author_count(data, \"sentiment\")"
      ]
    },
    {
      "cell_type": "code",
      "source": [
        "name_list = [\"mixed/boerderline\",\"very negative\",\"negative\",\"neutral\",\"positive\",\"very positive\"]\n",
        "labels= [name_list[int(i)+2] for i in data['sentiment']]\n",
        "data[\"label\"] = labels\n",
        "for name in name_list:\n",
        "  df = data[data[\"label\"]==name]\n",
        "  print(f\"\\nword frequency within {name}'s sentiment is as follows:\\n\")\n",
        "  distributions.word_and_freq(df,\"normalized_sents\")"
      ],
      "metadata": {
        "colab": {
          "base_uri": "https://localhost:8080/"
        },
        "id": "i5z0qOYblpzc",
        "outputId": "e3f3ac74-a513-4d3d-dffa-bc4351ba64cf"
      },
      "execution_count": 141,
      "outputs": [
        {
          "output_type": "stream",
          "name": "stdout",
          "text": [
            "\n",
            "word frequency within mixed/boerderline's sentiment is as follows:\n",
            "\n",
            "word             Frequency        % of the total  \n",
            "خیلی             186              2.263875365141188\n",
            "اصلا             183              2.227361246348588\n",
            "،                168              2.044790652385589\n",
            "طعم              118              1.436222005842259\n",
            "من               99               1.2049659201557936\n",
            "نیست             95               1.1562804284323271\n",
            "مزه              92               1.1197663096397275\n",
            "کیفیت            92               1.1197663096397275\n",
            "بد               74               0.9006815968841284\n",
            "داره             70               0.8519961051606622\n",
            "ولی              61               0.7424537487828627\n",
            "شده              57               0.6937682570593964\n",
            "بسته             56               0.6815968841285297\n",
            "نداره            53               0.6450827653359299\n",
            "بوی              48               0.5842259006815969\n",
            "بسیار            46               0.5598831548198637\n",
            "نبود             45               0.547711781888997\n",
            "واقعا            45               0.547711781888997\n",
            "نمیکنم           44               0.5355404089581305\n",
            "کردم             43               0.5233690360272639\n",
            "\n",
            "word frequency within very negative's sentiment is as follows:\n",
            "\n",
            "word             Frequency        % of the total  \n",
            "،                84               1.496792587312901\n",
            "من               82               1.4611546685673558\n",
            "خیلی             74               1.3186029935851746\n",
            "طعم              69               1.2295081967213115\n",
            "کیفیت            51               0.9087669280114041\n",
            "بسته             51               0.9087669280114041\n",
            "نیست             49               0.8731290092658588\n",
            "ولی              49               0.8731290092658588\n",
            "مزه              49               0.8731290092658588\n",
            "نبود             46               0.819672131147541\n",
            "برای             40               0.7127583749109052\n",
            "های              37               0.6593014967925873\n",
            "خرید             35               0.6236635780470421\n",
            "داره             35               0.6236635780470421\n",
            "نداره            33               0.5880256593014969\n",
            "قیمت             33               0.5880256593014969\n",
            "هست              32               0.5702066999287242\n",
            "داشت             30               0.534568781183179\n",
            "محصول            29               0.5167498218104063\n",
            "گوشت             29               0.5167498218104063\n",
            "\n",
            "word frequency within negative's sentiment is as follows:\n",
            "\n",
            "word             Frequency        % of the total  \n",
            "،                6                1.5384615384615385\n",
            "می               6                1.5384615384615385\n",
            "برای             5                1.282051282051282\n",
            "کنید             5                1.282051282051282\n",
            "من               5                1.282051282051282\n",
            "چای              5                1.282051282051282\n",
            "نوشابه           4                1.0256410256410255\n",
            "کم               4                1.0256410256410255\n",
            "خیلی             4                1.0256410256410255\n",
            "استفاده          4                1.0256410256410255\n",
            "طعم              4                1.0256410256410255\n",
            "فقط              4                1.0256410256410255\n",
            "هست              4                1.0256410256410255\n",
            "شیر              4                1.0256410256410255\n",
            "های              3                0.7692307692307693\n",
            "یک               3                0.7692307692307693\n",
            "ویتامین          3                0.7692307692307693\n",
            "باشه             3                0.7692307692307693\n",
            "خرید             3                0.7692307692307693\n",
            "حتما             3                0.7692307692307693\n",
            "\n",
            "word frequency within neutral's sentiment is as follows:\n",
            "\n",
            "word             Frequency        % of the total  \n",
            "خوب              98               1.8232558139534882\n",
            "،                87               1.6186046511627905\n",
            "داره             86               1.6             \n",
            "طعم              78               1.4511627906976745\n",
            "من               74               1.3767441860465115\n",
            "برای             69               1.283720930232558\n",
            "ولی              65               1.2093023255813953\n",
            "خوبی             62               1.1534883720930234\n",
            "خوبه             59               1.0976744186046512\n",
            "کیفیت            57               1.0604651162790697\n",
            "خیلی             45               0.8372093023255814\n",
            "ها               44               0.8186046511627907\n",
            "بسته             44               0.8186046511627907\n",
            "قیمت             44               0.8186046511627907\n",
            "نسبت             39               0.7255813953488373\n",
            "خرید             39               0.7255813953488373\n",
            "تو               38               0.7069767441860465\n",
            "خوشمزه           37               0.6883720930232557\n",
            "هست              36               0.6697674418604651\n",
            "راضی             36               0.6697674418604651\n",
            "\n",
            "word frequency within positive's sentiment is as follows:\n",
            "\n",
            "word             Frequency        % of the total  \n",
            "خیلی             210              3.3003300330033 \n",
            "طعم              124              1.9487663052019488\n",
            "،                120              1.885902876001886\n",
            "داره             103              1.6187333019016186\n",
            "من               101              1.5873015873015872\n",
            "خوب              91               1.4301430143014302\n",
            "کیفیت            82               1.2887002986012888\n",
            "خوشمزه           73               1.1472575829011473\n",
            "عالی             69               1.0843941537010844\n",
            "خوبی             63               0.9900990099009901\n",
            "خوش              61               0.9586672953009587\n",
            "واقعا            60               0.942951438000943\n",
            "هست              57               0.8958038661008958\n",
            "عالیه            56               0.88008800880088\n",
            "برای             56               0.88008800880088\n",
            "تو               54               0.8486562942008486\n",
            "بسیار            53               0.832940436900833\n",
            "خوبه             51               0.8015087223008015\n",
            "بسته             51               0.8015087223008015\n",
            "خرید             46               0.722929435800723\n",
            "\n",
            "word frequency within very positive's sentiment is as follows:\n",
            "\n",
            "word             Frequency        % of the total  \n",
            "ولی              93               3.279266572637517\n",
            "خیلی             42               1.4809590973201692\n",
            "اما              39               1.3751763046544427\n",
            "خوب              38               1.3399153737658673\n",
            "،                36               1.2693935119887165\n",
            "طعم              36               1.2693935119887165\n",
            "داره             36               1.2693935119887165\n",
            "کیفیت            34               1.1988716502115657\n",
            "فقط              33               1.16361071932299\n",
            "هست              31               1.0930888575458393\n",
            "بسته             29               1.0225669957686883\n",
            "نیست             24               0.846262341325811\n",
            "بندی             23               0.8110014104372355\n",
            "خوبه             22               0.7757404795486601\n",
            "شده              20               0.7052186177715092\n",
            "شگفت             19               0.6699576868829337\n",
            "خوبی             19               0.6699576868829337\n",
            "قیمتش            19               0.6699576868829337\n",
            "خرید             19               0.6699576868829337\n",
            "مزه              18               0.6346967559943583\n"
          ]
        }
      ]
    },
    {
      "cell_type": "markdown",
      "metadata": {
        "id": "iaJ47YM6bOow"
      },
      "source": [
        "#####Subsection 5: lemmatization"
      ]
    },
    {
      "cell_type": "code",
      "execution_count": 142,
      "metadata": {
        "id": "103Z1ohlbTfM"
      },
      "outputs": [],
      "source": [
        "lem_sents = []\n",
        "for nsent in data[\"normalized_sents\"]:\n",
        "  tokens = []\n",
        "  for token in nsent:\n",
        "    tokens.append(lemmatizer.lemmatize(token))\n",
        "  lem_sents.append(tokens)\n",
        "data[\"lemmatized\"] = lem_sents"
      ]
    },
    {
      "cell_type": "code",
      "source": [
        "data.sample(5)"
      ],
      "metadata": {
        "colab": {
          "base_uri": "https://localhost:8080/",
          "height": 808
        },
        "id": "3y-8epUwsrbP",
        "outputId": "d9801d6d-3cbf-44fa-e881-cc26bbecb603"
      },
      "execution_count": 143,
      "outputs": [
        {
          "output_type": "execute_result",
          "data": {
            "text/plain": [
              "                                                 review sentiment  \\\n",
              "472   اولش طعمش خوبه ولی بعد از پنج دقیقه واااقعا بد...        -2   \n",
              "1601  عدس کرلیچین قاطی داره حتی تو زود پز هم نپخت و ...        -2   \n",
              "1547  روغن سرخ کردنی بهار کیفیت خوبی دارد سرخ کردن م...         2   \n",
              "1161  خیلی کوچولو بود ، من به حجمش توجه نکرده بودم ....        -1   \n",
              "1210  تخم مرغ درشت و بدون شکستگی توی دوتا بسته به نس...         1   \n",
              "\n",
              "                        category                     aspects  \\\n",
              "472   آدامس و خوشبو کننده‌ی دهان               {'طعم': '-2'}   \n",
              "1601               حبوبات و سویا                          {}   \n",
              "1547                        روغن  {'کیفیت': '1', 'طعم': '1'}   \n",
              "1161                         شیر         {'ارزش خرید': '-1'}   \n",
              "1210                     تخم مرغ          {'ارزش خرید': '1'}   \n",
              "\n",
              "                                              tokenized  \\\n",
              "472   [اولش, طعمش, خوبه, ولی, بعد, از, پنج, دقیقه, و...   \n",
              "1601  [عدس, کرلیچین, قاطی, داره, حتی, تو, زود, پز, ه...   \n",
              "1547  [روغن, سرخ, کردنی, بهار, کیفیت, خوبی, دارد, سر...   \n",
              "1161  [خیلی, کوچولو, بود, ،, من, به, حجمش, توجه, نکر...   \n",
              "1210  [تخم, مرغ, درشت, و, بدون, شکستگی, توی, دوتا, ب...   \n",
              "\n",
              "                                            clean_token  \\\n",
              "472   [اولش, طعمش, خوبه, ولی, بعد, از, پنج, دقیقه, و...   \n",
              "1601  [عدس, کرلیچین, قاطی, داره, حتی, تو, زود, پز, ه...   \n",
              "1547  [روغن, سرخ, کردنی, بهار, کیفیت, خوبی, دارد, سر...   \n",
              "1161  [خیلی, کوچولو, بود, ،, من, به, حجمش, توجه, نکر...   \n",
              "1210  [تخم, مرغ, درشت, و, بدون, شکستگی, توی, دوتا, ب...   \n",
              "\n",
              "                                       normalized_sents  words_norm_count  \\\n",
              "472   [اولش, طعمش, خوبه, ولی, پنج, دقیقه, واااقعا, ب...                13   \n",
              "1601  [عدس, کرلیچین, قاطی, داره, حتی, تو, زود, پز, ن...                16   \n",
              "1547  [روغن, سرخ, کردنی, بهار, کیفیت, خوبی, دارد, سر...                22   \n",
              "1161  [خیلی, کوچولو, ،, من, حجمش, توجه, نکرده_بودم, ...                10   \n",
              "1210  [تخم, مرغ, درشت, بدون, شکستگی, توی, دوتا, بسته...                11   \n",
              "\n",
              "      words_count              label  \\\n",
              "472            18  mixed/boerderline   \n",
              "1601           19  mixed/boerderline   \n",
              "1547           28           positive   \n",
              "1161           14      very negative   \n",
              "1210           13            neutral   \n",
              "\n",
              "                                             lemmatized  \n",
              "472   [اول, طعمش, خوبه, ولی, پنج, دقیقه, واااقعا, بد...  \n",
              "1601  [عدس, کرلیچین, قاطی, داره, حتی, تو, زود, پز, پ...  \n",
              "1547  [روغن, سرخ, کردن, بهار, کیفیت, خوبی, داشت#دار,...  \n",
              "1161  [خیلی, کوچولو, ،, من, حج, توجه, کرد#کن, ارزش, ...  \n",
              "1210  [تخم, مرغ, درشت, بدون, شکستگی, تو, دوتا, بسته,...  "
            ],
            "text/html": [
              "\n",
              "  <div id=\"df-3f675208-3660-4d1f-b347-a0b9e9491785\">\n",
              "    <div class=\"colab-df-container\">\n",
              "      <div>\n",
              "<style scoped>\n",
              "    .dataframe tbody tr th:only-of-type {\n",
              "        vertical-align: middle;\n",
              "    }\n",
              "\n",
              "    .dataframe tbody tr th {\n",
              "        vertical-align: top;\n",
              "    }\n",
              "\n",
              "    .dataframe thead th {\n",
              "        text-align: right;\n",
              "    }\n",
              "</style>\n",
              "<table border=\"1\" class=\"dataframe\">\n",
              "  <thead>\n",
              "    <tr style=\"text-align: right;\">\n",
              "      <th></th>\n",
              "      <th>review</th>\n",
              "      <th>sentiment</th>\n",
              "      <th>category</th>\n",
              "      <th>aspects</th>\n",
              "      <th>tokenized</th>\n",
              "      <th>clean_token</th>\n",
              "      <th>normalized_sents</th>\n",
              "      <th>words_norm_count</th>\n",
              "      <th>words_count</th>\n",
              "      <th>label</th>\n",
              "      <th>lemmatized</th>\n",
              "    </tr>\n",
              "  </thead>\n",
              "  <tbody>\n",
              "    <tr>\n",
              "      <th>472</th>\n",
              "      <td>اولش طعمش خوبه ولی بعد از پنج دقیقه واااقعا بد...</td>\n",
              "      <td>-2</td>\n",
              "      <td>آدامس و خوشبو کننده‌ی دهان</td>\n",
              "      <td>{'طعم': '-2'}</td>\n",
              "      <td>[اولش, طعمش, خوبه, ولی, بعد, از, پنج, دقیقه, و...</td>\n",
              "      <td>[اولش, طعمش, خوبه, ولی, بعد, از, پنج, دقیقه, و...</td>\n",
              "      <td>[اولش, طعمش, خوبه, ولی, پنج, دقیقه, واااقعا, ب...</td>\n",
              "      <td>13</td>\n",
              "      <td>18</td>\n",
              "      <td>mixed/boerderline</td>\n",
              "      <td>[اول, طعمش, خوبه, ولی, پنج, دقیقه, واااقعا, بد...</td>\n",
              "    </tr>\n",
              "    <tr>\n",
              "      <th>1601</th>\n",
              "      <td>عدس کرلیچین قاطی داره حتی تو زود پز هم نپخت و ...</td>\n",
              "      <td>-2</td>\n",
              "      <td>حبوبات و سویا</td>\n",
              "      <td>{}</td>\n",
              "      <td>[عدس, کرلیچین, قاطی, داره, حتی, تو, زود, پز, ه...</td>\n",
              "      <td>[عدس, کرلیچین, قاطی, داره, حتی, تو, زود, پز, ه...</td>\n",
              "      <td>[عدس, کرلیچین, قاطی, داره, حتی, تو, زود, پز, ن...</td>\n",
              "      <td>16</td>\n",
              "      <td>19</td>\n",
              "      <td>mixed/boerderline</td>\n",
              "      <td>[عدس, کرلیچین, قاطی, داره, حتی, تو, زود, پز, پ...</td>\n",
              "    </tr>\n",
              "    <tr>\n",
              "      <th>1547</th>\n",
              "      <td>روغن سرخ کردنی بهار کیفیت خوبی دارد سرخ کردن م...</td>\n",
              "      <td>2</td>\n",
              "      <td>روغن</td>\n",
              "      <td>{'کیفیت': '1', 'طعم': '1'}</td>\n",
              "      <td>[روغن, سرخ, کردنی, بهار, کیفیت, خوبی, دارد, سر...</td>\n",
              "      <td>[روغن, سرخ, کردنی, بهار, کیفیت, خوبی, دارد, سر...</td>\n",
              "      <td>[روغن, سرخ, کردنی, بهار, کیفیت, خوبی, دارد, سر...</td>\n",
              "      <td>22</td>\n",
              "      <td>28</td>\n",
              "      <td>positive</td>\n",
              "      <td>[روغن, سرخ, کردن, بهار, کیفیت, خوبی, داشت#دار,...</td>\n",
              "    </tr>\n",
              "    <tr>\n",
              "      <th>1161</th>\n",
              "      <td>خیلی کوچولو بود ، من به حجمش توجه نکرده بودم ....</td>\n",
              "      <td>-1</td>\n",
              "      <td>شیر</td>\n",
              "      <td>{'ارزش خرید': '-1'}</td>\n",
              "      <td>[خیلی, کوچولو, بود, ،, من, به, حجمش, توجه, نکر...</td>\n",
              "      <td>[خیلی, کوچولو, بود, ،, من, به, حجمش, توجه, نکر...</td>\n",
              "      <td>[خیلی, کوچولو, ،, من, حجمش, توجه, نکرده_بودم, ...</td>\n",
              "      <td>10</td>\n",
              "      <td>14</td>\n",
              "      <td>very negative</td>\n",
              "      <td>[خیلی, کوچولو, ،, من, حج, توجه, کرد#کن, ارزش, ...</td>\n",
              "    </tr>\n",
              "    <tr>\n",
              "      <th>1210</th>\n",
              "      <td>تخم مرغ درشت و بدون شکستگی توی دوتا بسته به نس...</td>\n",
              "      <td>1</td>\n",
              "      <td>تخم مرغ</td>\n",
              "      <td>{'ارزش خرید': '1'}</td>\n",
              "      <td>[تخم, مرغ, درشت, و, بدون, شکستگی, توی, دوتا, ب...</td>\n",
              "      <td>[تخم, مرغ, درشت, و, بدون, شکستگی, توی, دوتا, ب...</td>\n",
              "      <td>[تخم, مرغ, درشت, بدون, شکستگی, توی, دوتا, بسته...</td>\n",
              "      <td>11</td>\n",
              "      <td>13</td>\n",
              "      <td>neutral</td>\n",
              "      <td>[تخم, مرغ, درشت, بدون, شکستگی, تو, دوتا, بسته,...</td>\n",
              "    </tr>\n",
              "  </tbody>\n",
              "</table>\n",
              "</div>\n",
              "      <button class=\"colab-df-convert\" onclick=\"convertToInteractive('df-3f675208-3660-4d1f-b347-a0b9e9491785')\"\n",
              "              title=\"Convert this dataframe to an interactive table.\"\n",
              "              style=\"display:none;\">\n",
              "        \n",
              "  <svg xmlns=\"http://www.w3.org/2000/svg\" height=\"24px\"viewBox=\"0 0 24 24\"\n",
              "       width=\"24px\">\n",
              "    <path d=\"M0 0h24v24H0V0z\" fill=\"none\"/>\n",
              "    <path d=\"M18.56 5.44l.94 2.06.94-2.06 2.06-.94-2.06-.94-.94-2.06-.94 2.06-2.06.94zm-11 1L8.5 8.5l.94-2.06 2.06-.94-2.06-.94L8.5 2.5l-.94 2.06-2.06.94zm10 10l.94 2.06.94-2.06 2.06-.94-2.06-.94-.94-2.06-.94 2.06-2.06.94z\"/><path d=\"M17.41 7.96l-1.37-1.37c-.4-.4-.92-.59-1.43-.59-.52 0-1.04.2-1.43.59L10.3 9.45l-7.72 7.72c-.78.78-.78 2.05 0 2.83L4 21.41c.39.39.9.59 1.41.59.51 0 1.02-.2 1.41-.59l7.78-7.78 2.81-2.81c.8-.78.8-2.07 0-2.86zM5.41 20L4 18.59l7.72-7.72 1.47 1.35L5.41 20z\"/>\n",
              "  </svg>\n",
              "      </button>\n",
              "      \n",
              "  <style>\n",
              "    .colab-df-container {\n",
              "      display:flex;\n",
              "      flex-wrap:wrap;\n",
              "      gap: 12px;\n",
              "    }\n",
              "\n",
              "    .colab-df-convert {\n",
              "      background-color: #E8F0FE;\n",
              "      border: none;\n",
              "      border-radius: 50%;\n",
              "      cursor: pointer;\n",
              "      display: none;\n",
              "      fill: #1967D2;\n",
              "      height: 32px;\n",
              "      padding: 0 0 0 0;\n",
              "      width: 32px;\n",
              "    }\n",
              "\n",
              "    .colab-df-convert:hover {\n",
              "      background-color: #E2EBFA;\n",
              "      box-shadow: 0px 1px 2px rgba(60, 64, 67, 0.3), 0px 1px 3px 1px rgba(60, 64, 67, 0.15);\n",
              "      fill: #174EA6;\n",
              "    }\n",
              "\n",
              "    [theme=dark] .colab-df-convert {\n",
              "      background-color: #3B4455;\n",
              "      fill: #D2E3FC;\n",
              "    }\n",
              "\n",
              "    [theme=dark] .colab-df-convert:hover {\n",
              "      background-color: #434B5C;\n",
              "      box-shadow: 0px 1px 3px 1px rgba(0, 0, 0, 0.15);\n",
              "      filter: drop-shadow(0px 1px 2px rgba(0, 0, 0, 0.3));\n",
              "      fill: #FFFFFF;\n",
              "    }\n",
              "  </style>\n",
              "\n",
              "      <script>\n",
              "        const buttonEl =\n",
              "          document.querySelector('#df-3f675208-3660-4d1f-b347-a0b9e9491785 button.colab-df-convert');\n",
              "        buttonEl.style.display =\n",
              "          google.colab.kernel.accessAllowed ? 'block' : 'none';\n",
              "\n",
              "        async function convertToInteractive(key) {\n",
              "          const element = document.querySelector('#df-3f675208-3660-4d1f-b347-a0b9e9491785');\n",
              "          const dataTable =\n",
              "            await google.colab.kernel.invokeFunction('convertToInteractive',\n",
              "                                                     [key], {});\n",
              "          if (!dataTable) return;\n",
              "\n",
              "          const docLinkHtml = 'Like what you see? Visit the ' +\n",
              "            '<a target=\"_blank\" href=https://colab.research.google.com/notebooks/data_table.ipynb>data table notebook</a>'\n",
              "            + ' to learn more about interactive tables.';\n",
              "          element.innerHTML = '';\n",
              "          dataTable['output_type'] = 'display_data';\n",
              "          await google.colab.output.renderOutput(dataTable, element);\n",
              "          const docLink = document.createElement('div');\n",
              "          docLink.innerHTML = docLinkHtml;\n",
              "          element.appendChild(docLink);\n",
              "        }\n",
              "      </script>\n",
              "    </div>\n",
              "  </div>\n",
              "  "
            ]
          },
          "metadata": {},
          "execution_count": 143
        }
      ]
    },
    {
      "cell_type": "code",
      "execution_count": 144,
      "metadata": {
        "id": "beF-TcxQnlh2"
      },
      "outputs": [],
      "source": [
        "from transformers import BertConfig, BertTokenizer\n",
        "from transformers import BertModel\n",
        "\n",
        "from transformers import get_linear_schedule_with_warmup\n",
        "\n",
        "import torch\n",
        "import torch.nn as nn\n",
        "import torch.nn.functional as F\n",
        "import os"
      ]
    },
    {
      "cell_type": "code",
      "source": [
        "train, test = tts(data, test_size=0.1, random_state=1, stratify=data['sentiment'])\n",
        "train, valid = tts(train, test_size=0.1, random_state=1, stratify=train['sentiment'])\n",
        "\n",
        "train = train.reset_index(drop=True)\n",
        "valid = valid.reset_index(drop=True)\n",
        "test = test.reset_index(drop=True)\n",
        "\n",
        "x_train, y_train = train['lemmatized'].values.tolist(), train['sentiment'].values.tolist()\n",
        "x_valid, y_valid = valid['lemmatized'].values.tolist(), valid['sentiment'].values.tolist()\n",
        "x_test, y_test = test['lemmatized'].values.tolist(), test['sentiment'].values.tolist()\n",
        "\n",
        "print(train.shape)\n",
        "print(valid.shape)\n",
        "print(test.shape)"
      ],
      "metadata": {
        "colab": {
          "base_uri": "https://localhost:8080/"
        },
        "id": "qgpgqS690oCs",
        "outputId": "40631237-a668-4d34-d68f-4eb064ba7f3a"
      },
      "execution_count": 145,
      "outputs": [
        {
          "output_type": "stream",
          "name": "stdout",
          "text": [
            "(1552, 11)\n",
            "(173, 11)\n",
            "(192, 11)\n"
          ]
        }
      ]
    },
    {
      "cell_type": "markdown",
      "metadata": {
        "id": "SperdZDDWKxT"
      },
      "source": [
        "#### Configuration"
      ]
    },
    {
      "cell_type": "code",
      "metadata": {
        "id": "WFpUoggdpU3x",
        "colab": {
          "base_uri": "https://localhost:8080/"
        },
        "outputId": "7bc26d82-0d1a-4251-9973-be8821f8b106"
      },
      "source": [
        "device = torch.device(\"cuda:0\" if torch.cuda.is_available() else \"cpu\")\n",
        "print(f'device: {device}')\n",
        "\n",
        "train_on_gpu = torch.cuda.is_available()\n",
        "\n",
        "if not train_on_gpu:\n",
        "    print('CUDA is not available.  Training on CPU ...')\n",
        "else:\n",
        "    print('CUDA is available!  Training on GPU ...')"
      ],
      "execution_count": 146,
      "outputs": [
        {
          "output_type": "stream",
          "name": "stdout",
          "text": [
            "device: cuda:0\n",
            "CUDA is available!  Training on GPU ...\n"
          ]
        }
      ]
    },
    {
      "cell_type": "code",
      "metadata": {
        "id": "mH38OJU0X7rd"
      },
      "source": [
        "MAX_LEN = 30\n",
        "TRAIN_BATCH_SIZE = 16\n",
        "VALID_BATCH_SIZE = 16\n",
        "TEST_BATCH_SIZE = 16\n",
        "\n",
        "EPOCHS = 3\n",
        "EEVERY_EPOCH = 1000\n",
        "LEARNING_RATE = 2e-5\n",
        "CLIP = 0.0\n",
        "\n",
        "MODEL_NAME_OR_PATH = 'HooshvareLab/bert-fa-base-uncased'\n",
        "OUTPUT_PATH = '/sentiment_classification_bert/pytorch_model.bin'\n",
        "\n",
        "os.makedirs(os.path.dirname(OUTPUT_PATH), exist_ok=True)"
      ],
      "execution_count": 148,
      "outputs": []
    },
    {
      "cell_type": "code",
      "metadata": {
        "id": "qK02AC0pYIPj",
        "colab": {
          "base_uri": "https://localhost:8080/"
        },
        "outputId": "cc98cbed-59c7-4acb-a899-4694eb0d5ab7"
      },
      "source": [
        "# create a key finder based on label 2 id and id to label\n",
        "name_list = [\"mixed/boerderline\",\"very negative\",\"negative\",\"neutral\",\"positive\",\"very positive\"]\n",
        "\n",
        "label2id = {label: i-2 for i, label in enumerate(name_list)}\n",
        "id2label = {v: k for k, v in label2id.items()}\n",
        "\n",
        "print(f'label2id: {label2id}')\n",
        "print(f'id2label: {id2label}')"
      ],
      "execution_count": 149,
      "outputs": [
        {
          "output_type": "stream",
          "name": "stdout",
          "text": [
            "label2id: {'mixed/boerderline': -2, 'very negative': -1, 'negative': 0, 'neutral': 1, 'positive': 2, 'very positive': 3}\n",
            "id2label: {-2: 'mixed/boerderline', -1: 'very negative', 0: 'negative', 1: 'neutral', 2: 'positive', 3: 'very positive'}\n"
          ]
        }
      ]
    },
    {
      "cell_type": "code",
      "metadata": {
        "id": "qGJRNBXFYOcx",
        "colab": {
          "base_uri": "https://localhost:8080/",
          "height": 831,
          "referenced_widgets": [
            "6a9cfb88842e4bf8bebf11b94e6f1246",
            "8d78c47330644f4dab0d7cc9796614a8",
            "c433909af0d1472b9ac35d64c69437e3",
            "9068a2f9d14e4d0c998fc4e668208c09",
            "ea0ccd4c13a14b06827813d10ae6b2ca",
            "e59625be84db480ab7d0e26257007a88",
            "6c97ad59c12b4f11bfaaa96f0849289c",
            "a964551a65b94ab3800e9bd5d8d44033",
            "743391e669aa42669c5b3a874112ed71",
            "a9ecc112f28244c8ba52c0228a9d8d6f",
            "27c006aa87204eeb915854f920d8672b",
            "47e744cdf65747a597efc28af2ccfd0e",
            "d293871d23fa4141a3068633dfb9ba74",
            "cc3b874915b54fae923e9f811dba883c",
            "106571c80ca949b29e76c87243f36d5a",
            "2600dfae8e334ecb824b0fb1c4e069c1",
            "6265ce6586ef40e28c63e80009ba1f22",
            "788fa1fb4dfc41f79536db16fa73378d",
            "b6965c0fcca749ad8647bfb14903375a",
            "5a0f7eee3a94481fb583a9530ae9b2d0",
            "d5a21a9ea4054d2c9d484cb28863c70b",
            "4a7dc627882f4c608833aa9761d32ec2"
          ]
        },
        "outputId": "1a83874f-fa80-4da2-a5f7-34502b4f9a09"
      },
      "source": [
        "# setup the tokenizer and configuration\n",
        "\n",
        "tokenizer = BertTokenizer.from_pretrained(MODEL_NAME_OR_PATH)\n",
        "config = BertConfig.from_pretrained(\n",
        "    MODEL_NAME_OR_PATH, **{\n",
        "        'label2id': label2id,\n",
        "        'id2label': id2label,\n",
        "    })\n",
        "\n",
        "print(config.to_json_string())"
      ],
      "execution_count": 150,
      "outputs": [
        {
          "output_type": "display_data",
          "data": {
            "text/plain": [
              "Downloading (…)solve/main/vocab.txt:   0%|          | 0.00/1.20M [00:00<?, ?B/s]"
            ],
            "application/vnd.jupyter.widget-view+json": {
              "version_major": 2,
              "version_minor": 0,
              "model_id": "6a9cfb88842e4bf8bebf11b94e6f1246"
            }
          },
          "metadata": {}
        },
        {
          "output_type": "display_data",
          "data": {
            "text/plain": [
              "Downloading (…)lve/main/config.json:   0%|          | 0.00/440 [00:00<?, ?B/s]"
            ],
            "application/vnd.jupyter.widget-view+json": {
              "version_major": 2,
              "version_minor": 0,
              "model_id": "47e744cdf65747a597efc28af2ccfd0e"
            }
          },
          "metadata": {}
        },
        {
          "output_type": "stream",
          "name": "stdout",
          "text": [
            "{\n",
            "  \"architectures\": [\n",
            "    \"BertForMaskedLM\"\n",
            "  ],\n",
            "  \"attention_probs_dropout_prob\": 0.1,\n",
            "  \"classifier_dropout\": null,\n",
            "  \"hidden_act\": \"gelu\",\n",
            "  \"hidden_dropout_prob\": 0.1,\n",
            "  \"hidden_size\": 768,\n",
            "  \"id2label\": {\n",
            "    \"-2\": \"mixed/boerderline\",\n",
            "    \"-1\": \"very negative\",\n",
            "    \"0\": \"negative\",\n",
            "    \"1\": \"neutral\",\n",
            "    \"2\": \"positive\",\n",
            "    \"3\": \"very positive\"\n",
            "  },\n",
            "  \"initializer_range\": 0.02,\n",
            "  \"intermediate_size\": 3072,\n",
            "  \"label2id\": {\n",
            "    \"mixed/boerderline\": -2,\n",
            "    \"negative\": 0,\n",
            "    \"neutral\": 1,\n",
            "    \"positive\": 2,\n",
            "    \"very negative\": -1,\n",
            "    \"very positive\": 3\n",
            "  },\n",
            "  \"layer_norm_eps\": 1e-12,\n",
            "  \"max_position_embeddings\": 512,\n",
            "  \"model_type\": \"bert\",\n",
            "  \"num_attention_heads\": 12,\n",
            "  \"num_hidden_layers\": 12,\n",
            "  \"pad_token_id\": 0,\n",
            "  \"position_embedding_type\": \"absolute\",\n",
            "  \"transformers_version\": \"4.30.2\",\n",
            "  \"type_vocab_size\": 2,\n",
            "  \"use_cache\": true,\n",
            "  \"vocab_size\": 100000\n",
            "}\n",
            "\n"
          ]
        }
      ]
    },
    {
      "cell_type": "markdown",
      "metadata": {
        "id": "cr9L9N91gSpm"
      },
      "source": [
        "#### Input Embeddings"
      ]
    },
    {
      "cell_type": "code",
      "metadata": {
        "id": "3BIajCqGgYEG",
        "colab": {
          "base_uri": "https://localhost:8080/"
        },
        "outputId": "1485ecb4-be68-4223-c275-ad5f1a76eab7"
      },
      "source": [
        "idx = np.random.randint(0, len(train))\n",
        "sample_rev = train.iloc[idx]['tokenized']\n",
        "sample_sent = train.iloc[idx]['sentiment']\n",
        "\n",
        "print(f'Sample: \\n{\" \".join(sample_rev)}\\n{sample_sent}')"
      ],
      "execution_count": 151,
      "outputs": [
        {
          "output_type": "stream",
          "name": "stdout",
          "text": [
            "Sample: \n",
            "طعم و بو بسیار عالی بود بخصوص اینکه ارگانیک هم هست ، ادم با خیال راحت مصرف میکنه\n",
            "2\n"
          ]
        }
      ]
    },
    {
      "cell_type": "code",
      "metadata": {
        "id": "ygnLJu8uhjPT",
        "colab": {
          "base_uri": "https://localhost:8080/"
        },
        "outputId": "315fe664-2d2f-49ad-af13-7ae3ed78da2d"
      },
      "source": [
        "tokens = train.iloc[idx][\"lemmatized\"]\n",
        "token_ids = tokenizer.convert_tokens_to_ids(tokens)\n",
        "\n",
        "print(f'  sentence: {\" \".join(sample_rev)}')\n",
        "print(f'  Coded_tokens: {tokens}')\n",
        "print(f'   Tokens: {tokenizer.convert_tokens_to_string(tokens)}')\n",
        "print(f'Token IDs: {token_ids}')"
      ],
      "execution_count": 152,
      "outputs": [
        {
          "output_type": "stream",
          "name": "stdout",
          "text": [
            "  sentence: طعم و بو بسیار عالی بود بخصوص اینکه ارگانیک هم هست ، ادم با خیال راحت مصرف میکنه\n",
            "  Coded_tokens: ['طعم', 'بو', 'بسیار', 'عالی', 'بخصوص', 'اینکه', 'ارگانیک', 'هست', '،', 'ادم', 'خیال', 'راحت', 'مصرف', 'میکنه']\n",
            "   Tokens: طعم بو بسیار عالی بخصوص اینکه ارگانیک هست ، ادم خیال راحت مصرف میکنه\n",
            "Token IDs: [7773, 5490, 3177, 4392, 9064, 3131, 14510, 2952, 1348, 5983, 8887, 6309, 3562, 12702]\n"
          ]
        }
      ]
    },
    {
      "cell_type": "code",
      "metadata": {
        "id": "jgsgZ2b5h2I4",
        "colab": {
          "base_uri": "https://localhost:8080/"
        },
        "outputId": "e7241e1c-339a-4de5-ea29-4048adbec1fb"
      },
      "source": [
        "encoding = tokenizer.encode_plus(\n",
        "    sample_sent,\n",
        "    max_length=MAX_LEN,\n",
        "    truncation=True,\n",
        "    add_special_tokens=True, # Add '[CLS]' and '[SEP]'\n",
        "    return_token_type_ids=True,\n",
        "    return_attention_mask=True,\n",
        "    padding='max_length',\n",
        "    return_tensors='pt',  # Return PyTorch tensors\n",
        ")\n",
        "\n",
        "print(f'Keys: {encoding.keys()}\\n')\n",
        "for k in encoding.keys():\n",
        "    print(f'{k}:\\n{encoding[k]}')"
      ],
      "execution_count": 153,
      "outputs": [
        {
          "output_type": "stream",
          "name": "stdout",
          "text": [
            "Keys: dict_keys(['input_ids', 'token_type_ids', 'attention_mask'])\n",
            "\n",
            "input_ids:\n",
            "tensor([[2, 1, 4, 0, 0, 0, 0, 0, 0, 0, 0, 0, 0, 0, 0, 0, 0, 0, 0, 0, 0, 0, 0, 0,\n",
            "         0, 0, 0, 0, 0, 0]])\n",
            "token_type_ids:\n",
            "tensor([[0, 0, 0, 0, 0, 0, 0, 0, 0, 0, 0, 0, 0, 0, 0, 0, 0, 0, 0, 0, 0, 0, 0, 0,\n",
            "         0, 0, 0, 0, 0, 0]])\n",
            "attention_mask:\n",
            "tensor([[1, 1, 1, 0, 0, 0, 0, 0, 0, 0, 0, 0, 0, 0, 0, 0, 0, 0, 0, 0, 0, 0, 0, 0,\n",
            "         0, 0, 0, 0, 0, 0]])\n"
          ]
        }
      ]
    },
    {
      "cell_type": "markdown",
      "metadata": {
        "id": "Pr8cRm9xiyKh"
      },
      "source": [
        "#### Dataset"
      ]
    },
    {
      "cell_type": "code",
      "metadata": {
        "id": "TaJBSSuMizgr"
      },
      "source": [
        "class SentDataset(torch.utils.data.Dataset):\n",
        "\n",
        "    def __init__(self, tokenizer, sent, targets=None, label_list=None, max_len=MAX_LEN):\n",
        "        self.sent = sent\n",
        "        self.targets = targets\n",
        "        self.has_target = isinstance(targets, list) or isinstance(targets, np.ndarray)\n",
        "\n",
        "        self.tokenizer = tokenizer\n",
        "        self.max_len = max_len\n",
        "\n",
        "\n",
        "        self.label_map = {label: i-2 for i, label in enumerate(label_list)} if isinstance(label_list, list) else {}\n",
        "\n",
        "    def __len__(self):\n",
        "        return len(self.sent)\n",
        "\n",
        "    def __getitem__(self, item):\n",
        "        sentence = str(self.sent[item])\n",
        "\n",
        "        if self.has_target:\n",
        "            target = self.targets[item]\n",
        "\n",
        "        encoding = self.tokenizer.encode_plus(\n",
        "            sentence,\n",
        "            add_special_tokens=True,\n",
        "            truncation=True,\n",
        "            max_length=self.max_len,\n",
        "            return_token_type_ids=True,\n",
        "            padding='max_length',\n",
        "            return_attention_mask=True,\n",
        "            return_tensors='pt')\n",
        "\n",
        "        inputs = {\n",
        "            'sentence': sentence,\n",
        "            'input_ids': encoding['input_ids'].flatten(),\n",
        "            'attention_mask': encoding['attention_mask'].flatten(),\n",
        "            'token_type_ids': encoding['token_type_ids'].flatten(),\n",
        "        }\n",
        "\n",
        "        if self.has_target:\n",
        "            inputs['targets'] = torch.tensor(target, dtype=torch.long)\n",
        "\n",
        "        return inputs\n",
        "\n",
        "\n",
        "def create_data_loader(x, y, tokenizer, max_len, batch_size, label_list):\n",
        "    dataset = SentDataset(\n",
        "        sent=x,\n",
        "        targets=y,\n",
        "        tokenizer=tokenizer,\n",
        "        max_len=max_len,\n",
        "        label_list=label_list)\n",
        "\n",
        "    return torch.utils.data.DataLoader(dataset, batch_size=batch_size)"
      ],
      "execution_count": 154,
      "outputs": []
    },
    {
      "cell_type": "code",
      "metadata": {
        "id": "JEcefj6fkZFl"
      },
      "source": [
        "label_list = name_list\n",
        "train_data_loader = create_data_loader(train['lemmatized'].to_numpy(), train['sentiment'].to_numpy(dtype=int), tokenizer, MAX_LEN, TRAIN_BATCH_SIZE, label_list)\n",
        "valid_data_loader = create_data_loader(valid['lemmatized'].to_numpy(), valid['sentiment'].to_numpy(dtype=int), tokenizer, MAX_LEN, VALID_BATCH_SIZE, label_list)\n",
        "test_data_loader = create_data_loader(test['lemmatized'].to_numpy(), None, tokenizer, MAX_LEN, TEST_BATCH_SIZE, label_list)"
      ],
      "execution_count": 162,
      "outputs": []
    },
    {
      "cell_type": "code",
      "metadata": {
        "id": "_qSxzPU2krDk",
        "colab": {
          "base_uri": "https://localhost:8080/"
        },
        "outputId": "a585f840-5382-401c-b8fe-909cdc4e0d3a"
      },
      "source": [
        "sample_data = next(iter(train_data_loader))\n",
        "\n",
        "print(sample_data.keys())\n",
        "\n",
        "print(sample_data['sentence'])\n",
        "print(sample_data['input_ids'].shape)\n",
        "print(sample_data['input_ids'][0, :])\n",
        "print(sample_data['attention_mask'].shape)\n",
        "print(sample_data['attention_mask'][0, :])\n",
        "print(sample_data['token_type_ids'].shape)\n",
        "print(sample_data['token_type_ids'][0, :])\n",
        "print(sample_data['targets'].shape)\n",
        "print(sample_data['targets'])"
      ],
      "execution_count": 163,
      "outputs": [
        {
          "output_type": "stream",
          "name": "stdout",
          "text": [
            "dict_keys(['sentence', 'input_ids', 'attention_mask', 'token_type_ids', 'targets'])\n",
            "[\"['کلا', 'محصولات', 'کامور', 'خوشمزه', 'س', 'مناسبه', 'افراد', 'دیابتیه']\", \"['نظر', 'من', 'اگه', 'کس', 'دنبال', 'یه', 'دون', 'نرمال', 'میگرده', 'واسه', 'مصرف', 'معمولی', 'روزانه', 'دون', 'بسیار', 'خوبیه']\", \"['کیفیت', 'بسته', 'بست#بند', 'تازگی', 'طعم', 'خوبی', 'برخورداره', 'ارزش', 'غذا', 'خرید', 'داره']\", \"['عطر', 'زیاده', '،', 'مزش', 'زیاد', 'تلخه', 'اصلا', 'خو', 'نیومد', 'مجبور', 'شد#شو', 'چای', 'ایرانی', 'مخلوط', 'کرد#کن', 'نا', 'بشه', 'خوردش']\", \"['من', 'خیلی', 'ماه', 'خور', 'عاشق', 'تن', 'ماه', '#هست', 'ولی', 'اینو', 'برای', 'بار', 'اول', 'امتحان', 'میکردم', 'پسندید#پسند', 'مجدد', 'سفارش', 'نمیدم', 'ظاهر', 'بد', '،', 'طعمش']\", \"['ساق', 'پوست', 'ساده', 'مرغ', 'مهیا', 'پروتئین', 'مقدار', 'کیلوگرم', 'کیفیت', 'مناسب', 'قیمت', 'صرفه', 'همچنین', 'ارسال', 'سریع', 'بسیار', 'عالی']\", \"['یک', 'طعم', 'عجیب', 'قریب', 'اصلا', 'شبیه', 'هنداونه', 'بود#باش', 'کاملا', 'مصتوعی']\", \"['طعم', 'خوبی', 'داشت#دار', 'وخوشمزه', 'مورد', 'پسند', 'همه', 'سنین']\", \"['من', 'دوست', 'داشت#دار', 'شگفت', 'انگیز', 'مقرون', 'صرفه']\", \"['من', 'فکر', 'نمیکردم', 'خوبی', 'باشه', '،', 'بو', 'خوبی', 'داره', '،', 'کرمای', 'خوب', '،', 'طعم', 'ترشی', 'اسپرسو', 'دوست', 'داشت#دار', 'خیلی', 'مناسبه', '،', 'دستگاه', 'خیلی', 'خوش', 'طعم', 'شد#شو']\", \"['دیگه', 'حد', 'مزه', 'فکر', 'نمیکردم', 'انگار', 'داشت#دار', 'نون', 'خشک', 'میخوری']\", \"['حاضر', 'نیستم', 'هیچ', 'برد#بر', 'دیگه', 'ای', 'عوض', 'کرد#کن', 'عالیه']\", \"['اندازه', 'تخم', 'مرغ', 'ها', 'نسبتا', 'درشت', 'قیمت', 'مناسب', 'تازه']\", \"['خیلی', 'خوشمزه', 'ست', 'خیلی', 'تازه', 'ست', 'ممنون', 'دیجیکالا']\", \"['همیشه', 'ویفرهای', 'خوشمزه', 'خانوادگی', 'دوست', 'داشت#دار', 'واقعا', 'نسبت', 'قیمتش', 'ارزش', 'خریدن', 'داره']\", \"['نوشیدنی', 'کیفیت', 'طعم', 'خوب', 'مناسب', 'بر', 'خوردار', 'خرید', 'راضیم']\"]\n",
            "torch.Size([16, 30])\n",
            "tensor([    2,  1021,  1005,  5569,  1005,  1010,  1005,  4080,  1005,  1010,\n",
            "         1005, 27612,  2007,  1005,  1010,  1005,  8477,  1005,  1010,  1005,\n",
            "         1364,  1005,  1010,  1005,  4006,  2008,  1005,  1010,  1005,     4])\n",
            "torch.Size([16, 30])\n",
            "tensor([1, 1, 1, 1, 1, 1, 1, 1, 1, 1, 1, 1, 1, 1, 1, 1, 1, 1, 1, 1, 1, 1, 1, 1,\n",
            "        1, 1, 1, 1, 1, 1])\n",
            "torch.Size([16, 30])\n",
            "tensor([0, 0, 0, 0, 0, 0, 0, 0, 0, 0, 0, 0, 0, 0, 0, 0, 0, 0, 0, 0, 0, 0, 0, 0,\n",
            "        0, 0, 0, 0, 0, 0])\n",
            "torch.Size([16])\n",
            "tensor([ 1,  2,  2, -2, -2,  2, -2,  1,  1,  2, -2,  2,  2,  2,  2,  1])\n"
          ]
        }
      ]
    },
    {
      "cell_type": "code",
      "metadata": {
        "id": "tDUNgRODuOTK",
        "colab": {
          "base_uri": "https://localhost:8080/"
        },
        "outputId": "972485bc-70d5-45ee-bc3d-13bf0ee1714e"
      },
      "source": [
        "sample_test = next(iter(test_data_loader))\n",
        "print(sample_test.keys())"
      ],
      "execution_count": 164,
      "outputs": [
        {
          "output_type": "stream",
          "name": "stdout",
          "text": [
            "dict_keys(['sentence', 'input_ids', 'attention_mask', 'token_type_ids'])\n"
          ]
        }
      ]
    },
    {
      "cell_type": "code",
      "metadata": {
        "id": "Mv75ARn_R_Dt"
      },
      "source": [
        "class ClassifierModel(nn.Module):\n",
        "\n",
        "    def __init__(self, config,output_size):\n",
        "        super(ClassifierModel, self).__init__()\n",
        "\n",
        "        self.bert = BertModel.from_pretrained(MODEL_NAME_OR_PATH)\n",
        "        self.dropout = nn.Dropout(config.hidden_dropout_prob)\n",
        "        self.classifier = nn.Linear(config.hidden_size,output_size)\n",
        "\n",
        "    def forward(self, input_ids, attention_mask, token_type_ids):\n",
        "        pooled_output = self.bert(\n",
        "            input_ids=input_ids,\n",
        "            attention_mask=attention_mask,\n",
        "            token_type_ids=token_type_ids)['pooler_output']\n",
        "\n",
        "        pooled_output = self.dropout(pooled_output)\n",
        "        logits = self.classifier(pooled_output)\n",
        "        return logits"
      ],
      "execution_count": 165,
      "outputs": []
    },
    {
      "cell_type": "code",
      "metadata": {
        "id": "VrObbZAdNTNl"
      },
      "source": [
        "import torch, gc\n",
        "\n",
        "gc.collect()\n",
        "torch.cuda.empty_cache()\n",
        "pt_model = None"
      ],
      "execution_count": 166,
      "outputs": []
    },
    {
      "cell_type": "code",
      "metadata": {
        "id": "7vzQGZGUmw3-",
        "colab": {
          "base_uri": "https://localhost:8080/",
          "height": 166,
          "referenced_widgets": [
            "b7b22a3cdbb44326a234d2b36ad81ed8",
            "ec0965213eeb4af3bfff3003c0bbf690",
            "7c175cf35b164ad399b9b61584126ac1",
            "1c8c2cb0bd6a4574a8ad04ede6d52554",
            "3caecc9e963d466cb66ed983ea591f49",
            "dc215cb73ddf4c9d9b3679f6c9070890",
            "9a7010f9545a415caa9323720c0c1b75",
            "500dda4dfa9641a083c916e262efc199",
            "b38eb7bdb97a437aaee5c1f8b1a110cb",
            "61f25b403dac4b58b808009ad07ff3ed",
            "66d2701d8d0f47be982ce560b1b5bab0"
          ]
        },
        "outputId": "f9512080-3f8a-49df-f694-ade4eec54cb2"
      },
      "source": [
        "pt_model = ClassifierModel(config=config,output_size=6)\n",
        "pt_model = pt_model.to(device)\n",
        "\n",
        "print('pt_model', type(pt_model))"
      ],
      "execution_count": 168,
      "outputs": [
        {
          "output_type": "display_data",
          "data": {
            "text/plain": [
              "Downloading pytorch_model.bin:   0%|          | 0.00/654M [00:00<?, ?B/s]"
            ],
            "application/vnd.jupyter.widget-view+json": {
              "version_major": 2,
              "version_minor": 0,
              "model_id": "b7b22a3cdbb44326a234d2b36ad81ed8"
            }
          },
          "metadata": {}
        },
        {
          "output_type": "stream",
          "name": "stderr",
          "text": [
            "Some weights of the model checkpoint at HooshvareLab/bert-fa-base-uncased were not used when initializing BertModel: ['cls.predictions.bias', 'cls.predictions.transform.dense.bias', 'cls.predictions.transform.LayerNorm.weight', 'cls.predictions.transform.LayerNorm.bias', 'cls.predictions.decoder.bias', 'cls.seq_relationship.weight', 'cls.predictions.decoder.weight', 'cls.seq_relationship.bias', 'cls.predictions.transform.dense.weight']\n",
            "- This IS expected if you are initializing BertModel from the checkpoint of a model trained on another task or with another architecture (e.g. initializing a BertForSequenceClassification model from a BertForPreTraining model).\n",
            "- This IS NOT expected if you are initializing BertModel from the checkpoint of a model that you expect to be exactly identical (initializing a BertForSequenceClassification model from a BertForSequenceClassification model).\n"
          ]
        },
        {
          "output_type": "stream",
          "name": "stdout",
          "text": [
            "pt_model <class '__main__.ClassifierModel'>\n"
          ]
        }
      ]
    },
    {
      "cell_type": "code",
      "source": [
        "for name,param in pt_model.named_parameters():\n",
        "    print(name)"
      ],
      "metadata": {
        "id": "Lr_-sMgyTNfZ",
        "colab": {
          "base_uri": "https://localhost:8080/"
        },
        "outputId": "792de5c7-b740-48f8-d35d-7792202a5fdb"
      },
      "execution_count": 169,
      "outputs": [
        {
          "output_type": "stream",
          "name": "stdout",
          "text": [
            "bert.embeddings.word_embeddings.weight\n",
            "bert.embeddings.position_embeddings.weight\n",
            "bert.embeddings.token_type_embeddings.weight\n",
            "bert.embeddings.LayerNorm.weight\n",
            "bert.embeddings.LayerNorm.bias\n",
            "bert.encoder.layer.0.attention.self.query.weight\n",
            "bert.encoder.layer.0.attention.self.query.bias\n",
            "bert.encoder.layer.0.attention.self.key.weight\n",
            "bert.encoder.layer.0.attention.self.key.bias\n",
            "bert.encoder.layer.0.attention.self.value.weight\n",
            "bert.encoder.layer.0.attention.self.value.bias\n",
            "bert.encoder.layer.0.attention.output.dense.weight\n",
            "bert.encoder.layer.0.attention.output.dense.bias\n",
            "bert.encoder.layer.0.attention.output.LayerNorm.weight\n",
            "bert.encoder.layer.0.attention.output.LayerNorm.bias\n",
            "bert.encoder.layer.0.intermediate.dense.weight\n",
            "bert.encoder.layer.0.intermediate.dense.bias\n",
            "bert.encoder.layer.0.output.dense.weight\n",
            "bert.encoder.layer.0.output.dense.bias\n",
            "bert.encoder.layer.0.output.LayerNorm.weight\n",
            "bert.encoder.layer.0.output.LayerNorm.bias\n",
            "bert.encoder.layer.1.attention.self.query.weight\n",
            "bert.encoder.layer.1.attention.self.query.bias\n",
            "bert.encoder.layer.1.attention.self.key.weight\n",
            "bert.encoder.layer.1.attention.self.key.bias\n",
            "bert.encoder.layer.1.attention.self.value.weight\n",
            "bert.encoder.layer.1.attention.self.value.bias\n",
            "bert.encoder.layer.1.attention.output.dense.weight\n",
            "bert.encoder.layer.1.attention.output.dense.bias\n",
            "bert.encoder.layer.1.attention.output.LayerNorm.weight\n",
            "bert.encoder.layer.1.attention.output.LayerNorm.bias\n",
            "bert.encoder.layer.1.intermediate.dense.weight\n",
            "bert.encoder.layer.1.intermediate.dense.bias\n",
            "bert.encoder.layer.1.output.dense.weight\n",
            "bert.encoder.layer.1.output.dense.bias\n",
            "bert.encoder.layer.1.output.LayerNorm.weight\n",
            "bert.encoder.layer.1.output.LayerNorm.bias\n",
            "bert.encoder.layer.2.attention.self.query.weight\n",
            "bert.encoder.layer.2.attention.self.query.bias\n",
            "bert.encoder.layer.2.attention.self.key.weight\n",
            "bert.encoder.layer.2.attention.self.key.bias\n",
            "bert.encoder.layer.2.attention.self.value.weight\n",
            "bert.encoder.layer.2.attention.self.value.bias\n",
            "bert.encoder.layer.2.attention.output.dense.weight\n",
            "bert.encoder.layer.2.attention.output.dense.bias\n",
            "bert.encoder.layer.2.attention.output.LayerNorm.weight\n",
            "bert.encoder.layer.2.attention.output.LayerNorm.bias\n",
            "bert.encoder.layer.2.intermediate.dense.weight\n",
            "bert.encoder.layer.2.intermediate.dense.bias\n",
            "bert.encoder.layer.2.output.dense.weight\n",
            "bert.encoder.layer.2.output.dense.bias\n",
            "bert.encoder.layer.2.output.LayerNorm.weight\n",
            "bert.encoder.layer.2.output.LayerNorm.bias\n",
            "bert.encoder.layer.3.attention.self.query.weight\n",
            "bert.encoder.layer.3.attention.self.query.bias\n",
            "bert.encoder.layer.3.attention.self.key.weight\n",
            "bert.encoder.layer.3.attention.self.key.bias\n",
            "bert.encoder.layer.3.attention.self.value.weight\n",
            "bert.encoder.layer.3.attention.self.value.bias\n",
            "bert.encoder.layer.3.attention.output.dense.weight\n",
            "bert.encoder.layer.3.attention.output.dense.bias\n",
            "bert.encoder.layer.3.attention.output.LayerNorm.weight\n",
            "bert.encoder.layer.3.attention.output.LayerNorm.bias\n",
            "bert.encoder.layer.3.intermediate.dense.weight\n",
            "bert.encoder.layer.3.intermediate.dense.bias\n",
            "bert.encoder.layer.3.output.dense.weight\n",
            "bert.encoder.layer.3.output.dense.bias\n",
            "bert.encoder.layer.3.output.LayerNorm.weight\n",
            "bert.encoder.layer.3.output.LayerNorm.bias\n",
            "bert.encoder.layer.4.attention.self.query.weight\n",
            "bert.encoder.layer.4.attention.self.query.bias\n",
            "bert.encoder.layer.4.attention.self.key.weight\n",
            "bert.encoder.layer.4.attention.self.key.bias\n",
            "bert.encoder.layer.4.attention.self.value.weight\n",
            "bert.encoder.layer.4.attention.self.value.bias\n",
            "bert.encoder.layer.4.attention.output.dense.weight\n",
            "bert.encoder.layer.4.attention.output.dense.bias\n",
            "bert.encoder.layer.4.attention.output.LayerNorm.weight\n",
            "bert.encoder.layer.4.attention.output.LayerNorm.bias\n",
            "bert.encoder.layer.4.intermediate.dense.weight\n",
            "bert.encoder.layer.4.intermediate.dense.bias\n",
            "bert.encoder.layer.4.output.dense.weight\n",
            "bert.encoder.layer.4.output.dense.bias\n",
            "bert.encoder.layer.4.output.LayerNorm.weight\n",
            "bert.encoder.layer.4.output.LayerNorm.bias\n",
            "bert.encoder.layer.5.attention.self.query.weight\n",
            "bert.encoder.layer.5.attention.self.query.bias\n",
            "bert.encoder.layer.5.attention.self.key.weight\n",
            "bert.encoder.layer.5.attention.self.key.bias\n",
            "bert.encoder.layer.5.attention.self.value.weight\n",
            "bert.encoder.layer.5.attention.self.value.bias\n",
            "bert.encoder.layer.5.attention.output.dense.weight\n",
            "bert.encoder.layer.5.attention.output.dense.bias\n",
            "bert.encoder.layer.5.attention.output.LayerNorm.weight\n",
            "bert.encoder.layer.5.attention.output.LayerNorm.bias\n",
            "bert.encoder.layer.5.intermediate.dense.weight\n",
            "bert.encoder.layer.5.intermediate.dense.bias\n",
            "bert.encoder.layer.5.output.dense.weight\n",
            "bert.encoder.layer.5.output.dense.bias\n",
            "bert.encoder.layer.5.output.LayerNorm.weight\n",
            "bert.encoder.layer.5.output.LayerNorm.bias\n",
            "bert.encoder.layer.6.attention.self.query.weight\n",
            "bert.encoder.layer.6.attention.self.query.bias\n",
            "bert.encoder.layer.6.attention.self.key.weight\n",
            "bert.encoder.layer.6.attention.self.key.bias\n",
            "bert.encoder.layer.6.attention.self.value.weight\n",
            "bert.encoder.layer.6.attention.self.value.bias\n",
            "bert.encoder.layer.6.attention.output.dense.weight\n",
            "bert.encoder.layer.6.attention.output.dense.bias\n",
            "bert.encoder.layer.6.attention.output.LayerNorm.weight\n",
            "bert.encoder.layer.6.attention.output.LayerNorm.bias\n",
            "bert.encoder.layer.6.intermediate.dense.weight\n",
            "bert.encoder.layer.6.intermediate.dense.bias\n",
            "bert.encoder.layer.6.output.dense.weight\n",
            "bert.encoder.layer.6.output.dense.bias\n",
            "bert.encoder.layer.6.output.LayerNorm.weight\n",
            "bert.encoder.layer.6.output.LayerNorm.bias\n",
            "bert.encoder.layer.7.attention.self.query.weight\n",
            "bert.encoder.layer.7.attention.self.query.bias\n",
            "bert.encoder.layer.7.attention.self.key.weight\n",
            "bert.encoder.layer.7.attention.self.key.bias\n",
            "bert.encoder.layer.7.attention.self.value.weight\n",
            "bert.encoder.layer.7.attention.self.value.bias\n",
            "bert.encoder.layer.7.attention.output.dense.weight\n",
            "bert.encoder.layer.7.attention.output.dense.bias\n",
            "bert.encoder.layer.7.attention.output.LayerNorm.weight\n",
            "bert.encoder.layer.7.attention.output.LayerNorm.bias\n",
            "bert.encoder.layer.7.intermediate.dense.weight\n",
            "bert.encoder.layer.7.intermediate.dense.bias\n",
            "bert.encoder.layer.7.output.dense.weight\n",
            "bert.encoder.layer.7.output.dense.bias\n",
            "bert.encoder.layer.7.output.LayerNorm.weight\n",
            "bert.encoder.layer.7.output.LayerNorm.bias\n",
            "bert.encoder.layer.8.attention.self.query.weight\n",
            "bert.encoder.layer.8.attention.self.query.bias\n",
            "bert.encoder.layer.8.attention.self.key.weight\n",
            "bert.encoder.layer.8.attention.self.key.bias\n",
            "bert.encoder.layer.8.attention.self.value.weight\n",
            "bert.encoder.layer.8.attention.self.value.bias\n",
            "bert.encoder.layer.8.attention.output.dense.weight\n",
            "bert.encoder.layer.8.attention.output.dense.bias\n",
            "bert.encoder.layer.8.attention.output.LayerNorm.weight\n",
            "bert.encoder.layer.8.attention.output.LayerNorm.bias\n",
            "bert.encoder.layer.8.intermediate.dense.weight\n",
            "bert.encoder.layer.8.intermediate.dense.bias\n",
            "bert.encoder.layer.8.output.dense.weight\n",
            "bert.encoder.layer.8.output.dense.bias\n",
            "bert.encoder.layer.8.output.LayerNorm.weight\n",
            "bert.encoder.layer.8.output.LayerNorm.bias\n",
            "bert.encoder.layer.9.attention.self.query.weight\n",
            "bert.encoder.layer.9.attention.self.query.bias\n",
            "bert.encoder.layer.9.attention.self.key.weight\n",
            "bert.encoder.layer.9.attention.self.key.bias\n",
            "bert.encoder.layer.9.attention.self.value.weight\n",
            "bert.encoder.layer.9.attention.self.value.bias\n",
            "bert.encoder.layer.9.attention.output.dense.weight\n",
            "bert.encoder.layer.9.attention.output.dense.bias\n",
            "bert.encoder.layer.9.attention.output.LayerNorm.weight\n",
            "bert.encoder.layer.9.attention.output.LayerNorm.bias\n",
            "bert.encoder.layer.9.intermediate.dense.weight\n",
            "bert.encoder.layer.9.intermediate.dense.bias\n",
            "bert.encoder.layer.9.output.dense.weight\n",
            "bert.encoder.layer.9.output.dense.bias\n",
            "bert.encoder.layer.9.output.LayerNorm.weight\n",
            "bert.encoder.layer.9.output.LayerNorm.bias\n",
            "bert.encoder.layer.10.attention.self.query.weight\n",
            "bert.encoder.layer.10.attention.self.query.bias\n",
            "bert.encoder.layer.10.attention.self.key.weight\n",
            "bert.encoder.layer.10.attention.self.key.bias\n",
            "bert.encoder.layer.10.attention.self.value.weight\n",
            "bert.encoder.layer.10.attention.self.value.bias\n",
            "bert.encoder.layer.10.attention.output.dense.weight\n",
            "bert.encoder.layer.10.attention.output.dense.bias\n",
            "bert.encoder.layer.10.attention.output.LayerNorm.weight\n",
            "bert.encoder.layer.10.attention.output.LayerNorm.bias\n",
            "bert.encoder.layer.10.intermediate.dense.weight\n",
            "bert.encoder.layer.10.intermediate.dense.bias\n",
            "bert.encoder.layer.10.output.dense.weight\n",
            "bert.encoder.layer.10.output.dense.bias\n",
            "bert.encoder.layer.10.output.LayerNorm.weight\n",
            "bert.encoder.layer.10.output.LayerNorm.bias\n",
            "bert.encoder.layer.11.attention.self.query.weight\n",
            "bert.encoder.layer.11.attention.self.query.bias\n",
            "bert.encoder.layer.11.attention.self.key.weight\n",
            "bert.encoder.layer.11.attention.self.key.bias\n",
            "bert.encoder.layer.11.attention.self.value.weight\n",
            "bert.encoder.layer.11.attention.self.value.bias\n",
            "bert.encoder.layer.11.attention.output.dense.weight\n",
            "bert.encoder.layer.11.attention.output.dense.bias\n",
            "bert.encoder.layer.11.attention.output.LayerNorm.weight\n",
            "bert.encoder.layer.11.attention.output.LayerNorm.bias\n",
            "bert.encoder.layer.11.intermediate.dense.weight\n",
            "bert.encoder.layer.11.intermediate.dense.bias\n",
            "bert.encoder.layer.11.output.dense.weight\n",
            "bert.encoder.layer.11.output.dense.bias\n",
            "bert.encoder.layer.11.output.LayerNorm.weight\n",
            "bert.encoder.layer.11.output.LayerNorm.bias\n",
            "bert.pooler.dense.weight\n",
            "bert.pooler.dense.bias\n",
            "classifier.weight\n",
            "classifier.bias\n"
          ]
        }
      ]
    },
    {
      "cell_type": "markdown",
      "metadata": {
        "id": "tFZQDfLlp0Sf"
      },
      "source": [
        "#### Training"
      ]
    },
    {
      "cell_type": "code",
      "source": [
        "from sklearn.metrics import classification_report\n",
        "from sklearn.metrics import f1_score\n",
        "from sklearn.utils import shuffle\n",
        "\n",
        "import plotly.express as px\n",
        "import plotly.graph_objects as go\n",
        "\n",
        "from tqdm.notebook import tqdm\n",
        "\n",
        "import os\n",
        "\n",
        "import copy\n",
        "import collections\n",
        "import torch"
      ],
      "metadata": {
        "id": "o3peRYrH4ykA"
      },
      "execution_count": 170,
      "outputs": []
    },
    {
      "cell_type": "code",
      "metadata": {
        "id": "e044fZSfBoKe"
      },
      "source": [
        "def simple_accuracy(y_true, y_pred):\n",
        "    return (y_true == y_pred).mean()\n",
        "\n",
        "def acc_and_f1(y_true, y_pred, average='weighted'):\n",
        "    acc = simple_accuracy(y_true, y_pred)\n",
        "    f1 = f1_score(y_true=y_true, y_pred=y_pred, average=average)\n",
        "    return {\n",
        "        \"acc\": acc,\n",
        "        \"f1\": f1,\n",
        "    }\n",
        "\n",
        "def y_loss(y_true, y_pred, losses):\n",
        "    y_true = torch.stack(y_true).cpu().detach().numpy()\n",
        "    y_pred = torch.stack(y_pred).cpu().detach().numpy()\n",
        "    y = [y_true, y_pred]\n",
        "    loss = np.mean(losses)\n",
        "\n",
        "    return y, loss\n",
        "\n",
        "\n",
        "def eval_op(model, data_loader, loss_fn):\n",
        "    model.eval()\n",
        "\n",
        "    losses = []\n",
        "    y_pred = []\n",
        "    y_true = []\n",
        "\n",
        "    with torch.no_grad():\n",
        "        for dl in tqdm(data_loader, total=len(data_loader), desc=\"Evaluation... \"):\n",
        "\n",
        "            input_ids = dl['input_ids']\n",
        "            attention_mask = dl['attention_mask']\n",
        "            token_type_ids = dl['token_type_ids']\n",
        "            targets = dl['targets']\n",
        "\n",
        "            # move tensors to GPU if CUDA is available\n",
        "            input_ids = input_ids.to(device)\n",
        "            attention_mask = attention_mask.to(device)\n",
        "            token_type_ids = token_type_ids.to(device)\n",
        "            targets = targets.to(device)\n",
        "\n",
        "            # compute predicted outputs by passing inputs to the model\n",
        "            outputs = model(\n",
        "                input_ids=input_ids,\n",
        "                attention_mask=attention_mask,\n",
        "                token_type_ids=token_type_ids)\n",
        "\n",
        "            # convert output probabilities to predicted class\n",
        "            _, preds = torch.max(outputs, dim=1)\n",
        "\n",
        "            # calculate the batch loss\n",
        "            loss = loss_fn(outputs, targets)\n",
        "\n",
        "            # accumulate all the losses\n",
        "            losses.append(loss.item())\n",
        "\n",
        "            y_pred.extend(preds)\n",
        "            y_true.extend(targets)\n",
        "\n",
        "    eval_y, eval_loss = y_loss(y_true, y_pred, losses)\n",
        "    return eval_y, eval_loss\n",
        "\n",
        "\n",
        "def train_op(model,\n",
        "             data_loader,\n",
        "             loss_fn,\n",
        "             optimizer,\n",
        "             scheduler,\n",
        "             step=0,\n",
        "             print_every_step=100,\n",
        "             eval=False,\n",
        "             eval_cb=None,\n",
        "             eval_loss_min=np.Inf,\n",
        "             eval_data_loader=None,\n",
        "             clip=0.0):\n",
        "\n",
        "    model.train()\n",
        "\n",
        "    losses = []\n",
        "    y_pred = []\n",
        "    y_true = []\n",
        "\n",
        "    for dl in tqdm(data_loader, total=len(data_loader), desc=\"Training... \"):\n",
        "        step += 1\n",
        "\n",
        "        input_ids = dl['input_ids']\n",
        "        attention_mask = dl['attention_mask']\n",
        "        token_type_ids = dl['token_type_ids']\n",
        "        targets = dl['targets']\n",
        "\n",
        "        # move tensors to GPU if CUDA is available\n",
        "        input_ids = input_ids.to(device)\n",
        "        attention_mask = attention_mask.to(device)\n",
        "        token_type_ids = token_type_ids.to(device)\n",
        "        targets = targets.to(device)\n",
        "\n",
        "        # clear the gradients of all optimized variables\n",
        "        optimizer.zero_grad()\n",
        "\n",
        "        # compute predicted outputs by passing inputs to the model\n",
        "        outputs = model(\n",
        "            input_ids=input_ids,\n",
        "            attention_mask=attention_mask,\n",
        "            token_type_ids=token_type_ids)\n",
        "\n",
        "        # convert output probabilities to predicted class\n",
        "        _, preds = torch.max(outputs, dim=1)\n",
        "\n",
        "        # calculate the batch loss\n",
        "        loss = loss_fn(outputs, targets)\n",
        "\n",
        "        # accumulate all the losses\n",
        "        losses.append(loss.item())\n",
        "\n",
        "        # compute gradient of the loss with respect to model parameters\n",
        "        loss.backward()\n",
        "\n",
        "        # `clip_grad_norm` helps prevent the exploding gradient problem in RNNs / LSTMs.\n",
        "        if clip > 0.0:\n",
        "            nn.utils.clip_grad_norm_(model.parameters(), max_norm=clip)\n",
        "\n",
        "        # perform optimization step\n",
        "        optimizer.step()\n",
        "\n",
        "        # perform scheduler step\n",
        "        scheduler.step()\n",
        "\n",
        "        y_pred.extend(preds)\n",
        "        y_true.extend(targets)\n",
        "\n",
        "        if eval:\n",
        "            train_y, train_loss = y_loss(y_true, y_pred, losses)\n",
        "            train_score = acc_and_f1(train_y[0], train_y[1], average='weighted')\n",
        "\n",
        "            if step % print_every_step == 0:\n",
        "                eval_y, eval_loss = eval_op(model, eval_data_loader, loss_fn)\n",
        "                eval_score = acc_and_f1(eval_y[0], eval_y[1], average='weighted')\n",
        "\n",
        "                if hasattr(eval_cb, '__call__'):\n",
        "                    eval_loss_min = eval_cb(model, step, train_score, train_loss, eval_score, eval_loss, eval_loss_min)\n",
        "\n",
        "    train_y, train_loss = y_loss(y_true, y_pred, losses)\n",
        "\n",
        "    return train_y, train_loss, step, eval_loss_min\n",
        "\n",
        "def eval_callback(epoch, epochs, output_path):\n",
        "    def eval_cb(model, step, train_score, train_loss, eval_score, eval_loss, eval_loss_min):\n",
        "        statement = ''\n",
        "        statement += 'Epoch: {}/{}...'.format(epoch, epochs)\n",
        "        statement += 'Step: {}...'.format(step)\n",
        "\n",
        "        statement += 'Train Loss: {:.6f}...'.format(train_loss)\n",
        "        statement += 'Train Acc: {:.3f}...'.format(train_score['acc'])\n",
        "\n",
        "        statement += 'Valid Loss: {:.6f}...'.format(eval_loss)\n",
        "        statement += 'Valid Acc: {:.3f}...'.format(eval_score['acc'])\n",
        "\n",
        "        print(statement)\n",
        "\n",
        "        if eval_loss <= eval_loss_min:\n",
        "            print('Validation loss decreased ({:.6f} --> {:.6f}).  Saving model ...'.format(\n",
        "                eval_loss_min,\n",
        "                eval_loss))\n",
        "\n",
        "            torch.save(model.state_dict(), output_path)\n",
        "            eval_loss_min = eval_loss\n",
        "\n",
        "        return eval_loss_min\n",
        "\n",
        "\n",
        "    return eval_cb"
      ],
      "execution_count": 171,
      "outputs": []
    },
    {
      "cell_type": "code",
      "metadata": {
        "id": "wTWrdialDAtN",
        "colab": {
          "base_uri": "https://localhost:8080/",
          "height": 524,
          "referenced_widgets": [
            "527194763b274c4193304f6f55f21d4c",
            "c96f5f2063d04e12942793db694fe8cd",
            "36df511ca4d84b61a1e20c0c3e72a66d",
            "f4b9dacc1b2840f3b12753b7fa7d6c4c",
            "79a6e6558ced46b9902fda64cf2326e5",
            "7923e423297b4747a0f39594c29beadc",
            "6f4dfb7d0a2c4d8d9db803c1a276dc51",
            "23d4727520f04d2999e2929d9c436646",
            "cc991dc48a8743cf95b988ac1d82d846",
            "e95de3c3b39f49d1b2ae9b68125259d5",
            "cf49da7e0422468daef302fd8c4dd1cd",
            "6e0486cc2a044ab28d5dca8f84b11397",
            "2b4bced1d06346e38bff8ea1f62bae29",
            "017ae33197dd42f3a3ec005e8fd4d8c2",
            "3c4f2c33b2804312afeff1929fd9b9aa",
            "bb03cf121e7f4955886c769377070a16",
            "fd48a0b5e034422392a7180871f61862",
            "822c7305dd3a4c46a2bd126289e07af9",
            "08dd99256eda436283081d47b2fdded3",
            "798ee1b0d0cc439f9457854d86290939",
            "7ca872543fef49bdaf9ee106c359b2d1",
            "95208bd64e5742aaa3095a1f0c3c069a"
          ]
        },
        "outputId": "81249f6d-18c1-4ffb-ee17-9df4aa9726da"
      },
      "source": [
        "from torch import optim\n",
        "from transformers import AdamW\n",
        "\n",
        "optimizer = optim.AdamW(pt_model.parameters(), lr=LEARNING_RATE)\n",
        "total_steps = len(train_data_loader) * EPOCHS\n",
        "scheduler = get_linear_schedule_with_warmup(\n",
        "    optimizer,\n",
        "    num_warmup_steps=0,\n",
        "    num_training_steps=total_steps\n",
        ")\n",
        "\n",
        "loss_fn = nn.CrossEntropyLoss()\n",
        "\n",
        "step = 0\n",
        "eval_loss_min = np.Inf\n",
        "history = collections.defaultdict(list)\n",
        "\n",
        "\n",
        "for epoch in tqdm(range(1, EPOCHS + 1), desc=\"Epochs... \"):\n",
        "    train_y, train_loss, step, eval_loss_min = train_op(\n",
        "        model=pt_model,\n",
        "        data_loader=train_data_loader,\n",
        "        loss_fn=loss_fn,\n",
        "        optimizer=optimizer,\n",
        "        scheduler=scheduler,\n",
        "        step=step,\n",
        "        print_every_step=EEVERY_EPOCH,\n",
        "        eval=True,\n",
        "        eval_cb=eval_callback(epoch, EPOCHS, OUTPUT_PATH),\n",
        "        eval_loss_min=eval_loss_min,\n",
        "        eval_data_loader=valid_data_loader,\n",
        "        clip=CLIP)\n",
        "\n",
        "    train_score = acc_and_f1(train_y[0], train_y[1], average='weighted')\n",
        "\n",
        "    eval_y, eval_loss = eval_op(\n",
        "        model=pt_model,\n",
        "        data_loader=valid_data_loader,\n",
        "        loss_fn=loss_fn)\n",
        "\n",
        "    eval_score = acc_and_f1(eval_y[0], eval_y[1], average='weighted')\n",
        "\n",
        "    history['train_acc'].append(train_score['acc'])\n",
        "    history['train_loss'].append(train_loss)\n",
        "    history['val_acc'].append(eval_score['acc'])\n",
        "    history['val_loss'].append(eval_loss)"
      ],
      "execution_count": 173,
      "outputs": [
        {
          "output_type": "display_data",
          "data": {
            "text/plain": [
              "Epochs... :   0%|          | 0/3 [00:00<?, ?it/s]"
            ],
            "application/vnd.jupyter.widget-view+json": {
              "version_major": 2,
              "version_minor": 0,
              "model_id": "527194763b274c4193304f6f55f21d4c"
            }
          },
          "metadata": {}
        },
        {
          "output_type": "display_data",
          "data": {
            "text/plain": [
              "Training... :   0%|          | 0/97 [00:00<?, ?it/s]"
            ],
            "application/vnd.jupyter.widget-view+json": {
              "version_major": 2,
              "version_minor": 0,
              "model_id": "6e0486cc2a044ab28d5dca8f84b11397"
            }
          },
          "metadata": {}
        },
        {
          "output_type": "error",
          "ename": "RuntimeError",
          "evalue": "ignored",
          "traceback": [
            "\u001b[0;31m---------------------------------------------------------------------------\u001b[0m",
            "\u001b[0;31mRuntimeError\u001b[0m                              Traceback (most recent call last)",
            "\u001b[0;32m<ipython-input-173-d77af7ab9ff8>\u001b[0m in \u001b[0;36m<cell line: 19>\u001b[0;34m()\u001b[0m\n\u001b[1;32m     18\u001b[0m \u001b[0;34m\u001b[0m\u001b[0m\n\u001b[1;32m     19\u001b[0m \u001b[0;32mfor\u001b[0m \u001b[0mepoch\u001b[0m \u001b[0;32min\u001b[0m \u001b[0mtqdm\u001b[0m\u001b[0;34m(\u001b[0m\u001b[0mrange\u001b[0m\u001b[0;34m(\u001b[0m\u001b[0;36m1\u001b[0m\u001b[0;34m,\u001b[0m \u001b[0mEPOCHS\u001b[0m \u001b[0;34m+\u001b[0m \u001b[0;36m1\u001b[0m\u001b[0;34m)\u001b[0m\u001b[0;34m,\u001b[0m \u001b[0mdesc\u001b[0m\u001b[0;34m=\u001b[0m\u001b[0;34m\"Epochs... \"\u001b[0m\u001b[0;34m)\u001b[0m\u001b[0;34m:\u001b[0m\u001b[0;34m\u001b[0m\u001b[0;34m\u001b[0m\u001b[0m\n\u001b[0;32m---> 20\u001b[0;31m     train_y, train_loss, step, eval_loss_min = train_op(\n\u001b[0m\u001b[1;32m     21\u001b[0m         \u001b[0mmodel\u001b[0m\u001b[0;34m=\u001b[0m\u001b[0mpt_model\u001b[0m\u001b[0;34m,\u001b[0m\u001b[0;34m\u001b[0m\u001b[0;34m\u001b[0m\u001b[0m\n\u001b[1;32m     22\u001b[0m         \u001b[0mdata_loader\u001b[0m\u001b[0;34m=\u001b[0m\u001b[0mtrain_data_loader\u001b[0m\u001b[0;34m,\u001b[0m\u001b[0;34m\u001b[0m\u001b[0;34m\u001b[0m\u001b[0m\n",
            "\u001b[0;32m<ipython-input-171-d6f9be3a1235>\u001b[0m in \u001b[0;36mtrain_op\u001b[0;34m(model, data_loader, loss_fn, optimizer, scheduler, step, print_every_step, eval, eval_cb, eval_loss_min, eval_data_loader, clip)\u001b[0m\n\u001b[1;32m     90\u001b[0m \u001b[0;34m\u001b[0m\u001b[0m\n\u001b[1;32m     91\u001b[0m         \u001b[0;31m# move tensors to GPU if CUDA is available\u001b[0m\u001b[0;34m\u001b[0m\u001b[0;34m\u001b[0m\u001b[0m\n\u001b[0;32m---> 92\u001b[0;31m         \u001b[0minput_ids\u001b[0m \u001b[0;34m=\u001b[0m \u001b[0minput_ids\u001b[0m\u001b[0;34m.\u001b[0m\u001b[0mto\u001b[0m\u001b[0;34m(\u001b[0m\u001b[0mdevice\u001b[0m\u001b[0;34m)\u001b[0m\u001b[0;34m\u001b[0m\u001b[0;34m\u001b[0m\u001b[0m\n\u001b[0m\u001b[1;32m     93\u001b[0m         \u001b[0mattention_mask\u001b[0m \u001b[0;34m=\u001b[0m \u001b[0mattention_mask\u001b[0m\u001b[0;34m.\u001b[0m\u001b[0mto\u001b[0m\u001b[0;34m(\u001b[0m\u001b[0mdevice\u001b[0m\u001b[0;34m)\u001b[0m\u001b[0;34m\u001b[0m\u001b[0;34m\u001b[0m\u001b[0m\n\u001b[1;32m     94\u001b[0m         \u001b[0mtoken_type_ids\u001b[0m \u001b[0;34m=\u001b[0m \u001b[0mtoken_type_ids\u001b[0m\u001b[0;34m.\u001b[0m\u001b[0mto\u001b[0m\u001b[0;34m(\u001b[0m\u001b[0mdevice\u001b[0m\u001b[0;34m)\u001b[0m\u001b[0;34m\u001b[0m\u001b[0;34m\u001b[0m\u001b[0m\n",
            "\u001b[0;31mRuntimeError\u001b[0m: CUDA error: device-side assert triggered\nCUDA kernel errors might be asynchronously reported at some other API call, so the stacktrace below might be incorrect.\nFor debugging consider passing CUDA_LAUNCH_BLOCKING=1.\nCompile with `TORCH_USE_CUDA_DSA` to enable device-side assertions.\n"
          ]
        }
      ]
    },
    {
      "cell_type": "markdown",
      "metadata": {
        "id": "C-ZvVuRsoYRK"
      },
      "source": [
        "#### Prediction"
      ]
    },
    {
      "cell_type": "code",
      "metadata": {
        "id": "dlpDbg0wDqKP"
      },
      "source": [
        "def predict(model, comments, tokenizer, max_len=MAX_LEN, batch_size=batch_size):\n",
        "    data_loader = create_data_loader(comments, None, tokenizer, max_len, batch_size, None)\n",
        "\n",
        "    predictions = []\n",
        "    prediction_probs = []\n",
        "\n",
        "\n",
        "    model.eval()\n",
        "    with torch.no_grad():\n",
        "        for dl in tqdm(data_loader, position=0):\n",
        "            input_ids = dl['input_ids']\n",
        "            attention_mask = dl['attention_mask']\n",
        "            token_type_ids = dl['token_type_ids']\n",
        "\n",
        "            # move tensors to GPU if CUDA is available\n",
        "            input_ids = input_ids.to(device)\n",
        "            attention_mask = attention_mask.to(device)\n",
        "            token_type_ids = token_type_ids.to(device)\n",
        "\n",
        "            # compute predicted outputs by passing inputs to the model\n",
        "            outputs = model(\n",
        "                input_ids=input_ids,\n",
        "                attention_mask=attention_mask,\n",
        "                token_type_ids=token_type_ids)\n",
        "\n",
        "            # convert output probabilities to predicted class\n",
        "            _, preds = torch.max(outputs, dim=1)\n",
        "\n",
        "            predictions.extend(preds)\n",
        "            prediction_probs.extend(F.softmax(outputs, dim=1))\n",
        "\n",
        "    predictions = torch.stack(predictions).cpu().detach().numpy()\n",
        "    prediction_probs = torch.stack(prediction_probs).cpu().detach().numpy()\n",
        "\n",
        "    return predictions, prediction_probs"
      ],
      "execution_count": null,
      "outputs": []
    },
    {
      "cell_type": "code",
      "metadata": {
        "id": "RRpWTfwdoWoS"
      },
      "source": [
        "test_sents = test['lemmatized'].to_numpy()\n",
        "preds, probs = predict(pt_model, test_sents, tokenizer, max_len=128)\n",
        "\n",
        "print(preds.shape, probs.shape)"
      ],
      "execution_count": null,
      "outputs": []
    },
    {
      "cell_type": "code",
      "source": [
        "preds"
      ],
      "metadata": {
        "id": "VNlmNh7jazk7"
      },
      "execution_count": null,
      "outputs": []
    },
    {
      "cell_type": "code",
      "source": [
        "preds_label = [id2label[t] for t in preds]\n",
        "preds_label[0:5]"
      ],
      "metadata": {
        "id": "PD-if3dzbK69"
      },
      "execution_count": null,
      "outputs": []
    },
    {
      "cell_type": "markdown",
      "source": [
        "####F1 Score and report"
      ],
      "metadata": {
        "id": "Vzor4JVfYv38"
      }
    },
    {
      "cell_type": "code",
      "metadata": {
        "id": "ZRL2bgDDpUG0"
      },
      "source": [
        "y_test, y_pred = test['sentiment'].values, preds\n",
        "\n",
        "print(f'F1: {f1_score(y_test, y_pred, average=\"weighted\")}')\n",
        "print(\"--------------classification_report---------------\")\n",
        "print(classification_report(y_test, y_pred, target_names=label_list))"
      ],
      "execution_count": null,
      "outputs": []
    },
    {
      "cell_type": "code",
      "source": [
        "from sklearn.metrics import confusion_matrix\n",
        "print(confusion_matrix(y_test,y_pred))"
      ],
      "metadata": {
        "id": "d7ZQQDSDd1Iu"
      },
      "execution_count": null,
      "outputs": []
    },
    {
      "cell_type": "markdown",
      "source": [
        "##Token classification"
      ],
      "metadata": {
        "id": "rkpVHmoAofvI"
      }
    },
    {
      "cell_type": "markdown",
      "source": [
        "###GRU and LSTM"
      ],
      "metadata": {
        "id": "byjufE1JoqdE"
      }
    },
    {
      "cell_type": "code",
      "source": [
        "class LSTMClassifier(nn.Module):\n",
        "\n",
        "    def __init__(self,\n",
        "        num_classes,\n",
        "        batch_size=10,\n",
        "        embedding_dim=100,\n",
        "        hidden_dim=50,\n",
        "        vocab_size=128):\n",
        "\n",
        "        super(LSTMClassifier, self).__init__()\n",
        "\n",
        "        initrange = 0.1\n",
        "\n",
        "        self.num_labels = num_classes\n",
        "        n = len(self.num_labels)\n",
        "        self.hidden_dim = hidden_dim\n",
        "        self.batch_size = batch_size\n",
        "\n",
        "        self.word_embeddings = nn.Embedding(vocab_size, embedding_dim)\n",
        "        self.word_embeddings.weight.data.uniform_(-initrange, initrange)\n",
        "        self.lstm = nn.LSTM(input_size=embedding_dim, hidden_size=hidden_dim, batch_first=True, bidirectional=True)  # !\n",
        "\n",
        "        print(\"# !\")\n",
        "\n",
        "        bi_grus = torch.nn.GRU(input_size=embedding_dim, hidden_size=hidden_dim, batch_first=True, bidirectional=True)\n",
        "        reverse_gru = torch.nn.GRU(input_size=embedding_dim, hidden_size=hidden_dim, batch_first=True, bidirectional=False)\n",
        "\n",
        "        self.lstm.weight_ih_l0_reverse = bi_grus.weight_ih_l0_reverse\n",
        "        self.lstm.weight_hh_l0_reverse = bi_grus.weight_hh_l0_reverse\n",
        "        self.lstm.bias_ih_l0_reverse = bi_grus.bias_ih_l0_reverse\n",
        "        self.lstm.bias_hh_l0_reverse = bi_grus.bias_hh_l0_reverse\n",
        "\n",
        "        bi_output, bi_hidden = bi_grus()\n",
        "        reverse_output, reverse_hidden = reverse_gru()\n",
        "\n",
        "        print(\"# !\")\n",
        "\n",
        "        # self.classifier = nn.Linear(hidden_dim, self.num_labels[0])\n",
        "        self.classifier = nn.Linear(2 * hidden_dim, self.num_labels[0])  # !\n",
        "\n",
        "\n",
        "    def repackage_hidden(h):\n",
        "        \"\"\"Wraps hidden states in new Tensors, to detach them from their history.\"\"\"\n",
        "\n",
        "        if isinstance(h, torch.Tensor):\n",
        "            return h.detach()\n",
        "        else:\n",
        "            return tuple(repackage_hidden(v) for v in h)\n",
        "\n",
        "\n",
        "    def forward(self, sentence, labels=None):\n",
        "        embeds = self.word_embeddings(sentence)\n",
        "        lstm_out, _ = self.lstm(embeds)  # lstm_out - 2 tensors, _ - hidden layer\n",
        "        print(lstm_out[:,-1,:])\n",
        "        tag_space = self.classifier(lstm_out[:,-1,:] + lstm_out[:,-1,:])  # !  # lstm_out[:,-1,:] - 1 tensor\n",
        "        logits = F.log_softmax(tag_space, dim=1)\n",
        "        loss = None\n",
        "        if labels:\n",
        "            loss = F.cross_entropy(logits.view(-1, self.num_labels[0]), labels[0].view(-1))\n",
        "        return loss, logits"
      ],
      "metadata": {
        "id": "7_aiplY5vSDm"
      },
      "execution_count": null,
      "outputs": []
    },
    {
      "cell_type": "markdown",
      "source": [
        "###Transformer-based model"
      ],
      "metadata": {
        "id": "erIlhAL1otbf"
      }
    }
  ]
}