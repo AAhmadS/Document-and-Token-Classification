{
  "nbformat": 4,
  "nbformat_minor": 0,
  "metadata": {
    "colab": {
      "provenance": [],
      "authorship_tag": "ABX9TyMhtgItc+qzslWIeD/dY6yx",
      "include_colab_link": true
    },
    "kernelspec": {
      "name": "python3",
      "display_name": "Python 3"
    },
    "language_info": {
      "name": "python"
    }
  },
  "cells": [
    {
      "cell_type": "markdown",
      "metadata": {
        "id": "view-in-github",
        "colab_type": "text"
      },
      "source": [
        "<a href=\"https://colab.research.google.com/github/AAhmadS/NLP_HW4/blob/main/Sentiment_analysis.ipynb\" target=\"_parent\"><img src=\"https://colab.research.google.com/assets/colab-badge.svg\" alt=\"Open In Colab\"/></a>"
      ]
    },
    {
      "cell_type": "markdown",
      "source": [
        "#NLP Homework 4"
      ],
      "metadata": {
        "id": "6f77_QYUoCU5"
      }
    },
    {
      "cell_type": "code",
      "source": [
        "!pip install -qU transformers\n",
        "!pip install -qU torchtext\n",
        "!pip install -qU fasttext"
      ],
      "metadata": {
        "colab": {
          "base_uri": "https://localhost:8080/"
        },
        "id": "AVW9dUiqqC2x",
        "outputId": "f5c59b6c-a377-493a-8ad8-e3fdc4503bc9"
      },
      "execution_count": 1,
      "outputs": [
        {
          "output_type": "stream",
          "name": "stdout",
          "text": [
            "\u001b[2K     \u001b[90m━━━━━━━━━━━━━━━━━━━━━━━━━━━━━━━━━━━━━━━━\u001b[0m \u001b[32m7.2/7.2 MB\u001b[0m \u001b[31m87.7 MB/s\u001b[0m eta \u001b[36m0:00:00\u001b[0m\n",
            "\u001b[2K     \u001b[90m━━━━━━━━━━━━━━━━━━━━━━━━━━━━━━━━━━━━━━\u001b[0m \u001b[32m236.8/236.8 kB\u001b[0m \u001b[31m18.7 MB/s\u001b[0m eta \u001b[36m0:00:00\u001b[0m\n",
            "\u001b[2K     \u001b[90m━━━━━━━━━━━━━━━━━━━━━━━━━━━━━━━━━━━━━━━━\u001b[0m \u001b[32m7.8/7.8 MB\u001b[0m \u001b[31m101.7 MB/s\u001b[0m eta \u001b[36m0:00:00\u001b[0m\n",
            "\u001b[2K     \u001b[90m━━━━━━━━━━━━━━━━━━━━━━━━━━━━━━━━━━━━━━━━\u001b[0m \u001b[32m1.3/1.3 MB\u001b[0m \u001b[31m66.9 MB/s\u001b[0m eta \u001b[36m0:00:00\u001b[0m\n",
            "\u001b[2K     \u001b[90m━━━━━━━━━━━━━━━━━━━━━━━━━━━━━━━━━━━━━━━━\u001b[0m \u001b[32m68.8/68.8 kB\u001b[0m \u001b[31m5.6 MB/s\u001b[0m eta \u001b[36m0:00:00\u001b[0m\n",
            "\u001b[?25h  Preparing metadata (setup.py) ... \u001b[?25l\u001b[?25hdone\n",
            "  Building wheel for fasttext (setup.py) ... \u001b[?25l\u001b[?25hdone\n"
          ]
        }
      ]
    },
    {
      "cell_type": "code",
      "source": [
        "!git clone https://github.com/facebookresearch/fastText.git"
      ],
      "metadata": {
        "colab": {
          "base_uri": "https://localhost:8080/"
        },
        "id": "UiLCZAB2qsPC",
        "outputId": "5b7c44d6-3b83-421f-d993-6ca4c427a198"
      },
      "execution_count": 2,
      "outputs": [
        {
          "output_type": "stream",
          "name": "stdout",
          "text": [
            "Cloning into 'fastText'...\n",
            "remote: Enumerating objects: 3943, done.\u001b[K\n",
            "remote: Counting objects: 100% (1002/1002), done.\u001b[K\n",
            "remote: Compressing objects: 100% (151/151), done.\u001b[K\n",
            "remote: Total 3943 (delta 903), reused 859 (delta 850), pack-reused 2941\u001b[K\n",
            "Receiving objects: 100% (3943/3943), 8.25 MiB | 42.05 MiB/s, done.\n",
            "Resolving deltas: 100% (2510/2510), done.\n"
          ]
        }
      ]
    },
    {
      "cell_type": "code",
      "source": [
        "import fasttext.util"
      ],
      "metadata": {
        "id": "3MbF6SqdsRvL"
      },
      "execution_count": 4,
      "outputs": []
    },
    {
      "cell_type": "code",
      "source": [
        "!sudo pip install fastText/.\n",
        "!cd fastText\n",
        "fasttext.util.download_model('fa', if_exists='ignore')\n",
        "ft = fasttext.load_model('cc.fa.300.bin')"
      ],
      "metadata": {
        "colab": {
          "base_uri": "https://localhost:8080/"
        },
        "id": "8Z4hRGDiquyb",
        "outputId": "4af93510-5d2a-4046-8e07-f59b09d4be2e"
      },
      "execution_count": null,
      "outputs": [
        {
          "output_type": "stream",
          "name": "stdout",
          "text": [
            "Looking in indexes: https://pypi.org/simple, https://us-python.pkg.dev/colab-wheels/public/simple/\n",
            "Processing ./fastText\n",
            "  Preparing metadata (setup.py) ... \u001b[?25l\u001b[?25hdone\n",
            "Requirement already satisfied: pybind11>=2.2 in /usr/local/lib/python3.10/dist-packages (from fasttext==0.9.2) (2.10.4)\n",
            "Requirement already satisfied: setuptools>=0.7.0 in /usr/local/lib/python3.10/dist-packages (from fasttext==0.9.2) (67.7.2)\n",
            "Requirement already satisfied: numpy in /usr/local/lib/python3.10/dist-packages (from fasttext==0.9.2) (1.22.4)\n",
            "Building wheels for collected packages: fasttext\n",
            "  Building wheel for fasttext (setup.py) ... \u001b[?25l\u001b[?25hdone\n",
            "  Created wheel for fasttext: filename=fasttext-0.9.2-cp310-cp310-linux_x86_64.whl size=4384288 sha256=f778e46d15aa1278d76a806135be813db3ee0d4ec7927fcf2373ca19229cc2db\n",
            "  Stored in directory: /tmp/pip-ephem-wheel-cache-njk8quld/wheels/8b/05/af/3cfae069d904597d44b309c956601b611bdf8967bcbe968903\n",
            "Successfully built fasttext\n",
            "Installing collected packages: fasttext\n",
            "  Attempting uninstall: fasttext\n",
            "    Found existing installation: fasttext 0.9.2\n",
            "    Uninstalling fasttext-0.9.2:\n",
            "      Successfully uninstalled fasttext-0.9.2\n",
            "Successfully installed fasttext-0.9.2\n",
            "Downloading https://dl.fbaipublicfiles.com/fasttext/vectors-crawl/cc.fa.300.bin.gz\n"
          ]
        }
      ]
    },
    {
      "cell_type": "code",
      "source": [
        "from google.colab import drive\n",
        "drive.mount('/content/drive')"
      ],
      "metadata": {
        "id": "u6e8tddyq1NL"
      },
      "execution_count": null,
      "outputs": []
    },
    {
      "cell_type": "code",
      "source": [
        "%cd /content/drive/MyDrive/nlp\n",
        "%mkdir nlp_hw4\n",
        "%cd nlp_hw4"
      ],
      "metadata": {
        "id": "8WTcBKFmq24T"
      },
      "execution_count": null,
      "outputs": []
    },
    {
      "cell_type": "markdown",
      "source": [
        "##Essential packages"
      ],
      "metadata": {
        "id": "WVv2J05RoLoy"
      }
    },
    {
      "cell_type": "code",
      "source": [
        "import pandas as pd\n",
        "import numpy as np\n",
        "from numpy import pad\n",
        "import matplotlib.pyplot as plt\n",
        "plt.switch_backend('agg')\n",
        "%matplotlib inline\n",
        "import matplotlib.ticker as ticker\n",
        "from collections import Counter\n",
        "from __future__ import unicode_literals, print_function, division\n",
        "import random\n",
        "from tqdm import tqdm\n",
        "from sklearn.model_selection import train_test_split\n",
        "from sklearn.utils import resample\n",
        "import seaborn as sns\n",
        "import fasttext.util\n",
        "\n",
        "\n",
        "import torch\n",
        "from torch import nn\n",
        "import torchtext\n",
        "from torchtext.vocab import Vocab\n",
        "from torch.nn.utils.rnn import pad_sequence\n",
        "from torch.utils.data import DataLoader, Dataset, TensorDataset\n",
        "from torchtext.data.utils import get_tokenizer\n",
        "import torch.nn.functional as F\n",
        "from torch import optim\n",
        "\n",
        "import nltk\n",
        "from nltk.tokenize import sent_tokenize\n",
        "\n",
        "from transformers import pipeline, AutoTokenizer"
      ],
      "metadata": {
        "id": "RH_5fv9ep_9J"
      },
      "execution_count": null,
      "outputs": []
    },
    {
      "cell_type": "markdown",
      "source": [
        "##Load data and analysis\n"
      ],
      "metadata": {
        "id": "2CCwlBiboO3F"
      }
    },
    {
      "cell_type": "code",
      "source": [
        "!unzip archive.zip\n",
        "\n",
        "df = pd.read_csv('data.csv')\n",
        "df.head(3)"
      ],
      "metadata": {
        "id": "MRPeM6-mqfgi"
      },
      "execution_count": null,
      "outputs": []
    },
    {
      "cell_type": "markdown",
      "source": [
        "##Document classification"
      ],
      "metadata": {
        "id": "Eiegma7PoVMV"
      }
    },
    {
      "cell_type": "markdown",
      "source": [
        "###Logistic regression"
      ],
      "metadata": {
        "id": "3suEqk9wojvj"
      }
    },
    {
      "cell_type": "markdown",
      "source": [
        "####Preprocess data<br/>implement the cross validation function"
      ],
      "metadata": {
        "id": "JTNoSqp0ozKQ"
      }
    },
    {
      "cell_type": "markdown",
      "source": [
        "####Train and evaluation section"
      ],
      "metadata": {
        "id": "3-emcgyypLQ4"
      }
    },
    {
      "cell_type": "markdown",
      "source": [
        "####Test"
      ],
      "metadata": {
        "id": "Cz5jz2SFpQuW"
      }
    },
    {
      "cell_type": "markdown",
      "source": [
        "###Transformer-based model"
      ],
      "metadata": {
        "id": "Zcnv5eAvomaU"
      }
    },
    {
      "cell_type": "markdown",
      "source": [
        "####Preprocess data(add token, tokenizaiton, padding)"
      ],
      "metadata": {
        "id": "ZU6dgtmppQIp"
      }
    },
    {
      "cell_type": "markdown",
      "source": [
        "####Train and evaluation section"
      ],
      "metadata": {
        "id": "KTR8U0QgpgwV"
      }
    },
    {
      "cell_type": "markdown",
      "source": [
        "####Test"
      ],
      "metadata": {
        "id": "KWTr0ohHpi_T"
      }
    },
    {
      "cell_type": "markdown",
      "source": [
        "##Token classification"
      ],
      "metadata": {
        "id": "rkpVHmoAofvI"
      }
    },
    {
      "cell_type": "markdown",
      "source": [
        "###GRU and LSTM"
      ],
      "metadata": {
        "id": "byjufE1JoqdE"
      }
    },
    {
      "cell_type": "code",
      "source": [
        "class LSTMClassifier(nn.Module):\n",
        "\n",
        "    def __init__(self,\n",
        "        num_classes,\n",
        "        batch_size=10,\n",
        "        embedding_dim=100,\n",
        "        hidden_dim=50,\n",
        "        vocab_size=128):\n",
        "\n",
        "        super(LSTMClassifier, self).__init__()\n",
        "\n",
        "        initrange = 0.1\n",
        "\n",
        "        self.num_labels = num_classes\n",
        "        n = len(self.num_labels)\n",
        "        self.hidden_dim = hidden_dim\n",
        "        self.batch_size = batch_size\n",
        "\n",
        "        self.word_embeddings = nn.Embedding(vocab_size, embedding_dim)\n",
        "        self.word_embeddings.weight.data.uniform_(-initrange, initrange)\n",
        "        self.lstm = nn.LSTM(input_size=embedding_dim, hidden_size=hidden_dim, batch_first=True, bidirectional=True)  # !\n",
        "\n",
        "        print(\"# !\")\n",
        "\n",
        "        bi_grus = torch.nn.GRU(input_size=embedding_dim, hidden_size=hidden_dim, batch_first=True, bidirectional=True)\n",
        "        reverse_gru = torch.nn.GRU(input_size=embedding_dim, hidden_size=hidden_dim, batch_first=True, bidirectional=False)\n",
        "\n",
        "        self.lstm.weight_ih_l0_reverse = bi_grus.weight_ih_l0_reverse\n",
        "        self.lstm.weight_hh_l0_reverse = bi_grus.weight_hh_l0_reverse\n",
        "        self.lstm.bias_ih_l0_reverse = bi_grus.bias_ih_l0_reverse\n",
        "        self.lstm.bias_hh_l0_reverse = bi_grus.bias_hh_l0_reverse\n",
        "\n",
        "        bi_output, bi_hidden = bi_grus()\n",
        "        reverse_output, reverse_hidden = reverse_gru()\n",
        "\n",
        "        print(\"# !\")\n",
        "\n",
        "        # self.classifier = nn.Linear(hidden_dim, self.num_labels[0])\n",
        "        self.classifier = nn.Linear(2 * hidden_dim, self.num_labels[0])  # !\n",
        "\n",
        "\n",
        "    def repackage_hidden(h):\n",
        "        \"\"\"Wraps hidden states in new Tensors, to detach them from their history.\"\"\"\n",
        "\n",
        "        if isinstance(h, torch.Tensor):\n",
        "            return h.detach()\n",
        "        else:\n",
        "            return tuple(repackage_hidden(v) for v in h)\n",
        "\n",
        "\n",
        "    def forward(self, sentence, labels=None):\n",
        "        embeds = self.word_embeddings(sentence)\n",
        "        lstm_out, _ = self.lstm(embeds)  # lstm_out - 2 tensors, _ - hidden layer\n",
        "        print(lstm_out[:,-1,:])\n",
        "        tag_space = self.classifier(lstm_out[:,-1,:] + lstm_out[:,-1,:])  # !  # lstm_out[:,-1,:] - 1 tensor\n",
        "        logits = F.log_softmax(tag_space, dim=1)\n",
        "        loss = None\n",
        "        if labels:\n",
        "            loss = F.cross_entropy(logits.view(-1, self.num_labels[0]), labels[0].view(-1))\n",
        "        return loss, logits"
      ],
      "metadata": {
        "id": "7_aiplY5vSDm"
      },
      "execution_count": null,
      "outputs": []
    },
    {
      "cell_type": "markdown",
      "source": [
        "###Transformer-based model"
      ],
      "metadata": {
        "id": "erIlhAL1otbf"
      }
    },
    {
      "cell_type": "markdown",
      "source": [],
      "metadata": {
        "id": "eLLb0XOVop9_"
      }
    },
    {
      "cell_type": "code",
      "execution_count": null,
      "metadata": {
        "id": "beF-TcxQnlh2"
      },
      "outputs": [],
      "source": []
    }
  ]
}