{
  "nbformat": 4,
  "nbformat_minor": 0,
  "metadata": {
    "colab": {
      "provenance": [],
      "authorship_tag": "ABX9TyPMU/8F7ZxrX/mFHuWlHyT/",
      "include_colab_link": true
    },
    "kernelspec": {
      "name": "python3",
      "display_name": "Python 3"
    },
    "language_info": {
      "name": "python"
    }
  },
  "cells": [
    {
      "cell_type": "markdown",
      "metadata": {
        "id": "view-in-github",
        "colab_type": "text"
      },
      "source": [
        "<a href=\"https://colab.research.google.com/github/AAhmadS/NLP_HW4/blob/main/Sentiment_analysis.ipynb\" target=\"_parent\"><img src=\"https://colab.research.google.com/assets/colab-badge.svg\" alt=\"Open In Colab\"/></a>"
      ]
    },
    {
      "cell_type": "markdown",
      "source": [
        "#NLP Homework 4"
      ],
      "metadata": {
        "id": "6f77_QYUoCU5"
      }
    },
    {
      "cell_type": "markdown",
      "source": [
        "##Essential packages"
      ],
      "metadata": {
        "id": "WVv2J05RoLoy"
      }
    },
    {
      "cell_type": "markdown",
      "source": [
        "##Load data and analysis"
      ],
      "metadata": {
        "id": "2CCwlBiboO3F"
      }
    },
    {
      "cell_type": "markdown",
      "source": [
        "##Document classification"
      ],
      "metadata": {
        "id": "Eiegma7PoVMV"
      }
    },
    {
      "cell_type": "markdown",
      "source": [
        "###Logistic regression"
      ],
      "metadata": {
        "id": "3suEqk9wojvj"
      }
    },
    {
      "cell_type": "markdown",
      "source": [
        "####Preprocess data<br/>implement the cross validation function"
      ],
      "metadata": {
        "id": "JTNoSqp0ozKQ"
      }
    },
    {
      "cell_type": "markdown",
      "source": [
        "####Train and evaluation section"
      ],
      "metadata": {
        "id": "3-emcgyypLQ4"
      }
    },
    {
      "cell_type": "markdown",
      "source": [
        "####Test"
      ],
      "metadata": {
        "id": "Cz5jz2SFpQuW"
      }
    },
    {
      "cell_type": "markdown",
      "source": [
        "###Transformer-based model"
      ],
      "metadata": {
        "id": "Zcnv5eAvomaU"
      }
    },
    {
      "cell_type": "markdown",
      "source": [
        "####Preprocess data(add token, tokenizaiton, padding)"
      ],
      "metadata": {
        "id": "ZU6dgtmppQIp"
      }
    },
    {
      "cell_type": "markdown",
      "source": [
        "####Train and evaluation section"
      ],
      "metadata": {
        "id": "KTR8U0QgpgwV"
      }
    },
    {
      "cell_type": "markdown",
      "source": [
        "####Test"
      ],
      "metadata": {
        "id": "KWTr0ohHpi_T"
      }
    },
    {
      "cell_type": "markdown",
      "source": [
        "##Token classification"
      ],
      "metadata": {
        "id": "rkpVHmoAofvI"
      }
    },
    {
      "cell_type": "markdown",
      "source": [
        "###GRU and LSTM"
      ],
      "metadata": {
        "id": "byjufE1JoqdE"
      }
    },
    {
      "cell_type": "markdown",
      "source": [
        "###Transformer-based model"
      ],
      "metadata": {
        "id": "erIlhAL1otbf"
      }
    },
    {
      "cell_type": "markdown",
      "source": [],
      "metadata": {
        "id": "eLLb0XOVop9_"
      }
    },
    {
      "cell_type": "code",
      "execution_count": null,
      "metadata": {
        "id": "beF-TcxQnlh2"
      },
      "outputs": [],
      "source": []
    }
  ]
}